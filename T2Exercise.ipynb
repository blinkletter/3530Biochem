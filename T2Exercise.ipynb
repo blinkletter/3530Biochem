{
 "cells": [
  {
   "cell_type": "markdown",
   "id": "f4387b72",
   "metadata": {},
   "source": [
    "# Problem Set Examples\n",
    "\n",
    "This is a *Jupyter* notebook using interactive *Python*. \n",
    "\n",
    "We can use this notebook as a calculator. The benefit is that all **our calculations can be documented** so that we can easily find errors or make changes without starting from the beginning. I recommend using *Python* notebooks for all your math. There are thousands of tools available through *Python* and we can go from the simple math of this notebook all the way to powerful data science and AI projects.\n",
    "\n",
    "We will demonstrate the problems from the \"**Math Ideas for Biochemistry - Part 1**\" document available on the moodle site. Observe how the *Python* code serves as the information on the method used. Now you can check my work and fix my mistakes. I make no promises that these answers are correct. It is your job to confirm them."
   ]
  },
  {
   "cell_type": "markdown",
   "id": "38c04ec2",
   "metadata": {},
   "source": [
    "## Problem 1 from Math Ideas\n",
    "\n",
    "The molecular mass of glucose is $180.2 \\frac{g}{mole}$. A sugar cube has a mass of $4.3$ grams. What is the concentration of a solution of glucose when 3 sugar cubes are dissolve in a total volume of $150$ mL of water? \n",
    "\n",
    "**Solution**\n",
    "\n",
    "This is a straightforward concentration problem. Observe the answer in the code below."
   ]
  },
  {
   "cell_type": "code",
   "execution_count": 49,
   "id": "3076fc93",
   "metadata": {
    "tags": [
     "hide-input"
    ]
   },
   "outputs": [
    {
     "name": "stdout",
     "output_type": "stream",
     "text": [
      "The concentration of glucose is 0.16 moles/L\n"
     ]
    }
   ],
   "source": [
    "mw = 180.2   #### g/mole\n",
    "m = 4.3      #### g\n",
    "v = 0.150    #### L\n",
    "\n",
    "moles = m / mw\n",
    "conc = moles / v\n",
    "\n",
    "print(f\"The concentration of glucose is {conc:0.2f} moles/L\")\n",
    "\n",
    "### THIS ANSWER IS WRONG. READ THE QUESTION CAREFULLY AND FIND MY ERROR. \n",
    "### The fact that my math was documented as python code allowed you to\n",
    "### find my mistake before the spaceship crashed. Small errors are just as bad \n",
    "### as big errors when you want to go to Mars. Both will result in your\n",
    "### billion-dollar spaceship being in a billion pieces.\n",
    "### There are no part marks on Mars."
   ]
  },
  {
   "cell_type": "markdown",
   "id": "828e5096",
   "metadata": {},
   "source": [
    "## Problem 2 from Math Ideas\n",
    "\n",
    "The equilibrium constant, $\\rm K_{eq}$, for $\\beta$-glucose converting to $\\alpha$-glucose is $0.56$. I observe that the concentration of $\\alpha$-glucose in a sample is $1.2$ mM. What is the concentration of $\\beta$-glucose if this system has reached equilibrium?\n",
    "\n",
    "**Solution**\n",
    "\n",
    "Use the equilibrium constant to solve the problem. The answer is documented in the code below. I don't have to explain anything as every step is described in the code. That is one great strength of recording you math in a language like *Python*.\n"
   ]
  },
  {
   "cell_type": "code",
   "execution_count": 51,
   "id": "45af5277",
   "metadata": {
    "tags": [
     "hide-input"
    ]
   },
   "outputs": [
    {
     "name": "stdout",
     "output_type": "stream",
     "text": [
      "The concentration of beta-glucose at equilibrium will be 2.14e-03 moles/L\n",
      "The concentration of beta-glucose at equilibrium will be 0.002142857 moles/L\n",
      "The concentration of beta-glucose at equilibrium will be 0.00214 moles/L\n",
      "The concentration of beta-glucose at equilibrium will be 2.14 millimoles/L\n"
     ]
    }
   ],
   "source": [
    "Keq = 0.56\n",
    "conc_alpha_glucose = 0.0012 # moles/L\n",
    "\n",
    "### Equilibrium equation rearranged to solve for beta glucose\n",
    "\n",
    "conc_beta_glucose = conc_alpha_glucose / Keq\n",
    "\n",
    "print(f\"The concentration of beta-glucose at equilibrium will be {conc_beta_glucose:0.2e} moles/L\")\n",
    "print(f\"The concentration of beta-glucose at equilibrium will be {conc_beta_glucose:0.9f} moles/L\")\n",
    "print(f\"The concentration of beta-glucose at equilibrium will be {conc_beta_glucose:0.3g} moles/L\")\n",
    "print(f\"The concentration of beta-glucose at equilibrium will be {1000 * conc_beta_glucose:0.2f} millimoles/L\")\n",
    "\n",
    "### What have you learned about printing numbers from the code above? Delete the \"f\" at the start of \n",
    "### the print command and see what happens. Change the numbers in :0.2f, etc. What does :10.10f do?\n",
    "\n"
   ]
  },
  {
   "cell_type": "markdown",
   "id": "f5c74c34",
   "metadata": {},
   "source": [
    "## Problem 3 from Math Ideas\n",
    "\n",
    "What is the free energy potential for a mixture of $\\beta$-glucose and $\\alpha$-glucose at equilibrium?\n",
    "\n",
    "**Solution**\n",
    "\n",
    "By definition, when we are at equilibrium the difference in energy between the population of products and the population of reactants is zero."
   ]
  },
  {
   "cell_type": "markdown",
   "id": "4ee572a4",
   "metadata": {},
   "source": [
    "## Problem 4 from Math Ideas\n",
    "\n",
    "What is the free energy potential, $\\Delta G$, of a solution of $0.1$ M $\\alpha$-glucose and $0.4$ M $\\beta$-glucose? If we are not at equilibrium, which direction will the process move to reach equilibrium. What would be the concentrations in this system after it reaches equilibrium? If I add a catalyst, how will it change the equilibrium?\n",
    "\n",
    "**Solution**\n",
    "\n",
    "The free energy of a system, $\\Delta G$, depends on the difference in free energy at the standard state, $\\Delta G^{\\circ}$, and the concentrations of reactants (the reaction quotient, $Q$)\n",
    "\n",
    "$$\\Delta G = \\Delta G^{\\circ} + RT\\ln Q$$ \n",
    "\n",
    "where \n",
    "\n",
    "$$Q = \\frac{[products]}{[reactants]}$$\n",
    "\n",
    "First obtain the standard free energy difference, $\\Delta G^{\\circ}$, using the equilibrium constnat reported above. The use the concentrations observed in this case to calculate the free energy difference, $\\Delta G$, in these conditions. When temperature is not reported always use $25$ $^{\\circ} C$.\n",
    "\n",
    "If the answer below is correct (check my work!) then the system is not at equilibrium and will proceed toward product as it moves to reach equilibrium."
   ]
  },
  {
   "cell_type": "code",
   "execution_count": 29,
   "id": "280ed147",
   "metadata": {
    "tags": [
     "hide-input"
    ]
   },
   "outputs": [
    {
     "name": "stdout",
     "output_type": "stream",
     "text": [
      "The standard difference in free energy is +1.44 kJ/mole\n",
      "The difference in observed free energy at the concentrations given is -2.00 kJ/mole\n"
     ]
    }
   ],
   "source": [
    "import numpy as np\n",
    "\n",
    "### get standard free energy difference from Keq in problem 2\n",
    "\n",
    "Keq = 0.56   ### note that Q = Keq when we are at equilibrium\n",
    "d_G = 0      ### the free energy difference is zero at equilibrium\n",
    "\n",
    "R = 8.314  # J / (K * mole) gas constant\n",
    "T = 273 + 25  # 25 degrees C in kelvin = 298K\n",
    "\n",
    "### rearrange the equation to solve for standard free energy. \n",
    "\n",
    "Q = Keq\n",
    "d_G_standard = -R*T*np.log(Q)\n",
    "\n",
    "print(f\"The standard difference in free energy is {d_G_standard/1000:+0.2f} kJ/mole\")\n",
    "\n",
    "conc_alpha_glucose = 0.1  ### moles/L\n",
    "conc_beta_glucose = 0.4   ### moles/L\n",
    "\n",
    "Q = conc_alpha_glucose / conc_beta_glucose  ### alpha is product, beta is reactant\n",
    "\n",
    "d_G = d_G_standard + R * T * np.log(Q)\n",
    "\n",
    "print(f\"The difference in observed free energy at the concentrations given is {d_G/1000:+0.2f} kJ/mole\")"
   ]
  },
  {
   "cell_type": "markdown",
   "id": "5d4f277d",
   "metadata": {},
   "source": [
    "## Problem 5 from Math Ideas\n",
    "\n",
    "The specific optical rotation of $+\\alpha$-glucose is $112\\frac{degrees}{dm\\cdot M}$. What is the observed optical rotation observed using a polarimeter for a solution with a concentration of $5.3$ mM? Assume that we are using the standard $10$ cm (one dm) sample tube.\n",
    "\n",
    "**Solution**\n",
    "\n",
    "This is an example of straightforward dimensional analysis. Examine the code below and correct any errors."
   ]
  },
  {
   "cell_type": "code",
   "execution_count": 30,
   "id": "0ecd77f3",
   "metadata": {
    "tags": [
     "hide-input"
    ]
   },
   "outputs": [
    {
     "name": "stdout",
     "output_type": "stream",
     "text": [
      "The observed optical rotation is +0.59 degrees\n"
     ]
    }
   ],
   "source": [
    "sp_opt_rotation = 112   ### degrees per decimeter per molar\n",
    "conc = 5.3              ### millimolar. We will need to convert this to molar\n",
    "conc = conc / 1000      ### we convert millimoles to moles to get mole/L\n",
    "d = 1                   ### decimeters. often ignored in these calculations\n",
    "\n",
    "obs_rotation = sp_opt_rotation * conc * d\n",
    "\n",
    "print(f\"The observed optical rotation is {obs_rotation:+0.2f} degrees\")"
   ]
  },
  {
   "cell_type": "markdown",
   "id": "f0081fc1",
   "metadata": {},
   "source": [
    "## Problem 6 from Math Ideas\n",
    "\n",
    "How many microlitres are there in a millilitre? How many grams are there in a kilogram? What is $10$ $\\mu M$ in units of Molar? What is $7$ $\\frac{kJ}{mole}$ in units of $\\frac{J}{mole}$?\n",
    "\n",
    "**Solution**\n",
    "\n",
    "This is all unit conversions. I will leave you to answer this on your own.\n"
   ]
  },
  {
   "cell_type": "markdown",
   "id": "a6628a6c",
   "metadata": {},
   "source": [
    "## Problem 7 from Math Ideas\n",
    "\n",
    "I am observing the initial rate of a reaction at a wavelength of $280$ nm. The molar extinction coefficient, $e_{280}$, of the starting material at $280$ nm is $7000$ $M^{-1}$ (for a $1$ cm cuvette). The initial absorbance of the reaction mixture is $0.87$ AU. After one minute, the absorbance is $0.82$ AU. (Assume that our reactant is the only molecule that absorbs light at $280$ nm).\n",
    "\n",
    "1. What is the initial concentration of the starting material?\n",
    "1. What is the concentration after one minute?\n",
    "1. What is the initial rate of reaction based on those two data points?\n",
    "1. What is the first order rate constant for the disappearance of the observed reactant (assuming a first order reaction)?\n",
    "1. Is the initial rate method appropriate in this case?\n",
    "\n",
    "**Solution**\n",
    "\n",
    "Examine the code below for the answers. I am presenting each part of the question is a separate block of code. "
   ]
  },
  {
   "cell_type": "code",
   "execution_count": 41,
   "id": "21184f80",
   "metadata": {
    "tags": [
     "hide-input"
    ]
   },
   "outputs": [
    {
     "name": "stdout",
     "output_type": "stream",
     "text": [
      "The initial concentration is 0.000124286 moles/L\n",
      "The initial concentration is 0.1243 millimoles/L\n"
     ]
    }
   ],
   "source": [
    "e_280 = 7000  ### per molar\n",
    "A_0 = 0.87    ### initial absorbance\n",
    "\n",
    "conc_0 = A_0 / e_280\n",
    "\n",
    "print(f\"The initial concentration is {conc_0:0.9f} moles/L\")\n",
    "print(f\"The initial concentration is {conc_0 * 1000:0.4f} millimoles/L\")"
   ]
  },
  {
   "cell_type": "code",
   "execution_count": 40,
   "id": "fa716ea8",
   "metadata": {
    "tags": [
     "hide-input"
    ]
   },
   "outputs": [
    {
     "name": "stdout",
     "output_type": "stream",
     "text": [
      "The concentration after one minute is 0.1171 millimoles/L\n"
     ]
    }
   ],
   "source": [
    "A_t = 0.82     ### absorbance at time point (one minute)\n",
    "\n",
    "conc_t = A_t / e_280\n",
    "\n",
    "print(f\"The concentration after one minute is {conc_t * 1000:0.4f} millimoles/L\")"
   ]
  },
  {
   "cell_type": "code",
   "execution_count": 43,
   "id": "fafc78d3",
   "metadata": {
    "tags": [
     "hide-input"
    ]
   },
   "outputs": [
    {
     "name": "stdout",
     "output_type": "stream",
     "text": [
      "The initial rate of change in concentration is -50.00 millimoles/L.min\n"
     ]
    }
   ],
   "source": [
    "time = 1       ### time is 1 minute\n",
    "\n",
    "init_rate = (A_t - A_0) / time\n",
    "\n",
    "print(f\"The initial rate of change in concentration is {init_rate * 1000:0.2f} millimoles/L.min\")"
   ]
  },
  {
   "cell_type": "code",
   "execution_count": 48,
   "id": "c7c77cd2",
   "metadata": {
    "tags": [
     "hide-input"
    ]
   },
   "outputs": [
    {
     "name": "stdout",
     "output_type": "stream",
     "text": [
      "The rate constant is 0.05747126436781615 per minute\n",
      "The rate constant is 0.057 per minute\n",
      "The rate constant is 0.0575 per minute\n",
      "The rate constant is 5.747e-02 per minute\n",
      "The rate constant is 9.579e-04 per second\n"
     ]
    }
   ],
   "source": [
    "first_order_rate_const = -init_rate / A_0  ### initial rate / initial concentration\n",
    "\n",
    "print(f\"The rate constant is {first_order_rate_const} per minute\")\n",
    "print(f\"The rate constant is {first_order_rate_const:0.3f} per minute\")\n",
    "print(f\"The rate constant is {first_order_rate_const:0.3g} per minute\")\n",
    "print(f\"The rate constant is {first_order_rate_const:0.3e} per minute\")\n",
    "print(f\"The rate constant is {first_order_rate_const/60:0.3e} per second\")"
   ]
  },
  {
   "cell_type": "markdown",
   "id": "f6ceabff",
   "metadata": {},
   "source": [
    "## Problem 8 from Math Ideas\n",
    "\n",
    "I add 10 mL of 0.1 M HCl to 170 mL of pure water. What is the *p*H of this new solution? \n",
    "\n",
    "**Solution**\n",
    "\n",
    "This is a simple $\\rm c_1v_1 = c_2v_2$ problem with the addition of converting your answer to $\\rm pH$.\n",
    "\n",
    "The initial colume, $\\rm c_1$, is 10 mL. The final volume, $\\rm C_2$, will be 180 mL (170 mL + 10 mL). The initial concentration of HCl is 0.1 M. HCl is a very strong acid and will be 100% dissociated, so we can say that the hydronium ion concentration will be the concentration of HCl.\n",
    "\n",
    "Examine the *Python* commands below. Observe how they are no different than using a calculator."
   ]
  },
  {
   "cell_type": "code",
   "execution_count": 1,
   "id": "88b7788a",
   "metadata": {
    "tags": [
     "hide-input"
    ]
   },
   "outputs": [
    {
     "name": "stdout",
     "output_type": "stream",
     "text": [
      "the pH is 2.23\n"
     ]
    }
   ],
   "source": [
    "import numpy as np    # import additional math tools\n",
    "\n",
    "v1 = 10 # mL\n",
    "v1 = v1 / 1000  # convert mL to L\n",
    "c1 = 0.1 # moles/L\n",
    "\n",
    "volumeWater = 170 # mL\n",
    "\n",
    "v2 = volumeWater + v1\n",
    "v2 = v2 / 1000  # convert mL to L\n",
    "\n",
    "c2 = v1 * c1 / v2\n",
    "\n",
    "pH = -np.log10(c2)\n",
    "\n",
    "print(f\"the pH is {pH:0.2f}\")"
   ]
  },
  {
   "cell_type": "markdown",
   "id": "3871e8c1",
   "metadata": {},
   "source": [
    "## Problem 9 from Math Ideas\n",
    "\n",
    "I have 230 mL of a solution of pure water with enough HCl added to make the *p*H equal to 4.5. I add 10 mL of a 0.15 M NaOH solution. What is the *p*H now? \n",
    "\n",
    "**Solution**\n",
    "\n",
    "We have a volume and concentration for an HCl solution. $\\rm [HCl] = [H^+]$ and we can get $\\rm [H^+]$ from the $\\rm pH$ value.\n",
    "\n",
    "Obtain the number of moles of HCl present, subtract the number of moles of NaOH added, and then divide by the new volume to get the concentration of HCl remaining. Then convert to $\\rm pH$."
   ]
  },
  {
   "cell_type": "code",
   "execution_count": 2,
   "id": "01d67560",
   "metadata": {
    "tags": [
     "hide-input"
    ]
   },
   "outputs": [
    {
     "name": "stdout",
     "output_type": "stream",
     "text": [
      "the pH is 11.79\n"
     ]
    }
   ],
   "source": [
    "pH = 4.5\n",
    "v1 = 230 # mL\n",
    "v1 = v1/1000 # convert mL to L\n",
    "c1 = 10**(-pH) # Units will be moles/L\n",
    "\n",
    "moles_HCl = c1 * v1\n",
    "\n",
    "volumeNaOHsolution = 10 # mL\n",
    "volumeNaOHsolution = volumeNaOHsolution/1000 # convert mL to L\n",
    "concNaOHsolution = 0.15 # moles/L\n",
    "\n",
    "molesNaOH = volumeNaOHsolution * concNaOHsolution\n",
    "\n",
    "molesBase = molesNaOH - moles_HCl\n",
    "\n",
    "concBase = molesBase / (v1 + volumeNaOHsolution)\n",
    "\n",
    "pOH = -np.log10(concBase)\n",
    "pH = 14 - pOH\n",
    "\n",
    "print(f\"the pH is {pH:0.2f}\")"
   ]
  },
  {
   "cell_type": "markdown",
   "id": "99a0d138",
   "metadata": {},
   "source": [
    "## Problem 10 from Math Ideas\n",
    "\n",
    "I have 230 mL of a solution of 0.2 M acetic acid and have added enough sodium hydroxide solution to set the $\\rm pH$ to 4.5. The $\\rm pK_a$ of acetic acid is 4.7. \n",
    "\n",
    "1. What are the concentrations of acetate ion and acetic acid in this solution? \n",
    "2. I add 10 mL of a 0.15 M NaOH solution. What is the $\\rm pH$ now? \n",
    "\n",
    "**Solution**\n",
    "\n",
    "Calculate the moles of Acetic acid (the acidic for, HOAc) in the sample and compare it to the moles of NaOH to be added.  We will see that there will be an excess of NaOH. So I subtract [HOAc] from [NaOH] to get the concentration of hydroxide ion in the new solution. I then obtained the $\\rm pOH$, and from that, the $\\rm pH$\n"
   ]
  },
  {
   "cell_type": "code",
   "execution_count": 3,
   "id": "b36eedf1",
   "metadata": {
    "tags": [
     "hide-input"
    ]
   },
   "outputs": [
    {
     "name": "stdout",
     "output_type": "stream",
     "text": [
      "the A/AH ratio is 0.631\n",
      "molesNaOH = 0.0015\n",
      "molesA = 0.018\n",
      "molesHA = 0.028\n",
      "It will take 188.0 mL of NaOH solution to overcome the buffer completely\n",
      "After NaOH molesA = 0.019\n",
      "After NaOH molesHA = 0.027\n",
      "After NaOH the A/AH ratio is = 0.723\n",
      "\n",
      "the pH is 4.56\n"
     ]
    }
   ],
   "source": [
    "pHsolution = 4.5\n",
    "volumeSolution = 230 # mL\n",
    "volumeSolution = volumeSolution/1000 # convert mL to L\n",
    "concAceticAcid = 0.2 # moles/L\n",
    "molesAceticAcid = concAceticAcid * volumeSolution\n",
    "\n",
    "pKaAceticAcid = 4.7\n",
    "\n",
    "# Use Henderson-Hasselbalch\n",
    "# pH = pKa + log10(A/HA)\n",
    "#\n",
    "# A/HA = 10**(pH - pKa)\n",
    "\n",
    "A_HA_ratio = 10**(pHsolution - pKaAceticAcid)\n",
    "print(f\"the A/AH ratio is {A_HA_ratio:0.3f}\")\n",
    "\n",
    "moleFractionA = A_HA_ratio/(A_HA_ratio+1)\n",
    "moleFractionHA = 1/(A_HA_ratio+1)\n",
    "\n",
    "volumeNaOHsolution = 10 # mL\n",
    "volumeNaOHsolution = volumeNaOHsolution/1000 # convert mL to L\n",
    "concNaOHsolution = 0.15 # moles/L\n",
    "\n",
    "molesNaOH = volumeNaOHsolution * concNaOHsolution\n",
    "print(f\"molesNaOH = {molesNaOH:0.4f}\")\n",
    "\n",
    "\n",
    "molesA = molesAceticAcid * moleFractionA\n",
    "molesHA = molesAceticAcid * moleFractionHA\n",
    "\n",
    "print(f\"molesA = {molesA:0.3f}\")\n",
    "print(f\"molesHA = {molesHA:0.3f}\")\n",
    "print(f\"It will take {molesHA/concNaOHsolution*1000:0.1f} mL of NaOH solution to overcome the buffer completely\")\n",
    "\n",
    "molesA = molesA + molesNaOH\n",
    "molesHA = molesHA - molesNaOH\n",
    "\n",
    "print(f\"After NaOH molesA = {molesA:0.3f}\")\n",
    "print(f\"After NaOH molesHA = {molesHA:0.3f}\")\n",
    "\n",
    "A_HA_ratio = molesA/molesHA\n",
    "print(f\"After NaOH the A/AH ratio is = {A_HA_ratio:0.3f}\")\n",
    "\n",
    "\n",
    "pH = pKaAceticAcid + np.log10(A_HA_ratio)\n",
    "print()\n",
    "print(f\"the pH is {pH:0.2f}\")"
   ]
  },
  {
   "cell_type": "markdown",
   "id": "ae409c08",
   "metadata": {},
   "source": [
    "## Making a Buffer for the Assignment\n",
    "\n",
    "The math below involves making a buffer for a biochemical experiment. In this example, I will be using HEPES buffer. It is an organic molecule that is compatible with cells and the acidic form has a $\\rm pK_a$ value of $7.43$. I will purchase a bottle of crystaline [HEPES (the acidic form)](https://www.sigmaaldrich.com/CA/en/substance/hepes238307365459) and a bottle of crystaline [HEPES sodium salt (the basic form)](https://www.sigmaaldrich.com/CA/en/substance/hepessodiumsalt2602975277393). I want to make a $1.5$ L volume with a total HEPES concentration of $200$ mM and a $\\rm pH$ of $7.15$.\n",
    "\n",
    "We know the $\\rm pH$, the $\\rm pK_a$ of the acid form of HEPES and the molar mass of both materials (just click on the links in the above paragraph to get more information about both).\n",
    "\n",
    "We can get the needed ratio of the two forms, the value of $\\frac{[A]}{[HA]}$ required if $\\rm pH = 7.15$ by using the Hendersson-Haselbalch equation. \n",
    "\n",
    "$$pH = pK_a + \\log{\\frac{[A]}{[HA]}}$$\n",
    "\n",
    "and we want the total concentration of both forms of HEPES to be $200$ mM so we can say that\n",
    "\n",
    "$$[A]+[HA]=0.200$$\n",
    "\n",
    "The code below will serve as a calculator for our math.  Observe how what you do is recorded in the text of the code itself. You can come back to this code and change some numbers to use it again. Feel free to **steal it** and modify it for your own needs.\n",
    "\n"
   ]
  },
  {
   "cell_type": "code",
   "execution_count": 14,
   "id": "1cf60c6e",
   "metadata": {
    "tags": [
     "hide-input"
    ]
   },
   "outputs": [
    {
     "name": "stdout",
     "output_type": "stream",
     "text": [
      "Ratio of A/HA is 0.501\n",
      "\n",
      "Concentration of A is 0.067 moles/L\n",
      "Concentration of HA is 0.133 moles/L\n",
      "Total concentration of HA + A is 0.200 moles/L\n",
      "\n",
      "Mass of A in 1.5L is 26.07 grams\n",
      "Mass of HA in 1.5L is 47.62 grams\n"
     ]
    }
   ],
   "source": [
    "#######################################################################\n",
    "#### Set up variables. Change these if I want something different\n",
    "#######################################################################\n",
    "\n",
    "pH = 7.15             #### chosen pH\n",
    "pKa = 7.45            #### pKa value of acid form of buffer. I looked it up on wikipedia\n",
    "  \n",
    "MolMass_HA = 238.30   #### g/mole. Molar mass of acidic form. I looked it up in the specification sheet available from the vendor\n",
    "MolMass_A = 260.29    #### g/mole. Molar mass of sodium salt of HEPES (basic form). I looked it up in the specification sheet available from the vendor\n",
    "  \n",
    "Total_Conc = 0.200    #### mole/L.  Desired total concentration.\n",
    "  \n",
    "Volume = 1.5          #### L. Volume of buffer solution.\n",
    "\n",
    "#######################################################################\n",
    "#### Calculate A/HA ratio\n",
    "#######################################################################\n",
    "\n",
    "ratio_A_HA = 10 ** (pH - pKa)            ### Reorganized HH eqn to solve for A/HA\n",
    "\n",
    "print(f\"Ratio of A/HA is {ratio_A_HA:0.3f}\")\n",
    "print()\n",
    "\n",
    "#######################################################################\n",
    "#### Calculate A and HA concentrations\n",
    "#######################################################################\n",
    "\n",
    "r = ratio_A_HA       #### so that the code below will be easier to read\n",
    "\n",
    "percent_A =  r / (1 + r)  #### Convert ratio to mole fraction (percent)\n",
    "percent_HA = 1 / (1 + r)\n",
    "\n",
    "conc_HA = Total_Conc * percent_HA   #### the fraction of total conc is the conc of each.\n",
    "conc_A = Total_Conc * percent_A\n",
    "\n",
    "print(f\"Concentration of A is {conc_A:0.3f} moles/L\")\n",
    "print(f\"Concentration of HA is {conc_HA:0.3f} moles/L\")\n",
    "\n",
    "print(f\"Total concentration of HA + A is {conc_HA+conc_A:0.3f} moles/L\")   #### Check. Just in case.\n",
    "print()\n",
    "\n",
    "#######################################################################\n",
    "#### Calculate A and HA amounts\n",
    "#######################################################################\n",
    "\n",
    "mass_of_A = conc_A * Volume * MolMass_A       #### moles = conc * volume.  mass = moles * molar_mass\n",
    "mass_of_HA = conc_HA * Volume * MolMass_HA\n",
    "\n",
    "print(f\"Mass of A in {Volume:0.1f}L is {mass_of_A:0.2f} grams\")\n",
    "print(f\"Mass of HA in {Volume:0.1f}L is {mass_of_HA:0.2f} grams\")\n",
    "\n"
   ]
  },
  {
   "cell_type": "markdown",
   "id": "50edf018",
   "metadata": {},
   "source": [
    "### Making the Buffer\n",
    "\n",
    "We see from the math above that I will need $47.62$ grams of the HEPES acid and $26.07$ grams of its sodium salt dissolved in a final volume of $1.5$ litres. Now I just have to write up a recipe. Take note of how the code above is just calculation steps that are recorded as *Python* commands and can be checked and corrected easily by the reader. Try seeing what the calculations are in a printout of an Excel preadsheet. How does this compare.\n",
    "\n",
    "In you recipe you will describe your calculations using the math typesetting tool of your choice, such as the equation editor built into your word processor. *Python* is your calculator, not your word processor."
   ]
  },
  {
   "cell_type": "markdown",
   "id": "6d14d33d",
   "metadata": {},
   "source": []
  }
 ],
 "metadata": {
  "kernelspec": {
   "display_name": "Python 3",
   "language": "python",
   "name": "python3"
  },
  "language_info": {
   "codemirror_mode": {
    "name": "ipython",
    "version": 3
   },
   "file_extension": ".py",
   "mimetype": "text/x-python",
   "name": "python",
   "nbconvert_exporter": "python",
   "pygments_lexer": "ipython3",
   "version": "3.11.4"
  },
  "vscode": {
   "interpreter": {
    "hash": "31f2aee4e71d21fbe5cf8b01ff0e069b9275f58929596ceb00d14d90e3e16cd6"
   }
  }
 },
 "nbformat": 4,
 "nbformat_minor": 5
}

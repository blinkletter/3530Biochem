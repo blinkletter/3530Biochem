{
 "cells": [
  {
   "cell_type": "code",
   "execution_count": 3,
   "metadata": {},
   "outputs": [],
   "source": [
    "### Data digitized fro figure 3 of\n",
    "### Walker, K.J., Williams, C.T., Oladepo, F.O. et al. \n",
    "### A high-throughput HPLC method for simultaneous quantification of pyrethroid and pyriproxyfen in long-lasting insecticide-treated nets. \n",
    "### Sci Rep 12, 9715 (2022). https://doi.org/10.1038/s41598-022-13768-z\n",
    "###\n",
    "\n",
    "\n",
    "\n",
    "import pandas as pd\n",
    "import numpy as np\n",
    "import matplotlib.pyplot as plt\n",
    "\n",
    "from statsmodels.nonparametric.smoothers_lowess import lowess     # A function for interpolating a plot using the locally weighed scatterplot smoothing method. Returns smoothed x,y points\n",
    "from scipy.interpolate import CubicSpline                         # A function for interpolating a plot using the cubic spline method. Returns an interpolation function.\n",
    "from scipy.interpolate import interp1d                            # A function for interpolating a plot using the connect-the-dots method. Returns an interpolation function.\n",
    "from scipy.interpolate import make_smoothing_spline               # A function for interpolating a plot using a Bspline algorithm. Returns an interpolation function.\n",
    "\n",
    "\n",
    "\n",
    "github_location = \"https://raw.githubusercontent.com/blinkletter/3530Biochem/ReactionKinetics/\"\n",
    "github_location = \"/Users/blink/github/3530Biochem/ReactionKinetics/\"\n",
    "\n",
    "image_path = \"https://raw.githubusercontent.com/blinkletter/3530Biochem/main/folder/images/\"\n",
    "\n",
    "github_data_location = \"https://raw.githubusercontent.com/blinkletter/LFER-QSAR/main/data/\"\n",
    "github_styles_location = \"https://raw.githubusercontent.com/blinkletter/LFER-QSAR/main/styles/\"\n",
    "\n",
    "style = \"tufte.mplstyle\"\n",
    "style_file = github_styles_location + style\n",
    "plt.style.use(style_file)        \n",
    "\n",
    "file_name = \"DigitizedDataset.csv\"  # Change this filename to access the other data sets\n",
    "\n",
    "##############################################################\n",
    "### Import the data and perform calculations\n",
    "##############################################################\n",
    "\n",
    "Filename = github_location + file_name\n",
    "\n",
    "df = pd.read_csv(Filename, \n",
    "                 delimiter = \",\", \n",
    "                 skipinitialspace=True, \n",
    "#                 index_col=\"Substituent\", \n",
    "                 comment = \"#\") \n",
    "\n",
    "\n",
    "df.sort_values(by=[\"time (min)\"], axis=\"rows\", ascending=True, inplace=True)\n",
    "\n",
    "#df.sort_values(by=[sigmatype], inplace=True)    # sort according to sigma so we can pick the left-most and right-most points more easily\n",
    "\n",
    "\n",
    "x = df[\"time (min)\"]\n",
    "y = df[\"A_232\"]\n",
    "\n"
   ]
  },
  {
   "cell_type": "code",
   "execution_count": 12,
   "metadata": {},
   "outputs": [
    {
     "data": {
      "image/png": "[encoded data removed]",
      "text/plain": [
       "<Figure size 500x300 with 1 Axes>"
      ]
     },
     "metadata": {},
     "output_type": "display_data"
    }
   ],
   "source": [
    "\n",
    "\n",
    "## Interpolate plot points. We can use a linear interpolation between points or cubic spline\n",
    "\n",
    "#interpolation = interp1d(x, y, kind='linear')\n",
    "#interpolation = CubicSpline(x, y)\n",
    "\n",
    "interpolation = make_smoothing_spline(x, y,      ### The x and y data\n",
    "                                      w=None,    ### A list of weights for each point (default = None)\n",
    "                                      lam=0.000001)   ### A factor for the degree of smoothing. Change this to change the smoothness.\n",
    "\n",
    "############################\n",
    "### Set labels and scale ###\n",
    "############################\n",
    "\n",
    "fig, ax = plt.subplots(nrows=1, ncols=1, figsize=(5,3))  \n",
    "ax.margins(x=.07, y=.07, tight=True)      # add 7% empty space around outside of plot area   \n",
    "\n",
    "ax.set(\n",
    "#    title=\"HPLC Chromatogram\",       \n",
    "          ylabel=r\"$A_{232}$\", \n",
    "          xlabel=r\"$\\rm time /min$\",                \n",
    "#          xlim=[-.9,.9],                  \n",
    "#          ylim=[-6,-1]\n",
    "         )\n",
    "\n",
    "x1 = np.linspace(0,np.max(x),1000)\n",
    "y1 = interpolation(x1)\n",
    "\n",
    "ax.yaxis.set_major_locator(plt.NullLocator())\n",
    "ax.text(26,1100,\"trans\")\n",
    "ax.text(30,400,\"cis\")\n",
    "ax.plot(x,y, linewidth = 0.5)\n",
    "plt.savefig(\"test.pdf\")"
   ]
  },
  {
   "cell_type": "code",
   "execution_count": null,
   "metadata": {},
   "outputs": [],
   "source": [
    "### FIND DUPLICATE VALUES IN A DATA SERIES\n",
    "\n",
    "duplicate_values = df['time (min)'].duplicated()\n",
    "display(duplicate_values)\n",
    "\n",
    "for q in range(len(x)):\n",
    "    if duplicate_values[q] == True:\n",
    "        print(q)"
   ]
  }
 ],
 "metadata": {
  "kernelspec": {
   "display_name": "base",
   "language": "python",
   "name": "python3"
  },
  "language_info": {
   "codemirror_mode": {
    "name": "ipython",
    "version": 3
   },
   "file_extension": ".py",
   "mimetype": "text/x-python",
   "name": "python",
   "nbconvert_exporter": "python",
   "pygments_lexer": "ipython3",
   "version": "3.11.4"
  }
 },
 "nbformat": 4,
 "nbformat_minor": 2
}

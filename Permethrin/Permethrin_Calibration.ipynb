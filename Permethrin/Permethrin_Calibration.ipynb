{
 "cells": [
  {
   "cell_type": "code",
   "execution_count": 33,
   "metadata": {},
   "outputs": [
    {
     "data": {
      "text/html": [
       "<div>\n",
       "<style scoped>\n",
       "    .dataframe tbody tr th:only-of-type {\n",
       "        vertical-align: middle;\n",
       "    }\n",
       "\n",
       "    .dataframe tbody tr th {\n",
       "        vertical-align: top;\n",
       "    }\n",
       "\n",
       "    .dataframe thead th {\n",
       "        text-align: right;\n",
       "    }\n",
       "</style>\n",
       "<table border=\"1\" class=\"dataframe\">\n",
       "  <thead>\n",
       "    <tr style=\"text-align: right;\">\n",
       "      <th></th>\n",
       "      <th>Area-1</th>\n",
       "      <th>Area-2</th>\n",
       "      <th>Area-3</th>\n",
       "      <th>Area-4</th>\n",
       "      <th>Area-5</th>\n",
       "      <th>Area-6</th>\n",
       "    </tr>\n",
       "    <tr>\n",
       "      <th>Vol (/uL)</th>\n",
       "      <th></th>\n",
       "      <th></th>\n",
       "      <th></th>\n",
       "      <th></th>\n",
       "      <th></th>\n",
       "      <th></th>\n",
       "    </tr>\n",
       "  </thead>\n",
       "  <tbody>\n",
       "    <tr>\n",
       "      <th>20</th>\n",
       "      <td>31553</td>\n",
       "      <td>31991</td>\n",
       "      <td>33784</td>\n",
       "      <td>34178</td>\n",
       "      <td>33671</td>\n",
       "      <td>33830</td>\n",
       "    </tr>\n",
       "    <tr>\n",
       "      <th>30</th>\n",
       "      <td>47717</td>\n",
       "      <td>50298</td>\n",
       "      <td>48470</td>\n",
       "      <td>50185</td>\n",
       "      <td>50026</td>\n",
       "      <td>49075</td>\n",
       "    </tr>\n",
       "    <tr>\n",
       "      <th>50</th>\n",
       "      <td>81206</td>\n",
       "      <td>83212</td>\n",
       "      <td>80860</td>\n",
       "      <td>82135</td>\n",
       "      <td>82250</td>\n",
       "      <td>80709</td>\n",
       "    </tr>\n",
       "    <tr>\n",
       "      <th>70</th>\n",
       "      <td>115975</td>\n",
       "      <td>113347</td>\n",
       "      <td>114418</td>\n",
       "      <td>114965</td>\n",
       "      <td>114318</td>\n",
       "      <td>115340</td>\n",
       "    </tr>\n",
       "    <tr>\n",
       "      <th>100</th>\n",
       "      <td>164874</td>\n",
       "      <td>163760</td>\n",
       "      <td>163519</td>\n",
       "      <td>164033</td>\n",
       "      <td>164139</td>\n",
       "      <td>163175</td>\n",
       "    </tr>\n",
       "    <tr>\n",
       "      <th>150</th>\n",
       "      <td>245118</td>\n",
       "      <td>244527</td>\n",
       "      <td>245653</td>\n",
       "      <td>246896</td>\n",
       "      <td>245577</td>\n",
       "      <td>245320</td>\n",
       "    </tr>\n",
       "    <tr>\n",
       "      <th>200</th>\n",
       "      <td>327267</td>\n",
       "      <td>326758</td>\n",
       "      <td>327735</td>\n",
       "      <td>326328</td>\n",
       "      <td>327121</td>\n",
       "      <td>326311</td>\n",
       "    </tr>\n",
       "  </tbody>\n",
       "</table>\n",
       "</div>"
      ],
      "text/plain": [
       "           Area-1  Area-2  Area-3  Area-4  Area-5  Area-6\n",
       "Vol (/uL)                                                \n",
       "20          31553   31991   33784   34178   33671   33830\n",
       "30          47717   50298   48470   50185   50026   49075\n",
       "50          81206   83212   80860   82135   82250   80709\n",
       "70         115975  113347  114418  114965  114318  115340\n",
       "100        164874  163760  163519  164033  164139  163175\n",
       "150        245118  244527  245653  246896  245577  245320\n",
       "200        327267  326758  327735  326328  327121  326311"
      ]
     },
     "execution_count": 33,
     "metadata": {},
     "output_type": "execute_result"
    }
   ],
   "source": [
    "import pandas as pd\n",
    "import numpy as np\n",
    "import matplotlib.pyplot as plt\n",
    "import scipy.stats as stats\n",
    "from scipy.stats import linregress\n",
    "from scipy.optimize import curve_fit\n",
    "\n",
    "############################\n",
    "### Set global variables ###\n",
    "############################\n",
    "\n",
    "data_path = \"https://raw.githubusercontent.com/blinkletter/3530Biochem/main/Permethrin/\"\n",
    "image_path = \"https://raw.githubusercontent.com/blinkletter/3530Biochem/main/Permethrin/images/\"\n",
    "\n",
    "github_data_location = \"https://raw.githubusercontent.com/blinkletter/LFER-QSAR/main/data/\"\n",
    "github_styles_location = \"https://raw.githubusercontent.com/blinkletter/LFER-QSAR/main/styles/\"\n",
    "\n",
    "\n",
    "\n",
    "################################################################################\n",
    "### Read data set. The fields are separated by commas; comments are enabled  ###\n",
    "################################################################################\n",
    "df = pd.read_csv(data_path + \"PM-Calibration2.csv\", \n",
    "                 delimiter = \",\", \n",
    "                 skipinitialspace=True, \n",
    "                 index_col=\"Vol (/uL)\", \n",
    "                 comment = \"#\") \n",
    "\n",
    "df"
   ]
  },
  {
   "cell_type": "code",
   "execution_count": 85,
   "metadata": {},
   "outputs": [
    {
     "name": "stdout",
     "output_type": "stream",
     "text": [
      "[] []\n",
      "[ 31553  47717  81206 115975 164874 245118 327267]\n",
      "[ 31991  50298  83212 113347 163760 244527 326758]\n",
      "[ 33784  48470  80860 114418 163519 245653 327735]\n",
      "[ 34178  50185  82135 114965 164033 246896 326328]\n",
      "[ 33671  50026  82250 114318 164139 245577 327121]\n",
      "[ 33830  49075  80709 115340 163175 245320 326311]\n",
      "[ 20.  30.  50.  70. 100. 150. 200.  20.  30.  50.  70. 100. 150. 200.\n",
      "  20.  30.  50.  70. 100. 150. 200.  20.  30.  50.  70. 100. 150. 200.\n",
      "  20.  30.  50.  70. 100. 150. 200.  20.  30.  50.  70. 100. 150. 200.] [ 31553.  47717.  81206. 115975. 164874. 245118. 327267.  31991.  50298.\n",
      "  83212. 113347. 163760. 244527. 326758.  33784.  48470.  80860. 114418.\n",
      " 163519. 245653. 327735.  34178.  50185.  82135. 114965. 164033. 246896.\n",
      " 326328.  33671.  50026.  82250. 114318. 164139. 245577. 327121.  33830.\n",
      "  49075.  80709. 115340. 163175. 245320. 326311.]\n"
     ]
    },
    {
     "data": {
      "text/plain": [
       "[<matplotlib.lines.Line2D at 0x14168cf50>]"
      ]
     },
     "execution_count": 85,
     "metadata": {},
     "output_type": "execute_result"
    },
    {
     "data": {
      "image/png": "[encoded data removed]",
      "text/plain": [
       "<Figure size 640x480 with 1 Axes>"
      ]
     },
     "metadata": {},
     "output_type": "display_data"
    }
   ],
   "source": [
    "column_names = df.columns\n",
    "number_or_trials = len(column_names)\n",
    "\n",
    "\n",
    "x = []\n",
    "y = []\n",
    "print(x,y)\n",
    "for l in range(number_or_trials):\n",
    "#    print(column_names[l])\n",
    "    x_temp = np.array(df.index)\n",
    "    y_temp = np.array(df[column_names[l]])\n",
    "    x=np.append(x,x_temp)\n",
    "    y=np.append(y,y_temp)\n",
    "    print(y_temp)\n",
    "print(x,y)\n",
    "\n",
    "plt.plot(x,y,\"o\")"
   ]
  },
  {
   "cell_type": "code",
   "execution_count": null,
   "metadata": {},
   "outputs": [],
   "source": []
  }
 ],
 "metadata": {
  "kernelspec": {
   "display_name": "base",
   "language": "python",
   "name": "python3"
  },
  "language_info": {
   "codemirror_mode": {
    "name": "ipython",
    "version": 3
   },
   "file_extension": ".py",
   "mimetype": "text/x-python",
   "name": "python",
   "nbconvert_exporter": "python",
   "pygments_lexer": "ipython3",
   "version": "3.11.4"
  }
 },
 "nbformat": 4,
 "nbformat_minor": 2
}

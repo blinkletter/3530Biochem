{
 "cells": [
  {
   "cell_type": "markdown",
   "metadata": {},
   "source": [
    "# Answers and Math\n",
    "\n",
    "The problem set in todays tutorial can be easily interpretted using a calculator. But I always the best calculator is a *Python* notebook. Observe that we can get the ansers and also document the approach used in the text and code below.\n",
    "\n",
    "We will use the data and the formulas that were made available in the problem set. Code examples are available in the accompanying *Python* notebook and we will steal and use that code here.\n",
    "\n",
    "## Problem 1\n",
    "\n",
    "What is the membrane potential (in kJ/mol) for sodium ion in a situation where we observe 100 mM Na<sup>+</sup> exterior and 20 mM Na<sup>+</sup> interior in a cell?\n",
    "\n",
    "### Answer\n",
    "\n",
    "No membrane voltage is mentioned and so we will assume that it is zero. We will use the  equation for membrane potential...\n",
    "\n",
    "$$\\Delta G = RT\\ln{Q} + nF\\Delta V$$\n",
    "\n",
    "... and the answer can be found using the code below."
   ]
  },
  {
   "cell_type": "code",
   "execution_count": 3,
   "metadata": {},
   "outputs": [
    {
     "name": "stdout",
     "output_type": "stream",
     "text": [
      "Q1: The potential energy difference is -4.0 kilojoules/mole\n"
     ]
    }
   ],
   "source": [
    "import numpy as np\n",
    "\n",
    "dV = 0       # the transmembrane voltage\n",
    "T = 298      # temperature in K assuming STP\n",
    "F = 96500    # faraday consant in joules/volt\n",
    "R = 8.314    # gass constant in joules/K\n",
    "\n",
    "c_in = 20    # interior concentration of the sodium ion in this case\n",
    "c_out = 100   # exterior concentration of the sodium ion \n",
    "n = +1       # charge on the ion\n",
    "\n",
    "Q = c_in / c_out   # start is \"out\", final is \"in\"\n",
    "dG = R * T * np.log(Q) + n * F * dV\n",
    "\n",
    "print(f\"Q1: The potential energy difference is {dG/1000:0.1f} kilojoules/mole\")"
   ]
  },
  {
   "cell_type": "markdown",
   "metadata": {},
   "source": [
    "## Problem 2\n",
    "\n",
    "In a nerve cell we have the same situation as above but also a voltage difference of –100 mV (out $\\rightarrow$ in). What is the membrane potential (in kJ/mol) for sodium ion in a situation where we observe 100 mM Na<sup>+</sup> exterior and 10 mM Na<sup>+</sup> interior in this nerve cell?\n",
    "\n",
    "### Answer\n",
    "\n",
    "Steal the code above and change some numbers"
   ]
  },
  {
   "cell_type": "code",
   "execution_count": 2,
   "metadata": {},
   "outputs": [
    {
     "name": "stdout",
     "output_type": "stream",
     "text": [
      "Q2: The potential energy difference is -15.4 kilojoules/mole\n"
     ]
    }
   ],
   "source": [
    "import numpy as np\n",
    "\n",
    "dV = -100 / 1000       # the transmembrane voltage in volts\n",
    "T = 298      # temperature in K assuming STP\n",
    "F = 96500    # faraday consant in joules/volt\n",
    "R = 8.314    # gass constant in joules/K\n",
    "\n",
    "c_in = 10    # interior concentration of the sodium ion in this case\n",
    "c_out = 100   # exterior concentration of the sodium ion \n",
    "n = +1       # charge on the ion\n",
    "\n",
    "Q = c_in / c_out   # start is \"out\", final is \"in\"\n",
    "dG = R * T * np.log(Q) + n * F * dV\n",
    "\n",
    "print(f\"Q2: The potential energy difference is {dG/1000:0.1f} kilojoules/mole\")"
   ]
  },
  {
   "cell_type": "markdown",
   "metadata": {},
   "source": [
    "## Problem 3\n",
    "\n",
    "Potassium ion is important in nerve signal transmission. What is the equilibrium concentration ratio of potassium ions inside and outside the cell in the conditions described above?\n",
    "\n",
    "### Answer\n",
    "\n",
    "Steal the code above and change it.\n",
    "\n",
    "At equilibrium we know that $\\Delta G$ = 0. We just have to solve for what the value of Q is when we observe this.\n",
    "\n",
    "A simple rearrangement of the equation gives...\n",
    "\n",
    "$$\\frac{\\Delta G - nF\\Delta V}{RT}= \\ln{Q} $$\n",
    "\n",
    "And so we can solve for Q, which will be the ratio of $[K^+]_{in}$ to $[K^+]_{out}$."
   ]
  },
  {
   "cell_type": "code",
   "execution_count": 9,
   "metadata": {},
   "outputs": [
    {
     "name": "stdout",
     "output_type": "stream",
     "text": [
      "Q3: The ratio of K_in to K_out is 49.2\n"
     ]
    }
   ],
   "source": [
    "import numpy as np\n",
    "\n",
    "dG = 0\n",
    "\n",
    "dV = -100 / 1000       # the transmembrane voltage in volts\n",
    "T = 298      # temperature in K assuming STP\n",
    "F = 96500    # faraday consant in joules/volt\n",
    "R = 8.314    # gass constant in joules/K\n",
    "\n",
    "n = +1       # charge on the ion\n",
    "\n",
    "lnQ = (dG - (n * F * dV)) / (R * T)\n",
    "Q = np.exp(lnQ)\n",
    "\n",
    "print(f\"Q3: The ratio of K_in to K_out is {Q:0.1f}\")"
   ]
  },
  {
   "cell_type": "markdown",
   "metadata": {},
   "source": [
    "## Problem 4\n",
    "\n",
    "The observed K<sup>+</sup> concentrations inside and out are 200 mM and 5 mM, respectively.  Consider the Na<sup>+</sup>/K<sup>+</sup> ATPase in pump described in your textbook. Where is it doing the work?\n",
    "\n",
    "### Answer\n",
    "\n",
    "The observed ratio is 40. Equilibrium at the given membrane voltage is 50. So we are close. The ratio for sodim at equilibrium (again assumeing a stable voltage of -100 mV) would also be the same, however we observe a ratio of 0.2. This is far from equilibrium. Clearly the work being done by Na<sup>+</sup>/K<sup>+</sup> ATPase is mostly to push the sosium concentration to its extremely out-of-equilibrium value.\n",
    "\n",
    "We can demonstrate this with math by stealing and chanding the code for problem 2."
   ]
  },
  {
   "cell_type": "code",
   "execution_count": null,
   "metadata": {},
   "outputs": [
    {
     "name": "stdout",
     "output_type": "stream",
     "text": [
      "Q2: The potential energy difference for sodium is -13.6 kilojoules/mole\n",
      "Q2: The potential energy difference for potassium is -0.5 kilojoules/mole\n"
     ]
    }
   ],
   "source": [
    "import numpy as np\n",
    "\n",
    "dV = -100 / 1000       # the transmembrane voltage in volts\n",
    "T = 298      # temperature in K assuming STP\n",
    "F = 96500    # faraday consant in joules/volt\n",
    "R = 8.314    # gass constant in joules/K\n",
    "\n",
    "c_in = 20    # interior concentration of the sodium ion in this case\n",
    "c_out = 100   # exterior concentration of the sodium ion \n",
    "n = +1       # charge on the ion\n",
    "\n",
    "Q = c_in / c_out   # start is \"out\", final is \"in\"\n",
    "dG = R * T * np.log(Q) + n * F * dV\n",
    "\n",
    "print(f\"Q4: The potential energy difference for sodium is {dG/1000:0.1f} kilojoules/mole\")\n",
    "\n",
    "############\n",
    "\n",
    "Q = 40\n",
    "n = +1       # charge on the ion\n",
    "\n",
    "dG = R * T * np.log(Q) + n * F * dV\n",
    "\n",
    "print(f\"Q4: The potential energy difference for potassium is {dG/1000:0.1f} kilojoules/mole\")"
   ]
  },
  {
   "cell_type": "markdown",
   "metadata": {},
   "source": [
    "## Problem 5\n",
    "\n",
    "As a nerve signal propagates, sodium channels open, sodium ion floods in and eliminates the voltage gradient. The sodium channels then close and voltage-gated potassium channels then open. If the voltage is zero to start with, which way will potassium ions flow? What will happen with the voltage potential as these ions flow? \n",
    "\n",
    "### Answer\n",
    "\n",
    "If the voltage collapses to zero we can take the observed ratio of 200/5 = 40 and see what the free energy difference is for ion flowing from out to in (never change your point of view.)\n",
    "\n",
    "We will steal the code from above and reuse it."
   ]
  },
  {
   "cell_type": "code",
   "execution_count": null,
   "metadata": {},
   "outputs": [
    {
     "name": "stdout",
     "output_type": "stream",
     "text": [
      "Q2: The potential energy difference is 9.1 kilojoules/mole\n"
     ]
    }
   ],
   "source": [
    "import numpy as np\n",
    "\n",
    "dV = -0 / 1000       # the transmembrane voltage in volts\n",
    "T = 298      # temperature in K assuming STP\n",
    "F = 96500    # faraday consant in joules/volt\n",
    "R = 8.314    # gass constant in joules/K\n",
    "\n",
    "c_in = 200    # interior concentration of the sodium ion in this case\n",
    "c_out = 5   # exterior concentration of the sodium ion \n",
    "n = +1       # charge on the ion\n",
    "\n",
    "Q = c_in / c_out   # start is \"out\", final is \"in\"\n",
    "dG = R * T * np.log(Q) + n * F * dV\n",
    "\n",
    "print(f\"Q5: The potential energy difference is {dG/1000:0.1f} kilojoules/mole\")"
   ]
  },
  {
   "cell_type": "markdown",
   "metadata": {},
   "source": [
    "## Problem 6\n",
    "\n",
    "In a mitochondrion, we have a difference in pH between the matrix and intermembrane space of approximately 1 pH unit. The voltage difference across the inner membrane is approx. –0.13 V. Using what you know about the mitochondrion, calculate the membrane potential energy for the release of proton across the membrane.\n",
    "\n",
    "### Answer\n",
    "\n",
    "We have protons as ions. Otherwise its all the same. We can calculate the free energy potential for the proton gradient. We know that a pH difference of 1.0 is the same as a 10-fold concentration ratio. So we can say that Q = 0.1 (out $\\rightarrow$ in)\n",
    "\n",
    "We will steal the code from above and reuse it."
   ]
  },
  {
   "cell_type": "code",
   "execution_count": 19,
   "metadata": {},
   "outputs": [
    {
     "name": "stdout",
     "output_type": "stream",
     "text": [
      "Q6: The potential energy difference is -18.2 kilojoules/mole\n"
     ]
    }
   ],
   "source": [
    "import numpy as np\n",
    "\n",
    "dV = -130 / 1000       # the transmembrane voltage in volts\n",
    "T = 298      # temperature in K assuming STP\n",
    "F = 96500    # faraday constant in joules/volt\n",
    "R = 8.314    # gass constant in joules/K\n",
    "\n",
    "c_in = 1    # arbitrary values for a ratio of 1/10\n",
    "c_out = 10   # arbitrary values for a ratio of 1/10\n",
    "n = +1       # charge on the ion\n",
    "\n",
    "Q = c_in / c_out   # start is \"out\", final is \"in\"\n",
    "dG = R * T * np.log(Q) + n * F * dV\n",
    "\n",
    "print(f\"Q6: The potential energy difference is {dG/1000:0.1f} kilojoules/mole\")"
   ]
  },
  {
   "cell_type": "markdown",
   "metadata": {},
   "source": [
    "## Problem 7\n",
    "\n",
    "In a chloroplast, we have a difference in pH between the thylakoid lumen and the stroma of approximately 3 pH units. The voltage difference across the thylakoid membrane is zero V (Chloroplasts are different than mitochondria.) Using what you know about the chloroplast, calculate the membrane potential energy for the release of proton across the membrane. How does this compare to the mitochondrion?\n",
    "\n",
    "### Answer\n",
    "\n",
    "We know that a pH difference of 3.0 is the same as a 1000-fold concentration ratio. So we can say that Q = 0.001 (lumen $\\rightarrow$ stroma)\n",
    "\n",
    "We will steal the code from above and reuse it."
   ]
  },
  {
   "cell_type": "code",
   "execution_count": 20,
   "metadata": {},
   "outputs": [
    {
     "name": "stdout",
     "output_type": "stream",
     "text": [
      "Q6: The potential energy difference is -17.1 kilojoules/mole\n"
     ]
    }
   ],
   "source": [
    "import numpy as np\n",
    "\n",
    "dV = -0 / 1000       # the transmembrane voltage in volts\n",
    "T = 298      # temperature in K assuming STP\n",
    "F = 96500    # faraday constant in joules/volt\n",
    "R = 8.314    # gass constant in joules/K\n",
    "\n",
    "c_in = 1    # arbitrary values for a ratio of 1/10\n",
    "c_out = 1000   # arbitrary values for a ratio of 1/10\n",
    "n = +1       # charge on the ion\n",
    "\n",
    "Q = c_in / c_out   # start is \"out\", final is \"in\"\n",
    "dG = R * T * np.log(Q) + n * F * dV\n",
    "\n",
    "print(f\"Q6: The potential energy difference is {dG/1000:0.1f} kilojoules/mole\")"
   ]
  },
  {
   "cell_type": "markdown",
   "metadata": {},
   "source": [
    "## Problem 8\n",
    "\n",
    "Explain how ATP can be made in the previous two cases.\n",
    "\n",
    "### Answer\n",
    "\n",
    "Well, what do you think?"
   ]
  },
  {
   "cell_type": "markdown",
   "metadata": {},
   "source": [
    "## Problem 9\n",
    "\n",
    "Calculate the observed ∆G of every step of glycolysis. Comment on the values that you obtain.\n",
    "\n",
    "### Answer \n",
    "\n",
    "Use the equation for chemical potential and go. Just set Q to be the products/reactants. The code below is stolen from above and changed to suit."
   ]
  },
  {
   "cell_type": "code",
   "execution_count": 5,
   "metadata": {},
   "outputs": [
    {
     "name": "stdout",
     "output_type": "stream",
     "text": [
      "Q9: The potential energy difference is -1.2 kilojoules/mole\n"
     ]
    }
   ],
   "source": [
    "import numpy as np\n",
    "\n",
    "dG_0 = 22.0 * 1000      # The standard free-energy difference in joules\n",
    "Q =  (0.000020 * 0.000150) / 0.000035                   # products / reactants (keep all units in moles/L)\n",
    "#Q = 30*150/35\n",
    "T = 298      # temperature in K assuming STP\n",
    "R = 8.314    # gas constant in joules/K\n",
    "\n",
    "\n",
    "dG = dG_0 + R * T * np.log(Q)\n",
    "\n",
    "print(f\"Q9: The potential energy difference is {dG/1000:0.1f} kilojoules/mole\")"
   ]
  },
  {
   "cell_type": "markdown",
   "metadata": {},
   "source": [
    "## Bonus: Using ICE tables\n",
    "\n",
    "We can find the final concentration ar equilibrium from a starting condition using ICE tables. We can then set up an algebra equation and solve using the quadratic equation or we could just write the equation out and solve it directly using *Python*. Below is code to use the *SymPy* package to solve for $x$. The code below will solve for the final equilibrium concentration of reactants and products. Steal the code and modify it for your purposes.\n",
    "\n",
    "In the example below we begin with 200 $\\mu M$ of each reactant and see where things end up at equilibrium"
   ]
  },
  {
   "cell_type": "code",
   "execution_count": 4,
   "metadata": {},
   "outputs": [
    {
     "data": {
      "text/latex": [
       "$\\displaystyle 0 = 2477.572 \\log{\\left(\\frac{\\left(x + 0.0002\\right)^{2}}{0.0002 - x} \\right)} + 22000$"
      ],
      "text/plain": [
       "Eq(0, 2477.572*log((x + 0.0002)**2/(0.0002 - x)) + 22000)"
      ]
     },
     "metadata": {},
     "output_type": "display_data"
    },
    {
     "name": "stdout",
     "output_type": "stream",
     "text": [
      "[-0.000515603950657396, -2.35873626089048e-5]\n",
      "The change in concentration is -23.59 uM\n",
      "The final F6P concentration inside is 223.59 uM\n",
      "The final G3P concentration inside is 176.41 uM\n",
      "The final DHAP concentration inside is 176.41 uM\n"
     ]
    }
   ],
   "source": [
    "import sympy as sym\n",
    "import numpy as np\n",
    "\n",
    "x = sym.symbols('x')    ### create x as a 'symbol', not a variable\n",
    "\n",
    "dG_standard = 22000     ### kJ/mole\n",
    "G3P_0 = 0.000200               ### mole/L\n",
    "DHAP_0 = 0.000200              ### mole/L\n",
    "F6P_0 = 0.000200           ### mole/L\n",
    "\n",
    "T = 298         ### degrees K\n",
    "R = 8.314       ### J / mole.K\n",
    "dG = 0          ### equilibrium condition\n",
    "\n",
    "rhs = dG_standard + R*T*sym.log((G3P_0 + x)*(DHAP_0 + x)/(F6P_0 - x)) ### must use sym.log, not np.log for ln.\n",
    "lhs = dG\n",
    "\n",
    "eq = sym.Eq(lhs, rhs)     ### The equation to solve \n",
    "display(eq)               ### Display the equation\n",
    "\n",
    "answer = sym.solve(eq, x)\n",
    "print(answer)\n",
    "a = answer[1]\n",
    "\n",
    "print(f\"The change in concentration is {a * 1000000:+0.2f} uM\")\n",
    "print(f\"The final F6P concentration inside is {(F6P_0 - a)*1000000:0.2f} uM\")\n",
    "print(f\"The final G3P concentration inside is {(G3P_0 + a)*1000000:0.2f} uM\")\n",
    "print(f\"The final DHAP concentration inside is {(DHAP_0 + a)*1000000:0.2f} uM\")\n"
   ]
  }
 ],
 "metadata": {
  "kernelspec": {
   "display_name": "main",
   "language": "python",
   "name": "python3"
  },
  "language_info": {
   "codemirror_mode": {
    "name": "ipython",
    "version": 3
   },
   "file_extension": ".py",
   "mimetype": "text/x-python",
   "name": "python",
   "nbconvert_exporter": "python",
   "pygments_lexer": "ipython3",
   "version": "3.12.2"
  }
 },
 "nbformat": 4,
 "nbformat_minor": 2
}

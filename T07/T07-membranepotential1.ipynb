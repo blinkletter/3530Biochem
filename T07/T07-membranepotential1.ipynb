{
 "cells": [
  {
   "cell_type": "markdown",
   "metadata": {},
   "source": [
    "# Chemical Potential\n",
    "\n",
    "Chemical potential is the energy difference between two observable situations. Like the energy difference between you on a rooftop and on the ground.That energy can be calculated. It can be accessed by allowing the system to proceed toward its destination. Just jump. The potential energy will be released as heat (although some of the energy will have been used to break your bones.)\n",
    "\n",
    "There are two kinds of potential energy, standard and observed. Standard potential energy is the energy difference between two situations in the standard state. For that rooftop example we might always use a standard mass. For chemistry, we use standard concentrations and the standard state is when all reactants and products are present in a concentration of 1 mole/L.\n",
    "\n",
    "## Free Energy Difference in Glycolysis\n",
    "\n",
    "### Using the Standard State \n",
    "Let us take the example of the isomerization of glucose-6-phosphate to fructose-6-phosphae in the glycolysis pathway. The standard free energy difference, $\\Delta G^{\\circ}$ is the energy difference between reactants and products when everything is at 1 M concentration. It is known to be 1.67 kJ/mole.\n",
    "\n",
    "The observed free energy difference, $\\Delta G$, is what is observed when concentrations are not all perfectly 1 M. Let us consider the reaction above.\n",
    "\n",
    "$$ G6P \\rightarrow F6P, \\ \\ \\Delta G^{\\circ} = +1.67\\;kJ\\,mole^{-1} $$\n",
    "\n",
    "The equation for free energy difference is...\n",
    "\n",
    "$$ \\Delta G = \\Delta G^{\\circ} + RT\\ln{Q}$$\n",
    "\n",
    "...where Q is the reaction quotient. So in the specific case of the reaction above we would write...\n",
    "\n",
    "$$ \\Delta G = \\Delta G^{\\circ} + RT\\ln{\\frac{[F6P]}{[G6P]}}$$\n",
    "\n",
    "We can then calculate the free energy difference in the standard state as shown in the code below."
   ]
  },
  {
   "cell_type": "code",
   "execution_count": 64,
   "metadata": {
    "tags": [
     "hide-input"
    ]
   },
   "outputs": [
    {
     "name": "stdout",
     "output_type": "stream",
     "text": [
      "deltaG = 1.670 kJ/mole\n"
     ]
    }
   ],
   "source": [
    "import numpy as np             ### math tools\n",
    "from scipy.constants import R  ### gas constant R = 8.314 J/molK\n",
    "from scipy.constants import zero_Celsius   ### 0 decrees C is 273.15 degrees K\n",
    "\n",
    "Delta_G_Standard =  1.67       ### kJ/mole\n",
    "Conc_R = 1                     ### reactant, G6P, is 1 M in conc.\n",
    "Conc_P = 1                     ### product, F6P, is 1 M in conc.\n",
    "Temp = 25                      ### degrees celcius\n",
    "\n",
    "T = Temp + zero_Celsius        ### get temp in degrees K\n",
    "DG_0 = Delta_G_Standard * 1000 ### convert kJ/mole to J/mole\n",
    "\n",
    "DG = DG_0 + R * T * np.log(Conc_P / Conc_R)   ### np.log(x) is ln(x), np.log10(x) is log(x)\n",
    "\n",
    "DG_kJ = DG / 1000              ### convert result to kJ/mole\n",
    "print(f\"deltaG = {DG_kJ:.3f} kJ/mole\")"
   ]
  },
  {
   "cell_type": "markdown",
   "metadata": {},
   "source": [
    "Observe that the observed free energy difference, $\\Delta G$, is identical to the standard free energy difference, $\\Delta G^{\\circ}$, when we are at the standard state. This is the definition of standard free energy difference. When we are at the standard state, we are not at equilibrium in this case. \n",
    "\n",
    "### Using Known Concentrations\n",
    "\n",
    "It is commonly reported in textbooks that [G6P] = 0.083 mM and [F6P] = 0.014 mM. Let us calculate the observed $\\Delta G$ when these conditions exist. Condider the code below."
   ]
  },
  {
   "cell_type": "code",
   "execution_count": 65,
   "metadata": {
    "tags": [
     "hide-input"
    ]
   },
   "outputs": [
    {
     "name": "stdout",
     "output_type": "stream",
     "text": [
      "deltaG = -2.742 kJ/mole\n"
     ]
    }
   ],
   "source": [
    "### Using values set above plus the following changes...\n",
    "\n",
    "Conc_R = 0.083                 ### reactant, G6P, is 0.083 mM in conc.\n",
    "Conc_P = 0.014                 ### product, F6P, is 0.014 mM in conc.\n",
    "\n",
    "Conc_R = Conc_R / 1000         ### convert mM to M\n",
    "Conc_P = Conc_P / 1000\n",
    "\n",
    "DG = DG_0 + R * T * np.log(Conc_P / Conc_R)   ### np.log(x) is ln(x), np.log10(x) is log(x)\n",
    "\n",
    "DG_kJ = DG / 1000              ### convert result to kJ/mole\n",
    "print(f\"deltaG = {DG_kJ:.3f} kJ/mole\")"
   ]
  },
  {
   "cell_type": "markdown",
   "metadata": {},
   "source": [
    "In cellular conditions (red blood cells) the observed free energy difference is slightly negative. The system is not at equilibrium and will proceed toward product to reach equilibrium. Change the values above and see what results you get. How much do you need to increase the concentration of product or decrease the reactant to reach something near perfect equilibrium ($\\Delta G = 0$)?"
   ]
  },
  {
   "cell_type": "markdown",
   "metadata": {},
   "source": [
    "## Membrane Potential\n",
    "\n",
    "We have seen that free energy in a situation depends on the standard free energy difference combined with the actual concentrations in the real world (no system ever has all concentrations at 1 M). The potential energy held back by a membrane is the same as the potential energy held back by the floor you are standing on. You want to fall down, but the floor is holding you at a given altitude. Molecules want to flow from greater to lesser concentrations but can be held back by a barrier.\n",
    "\n",
    "### Concentration Gradients\n",
    "\n",
    "Movement across a membrane is a chemical reaction. The standard free energy difference is zero when concentrations are equal on both sides. But when concentrations are different we have a 'concentration gradient.' The energy difference is the 'membrane potential.' It is a difference in free energy due to the different concentrations. We use the same free energy equation as above. But $\\Delta G^{\\circ} = 0$ for membranes becasue the molecule is not changing, only ist concentrations. The concentration term of the equation will be all that matters.\n",
    "\n",
    "We will consider a situation where we have glucose outside and inside of a red blood cell. We will always place ourselve on the 'outside' point of view so the starting position (reactant) is outside. What is the observed free energy difference for the following reaction?\n",
    "\n",
    "$$ Glc_{out} \\rightarrow Glc_{in}$$\n",
    "\n",
    "where $[Glc_{out}] = 5.4$ mM and $[Glc_{in}] = 5.0$ mM\n",
    "\n",
    "We will use the same equation as above, knowing that $\\Delta G^{\\circ} = 0$.\n",
    "\n",
    "$$ \\Delta G = \\Delta G^{\\circ} + RT\\ln{Q}$$\n",
    "\n",
    "...where Q is the reaction quotient. So in the specific case of the reaction above we would write...\n",
    "\n",
    "$$ \\Delta G = 0 + RT\\ln{\\frac{[Glc_{in}]}{[Glc_{out}]}}$$\n",
    "\n",
    "Consider the code below...\n"
   ]
  },
  {
   "cell_type": "code",
   "execution_count": 66,
   "metadata": {
    "tags": [
     "hide-input"
    ]
   },
   "outputs": [
    {
     "name": "stdout",
     "output_type": "stream",
     "text": [
      "deltaG = -0.191 kJ/mole\n"
     ]
    }
   ],
   "source": [
    "Glc_out = 5.4   ### mM\n",
    "Glc_in = 5.0    ### mM\n",
    "DG_0 = 0\n",
    "\n",
    "DG = DG_0 + R * T * np.log(Glc_in / Glc_out)   ### np.log(x) is ln(x), np.log10(x) is log(x)\n",
    "\n",
    "DG_kJ = DG / 1000              ### convert result to kJ/mole\n",
    "print(f\"deltaG = {DG_kJ:.3f} kJ/mole\")"
   ]
  },
  {
   "cell_type": "markdown",
   "metadata": {},
   "source": [
    "We see that the system is not at equilibrium and will proceed forward. The energy difference is not large, as expected, since the concentrations are similar.\n",
    "\n",
    "Change the numbers. What is the concentration in the cell was consumed and became low. Why does it explode if you set one of the concentrations to zero?\n",
    "\n",
    "## The Mitochondrial Membrane\n",
    "\n",
    "Voltage is a measure of electrical potential energy. It is like then height of your roof. The higher it is, the more potential energy you have relative to the ground when standing there. Cell membranes usually have a voltage potential because ions are being forced across and this charge separation will create that voltage difference.\n",
    "\n",
    "In the mitochondrion, protons are being pumped from the matrix to the intermembrane space. The membrane is impermeable to ions so negative charges, like chloride ion or hydroxide, cannot flow the other way to relax and neutralize the charge difference. So a charge gradient, or voltage potential, will be created.\n",
    "\n",
    "Let us consider the energy potential, $\\Delta G$, across the membrane in a mitochondrion. First we will use a charge gradient of zero volts. Then we will use a charge gradient of -0.13V, which is one of the many values quoted for the mitochondrial membrane.\n",
    "\n",
    "We will use the Nersnt equation shown below in its form for $\\Delta G$.\n",
    "\n",
    "$$ \\Delta G = RT\\ln{Q} + nFE $$\n",
    "\n",
    "where n is the charge on the molecule, F is the faraday constant, and E is the electrostatic potential, or $\\Delta V$.\n",
    "\n",
    "### Imagine No Charge\n",
    "\n",
    "Let us begin with imagining a mitochondrial membrane with not electrical potential, where $E=0$ Volts. Consider the code below.\n",
    "\n"
   ]
  },
  {
   "cell_type": "code",
   "execution_count": 67,
   "metadata": {
    "tags": [
     "hide-input"
    ]
   },
   "outputs": [
    {
     "name": "stdout",
     "output_type": "stream",
     "text": [
      "deltaG = -5.708 kJ/mole\n"
     ]
    }
   ],
   "source": [
    "from scipy.constants import physical_constants\n",
    "\n",
    "pH_out = 7   ### There is a difference of approx one pH unit between the matrix\n",
    "pH_in = 8    ### and the intermebrane space. the matrix is slightly more basic\n",
    "\n",
    "H_out = 10**-pH_out   ### convert pH to H conc.\n",
    "H_in = 10**-pH_in\n",
    "\n",
    "n = 1        ### charge on proton is +1\n",
    "E = 0        ### membrane potential is zero\n",
    "F = physical_constants['Faraday constant'][0]   ### Faraday constant is in the physical_constants\n",
    "                                                ### database of scipy. It is not a fundamental value\n",
    "                                                ### and is obtained by electron charge * Avogado's number\n",
    "                                                ### F = scipy.constants.e * scipy.constants.N_A\n",
    "\n",
    "DG = R * T * np.log(H_in / H_out) + n * F * E  ### The Nernst equation\n",
    "\n",
    "DG_kJ = DG / 1000              ### convert result to kJ/mole\n",
    "print(f\"deltaG = {DG_kJ:.3f} kJ/mole\")"
   ]
  },
  {
   "cell_type": "markdown",
   "metadata": {},
   "source": [
    "The system is not at equilibrium and protons will flow spontaneously into the matrix if only there was some way to do so. However, 5.7 kJ/mole is not enough potential energy to spin ATP synthase. Is there something missing? Yes, the added energy of the electrical potential.\n",
    "\n",
    "### Add Electrical Potential\n",
    "\n",
    "Now let us repeat the above and set the membrane voltage to -0.13 V. We are \"standing\" outside the matrix, looking in. The concentration aoutside is the starting position (reactant) and the concentration inside is the ending position (product). The charge is more positive outside and less so inside. So moving from out to in would be a negative change in charge, hence the negative potential from that point of view. Pick a place to stand and stay there and all you math will work.\n",
    "\n",
    "Consider the code below."
   ]
  },
  {
   "cell_type": "code",
   "execution_count": 68,
   "metadata": {
    "tags": [
     "hide-input"
    ]
   },
   "outputs": [
    {
     "name": "stdout",
     "output_type": "stream",
     "text": [
      "deltaG = -18.251 kJ/mole\n"
     ]
    }
   ],
   "source": [
    "### Using values set above plus the following changes...\n",
    "\n",
    "E = -0.13        ### membrane potential is -0.13 V\n",
    "\n",
    "DG = R * T * np.log(H_in / H_out) + n * F * E  ### The Nernst equation\n",
    "\n",
    "DG_kJ = DG / 1000              ### convert result to kJ/mole\n",
    "print(f\"deltaG = {DG_kJ:.3f} kJ/mole\")"
   ]
  },
  {
   "cell_type": "markdown",
   "metadata": {},
   "source": [
    "That is a much, much greater energy difference between the two sides of the membrane. The majority of the energy is due to the added energy of positively charged protons in the voltage potential across the membrane. We see ions used in many important transmembrane systems such as nerve signalling and secondary transport systems. The added oomph from cell membrane voltage potentials makes ions very useful in transport events.\n",
    "\n",
    "### Making ATP\n",
    "\n",
    "It takes 10 protons to complete one full turn of ATP synthase. Every third of a turn and ATP is produced (on average). So 3.3 protons are needed to cross the membrane for each ATP.\n",
    "\n",
    "The $\\Delta G^{\\circ}$ for ATP formation from ADP and phosphate is about +33 kJ/mole. And we have stated that 3.3 protons pass through in the process of making an ATP. Consider the code below..."
   ]
  },
  {
   "cell_type": "code",
   "execution_count": 69,
   "metadata": {
    "tags": [
     "hide-input"
    ]
   },
   "outputs": [
    {
     "name": "stdout",
     "output_type": "stream",
     "text": [
      "The Delta G for 3.3 protons crossing the membrane is -60.2 kJ/mole\n",
      "The Delta G for ADP + Pi ---> ATP is 33.0 kJ/mole\n",
      "The Delta G for ADP + Pi ---> ATP is -27.2 kJ/mole\n"
     ]
    }
   ],
   "source": [
    "Total_DG = 3.3 * DG_kJ     ### Multiply the chemical potential of the proton gradient by 3.3\n",
    "print(f\"The Delta G for 3.3 protons crossing the membrane is {Total_DG:.1f} kJ/mole\")\n",
    "\n",
    "DG_Standard_ATP = 33.0     ### kJ/mole\n",
    "print(f\"The Delta G for ADP + Pi ---> ATP is {DG_Standard_ATP:.1f} kJ/mole\")\n",
    "\n",
    "E_total =  DG_Standard_ATP + Total_DG\n",
    "print(f\"The Delta G for ADP + Pi ---> ATP is {E_total:.1f} kJ/mole\")"
   ]
  },
  {
   "cell_type": "markdown",
   "metadata": {},
   "source": [
    "There is a large free energy difference assuming the ATP reaction is at standard conditions. That's unlikely, but one thing we can expect is that the concentration of ATP should be greater that ATP if we are to move toward equilibrium. ATP will be synthesized, but what is the actual observed value for the combine proton transport and ATP synthesis in a mitochondrion?\n",
    "\n",
    "First one must recognize that this is not a simple question. The $\\delta G$ for the reaction is dependant of the concentrations of ATP, ADP and phosphate ion. It is also dependant on magnesium ion concentration and pH as these are actually both very much associated with phosphate chemistry. The value for the standard free energy difference of ATP synthesis varies between +25 and +39 kJ/mole depending on the conditions in the cell or mitochondrion. The value of $\\Delta G^{\\circ} = 33$ kJ/mole is a consensus value (otherwise known as a ballpark figure.) \n",
    "\n",
    "### In a Real Mitochondrion\n",
    "Values for concentrations of ATP, ADP and phosphate are difficult to find. I did find one example that used phosphorous NMR to estimate these concentrations in heart mitochondria that had been isolated and placed in test tube in the publication below.\n",
    "\n",
    "\"The relation between the internal phosphorylation potential and the proton motive force in mitochondria during ATP synthesis and hydrolysis.\" S. Ogawa, T.M. Lee, *J. Biol. Chem.*, **1984**, *259*, 10004-10011. [https://doi.org/10.1016/S0021-9258(18)90918-X](https://doi.org/10.1016/S0021-9258(18)90918-X)\n",
    "\n",
    "The authors reported the values in nanomoles/mg of mitochondrial. They also reported how many mg of mitochondria were used and their estimate of the internal volume of the mitochondria per mg. I guestimated from these reported values that, in the 'steady state' measurements made by the authors, the concentration of ATP was 5.8 mM, phosphate was 10 mM and ADP was 1.45 mM. The calculations for these values are below."
   ]
  },
  {
   "cell_type": "code",
   "execution_count": 94,
   "metadata": {
    "tags": [
     "hide-input"
    ]
   },
   "outputs": [
    {
     "name": "stdout",
     "output_type": "stream",
     "text": [
      "ATP conc in mitochondria is 5.83e-03 moles/L\n",
      "ADP conc in mitochondria is 1.46e-03 moles/L\n",
      "Phosphate conc in mitochondria is 1.00e-03 moles/L\n"
     ]
    }
   ],
   "source": [
    "### See table 1 of the publication for these numbers\n",
    "\n",
    "amount_ATP = 7E-9     ### moles/mg of mitochondria\n",
    "amount_Pi = 12E-9     ### moles/mg of mitochondria\n",
    "volume = 1.2E-6       ### L/mg internal volume of mitochondria \n",
    "ATP_ADP_ratio = 4\n",
    "\n",
    "conc_ATP = amount_ATP / volume\n",
    "conc_Pi = amount_Pi / volume\n",
    "conc_ADP = conc_ATP / ratio\n",
    "\n",
    "print(f\"ATP conc in mitochondria is {conc_ATP:.2e} moles/L\")\n",
    "print(f\"ADP conc in mitochondria is {conc_ADP:.2e} moles/L\")\n",
    "print(f\"Phosphate conc in mitochondria is {conc_Pi:.2e} moles/L\")"
   ]
  },
  {
   "cell_type": "markdown",
   "metadata": {},
   "source": [
    "These values were close to values reported by other groups using different methods. So I have a cautious trust that we are at least in the right order of magnitude. Using these values we can calculate the actual observed free energy cost for making ATP in this particular mitochondrion. We will use the same equation as above.\n",
    "\n",
    "$$ \\Delta G = \\Delta G^{\\circ} + RT\\ln{Q}$$\n",
    "\n",
    "...where Q is the reaction quotient. So in the specific case of the reaction above we would write...\n",
    "\n",
    "$$ \\Delta G = \\Delta G^{\\circ} + RT\\ln{\\frac{[ATP]}{[ADP][P_i]}}$$"
   ]
  },
  {
   "cell_type": "code",
   "execution_count": 95,
   "metadata": {
    "tags": [
     "hide-input"
    ]
   },
   "outputs": [
    {
     "name": "stdout",
     "output_type": "stream",
     "text": [
      "The Delta G for ATP synthesis is 53.56 kj/mole\n",
      "The for transfer of 3.3 protons is -60.23 kj/mole\n",
      "\n",
      "The combined delta G for the two coupled processes is -6.67 kJ/mole\n"
     ]
    }
   ],
   "source": [
    "DG_0 = 33000          ### J/mole\n",
    "\n",
    "DG = DG_0 + R*T*np.log(conc_ATP / (conc_ADP * conc_Pi))\n",
    "DG_ATP = DG / 1000   ### J to kJ\n",
    "\n",
    "print(f\"The Delta G for ATP synthesis is {DG_ATP:.2f} kj/mole\")\n",
    "print(f\"The for transfer of 3.3 protons is {Total_DG:.2f} kj/mole\")   ### from previous calcs above\n",
    "\n",
    "total = DG_ATP + Total_DG\n",
    "\n",
    "print()\n",
    "print(f\"The combined delta G for the two coupled processes is {total:.2f} kJ/mole\")\n"
   ]
  },
  {
   "cell_type": "markdown",
   "metadata": {},
   "source": [
    "So the process of proton flow powering ATP synthesis in this mitochondrion is not at equilibrium and will proceed in the direction of ATP synthesis. ATP is always being made as long as we maintain this steady state.\n",
    "\n",
    "ATP<sup>3-</sup> is transported out of the mitochondrion in exchange for ADP<sup>2-</sup> via a cotransport protein.  The negative voltage gradient greatly favours this exchange. It is a net export of negative charge toward the positive side of the membrane. As a result ATP is constantly being removed as it is made. The cytosolic ATP/ADP ratio is much higher than inside the mitochondrion as a result.  "
   ]
  }
 ],
 "metadata": {
  "kernelspec": {
   "display_name": "base",
   "language": "python",
   "name": "python3"
  },
  "language_info": {
   "codemirror_mode": {
    "name": "ipython",
    "version": 3
   },
   "file_extension": ".py",
   "mimetype": "text/x-python",
   "name": "python",
   "nbconvert_exporter": "python",
   "pygments_lexer": "ipython3",
   "version": "3.11.4"
  }
 },
 "nbformat": 4,
 "nbformat_minor": 2
}

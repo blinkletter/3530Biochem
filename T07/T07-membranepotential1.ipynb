{
 "cells": [
  {
   "cell_type": "markdown",
   "metadata": {},
   "source": [
    "# Chemical Potential in Cells\n",
    "\n",
    "Chemical potential is the energy difference between two observable situations. Like the energy difference between you on a rooftop and on the ground.That energy can be calculated. It can be accessed by allowing the system to proceed toward its destination. Just jump. The potential energy will be released as heat (although some of the energy will have been used to break your bones.)\n",
    "\n",
    "There are two kinds of potential energy, standard and observed. Standard potential energy is the nergy difference between two situations in the standard state. For that rooftop example we might always use a standard mass. For chemistry, we use standard concentrations and the standard state is when all reactants and products are present in a concentration of 1 mole/L.\n",
    "\n",
    "## Free Energy Difference in Glycolysis\n",
    "\n",
    "### Using the Standard State \n",
    "Let us take the example of the isomerization of glucose-6-phosphate to fructose-6-phosphae in the glycolysis pathway. The standard free energy difference, $\\Delta G \\degree$ is the energy difference between reactants and products when everything is at 1 M concentration. It is known to be 1.67 kJ/mole.\n",
    "\n",
    "The observed free energy difference, $\\Delta G$, is what is observed when concentrations are not all perfectly 1 M. Let us consider the reaction above.\n",
    "\n",
    "$$ G6P \\rightarrow F6P, \\ \\ \\Delta G \\degree = +1.67\\;kJ\\,mole^{-1} $$\n",
    "\n",
    "The equation for free energy difference is...\n",
    "\n",
    "$$ \\Delta G = \\Delta G \\degree + RT\\ln{Q}$$\n",
    "\n",
    "...where Q is the reaction quotient. So in the specific case of the reaction above we would write...\n",
    "\n",
    "$$ \\Delta G = \\Delta G \\degree + RT\\ln{\\frac{[F6P]}{[G6P]}}$$\n",
    "\n",
    "We can then calculate the free energy difference in the standard state as shown in the code below."
   ]
  },
  {
   "cell_type": "code",
   "execution_count": 19,
   "metadata": {},
   "outputs": [
    {
     "name": "stdout",
     "output_type": "stream",
     "text": [
      "deltaG = 1.670 kJ/mole\n"
     ]
    }
   ],
   "source": [
    "import numpy as np             ### math tools\n",
    "from scipy.constants import R  ### gas constant R = 8.314 J/molK\n",
    "from scipy.constants import zero_Celsius   ### 0 decrees C is 273.15 degrees K\n",
    "\n",
    "Delta_G_Standard =  1.67       ### kJ/mole\n",
    "Conc_R = 1                     ### reactant, G6P, is 1 M in conc.\n",
    "Conc_P = 1                     ### product, F6P, is 1 M in conc.\n",
    "Temp = 25                      ### degrees celcius\n",
    "\n",
    "T = Temp + zero_Celsius        ### get temp in degrees K\n",
    "DG_0 = Delta_G_Standard * 1000 ### convert kJ/mole to J/mole\n",
    "\n",
    "DG = DG_0 + R * T * np.log(Conc_P / Conc_R)   ### np.log(x) is ln(x), np.log10(x) is log(x)\n",
    "\n",
    "DG_kJ = DG / 1000              ### convert result to kJ/mole\n",
    "print(f\"deltaG = {DG_kJ:.3f} kJ/mole\")"
   ]
  },
  {
   "cell_type": "markdown",
   "metadata": {},
   "source": [
    "Observe that the observed free energy difference, $\\Delta G$, is identical to the standard free energy difference, $\\Delta G \\degree$, when we are at the standard state. This is the definition of standard free energy difference. When we are at the standard state, we are not at equilibrium in this case. \n",
    "\n",
    "### Using Known Concentrations\n",
    "\n",
    "It is commonly reported in textbooks that [G6P] = 0.083 mM and [F6P] = 0.014 mM. Let us calculate the observed $\\delta G$ when these conditions exist. Condider the code below."
   ]
  },
  {
   "cell_type": "code",
   "execution_count": 29,
   "metadata": {},
   "outputs": [
    {
     "name": "stdout",
     "output_type": "stream",
     "text": [
      "deltaG = -2.742 kJ/mole\n"
     ]
    }
   ],
   "source": [
    "### Using values set above plus the following changes...\n",
    "\n",
    "Conc_R = 0.083                 ### reactant, G6P, is 0.083 mM in conc.\n",
    "Conc_P = 0.014                 ### product, F6P, is 0.014 mM in conc.\n",
    "\n",
    "Conc_R = Conc_R / 1000         ### convert mM to M\n",
    "Conc_P = Conc_P / 1000\n",
    "\n",
    "DG = DG_0 + R * T * np.log(Conc_P / Conc_R)   ### np.log(x) is ln(x), np.log10(x) is log(x)\n",
    "\n",
    "DG_kJ = DG / 1000              ### convert result to kJ/mole\n",
    "print(f\"deltaG = {DG_kJ:.3f} kJ/mole\")"
   ]
  },
  {
   "cell_type": "markdown",
   "metadata": {},
   "source": [
    "In cellular conditions (red blood cells) the observed free energy difference is slightly negative. The system is not at equilibrium and will proceed toward product to reach equilibrium. Change the values above and see what results you get. How much do you need to increase the concentration of product or decrease the reactant to reach something near perfect equilibrium ($\\Delta G = 0$)?"
   ]
  },
  {
   "cell_type": "markdown",
   "metadata": {},
   "source": [
    "## Membrane Potential\n",
    "\n",
    "We have seen that free energy in a situation depends on the standard free energy difference combined with the actual concentrations in the real world (no system ever has all concentrations at 1 M). The potential energy held back by a membrane is the same as the potential energy held back by the floor you are standing on. You want to fall down, but the floor is holding you at a given altitude. Molecules want to flow from greater to lesser concentrations but can be held back by a barrier.\n",
    "\n",
    "### Concentration Gradients\n",
    "\n",
    "Movement across a membrane is a chemical reaction. The standard free energy difference is zero when concentrations are equal on both sides. But when concentrations are different we have a 'concentration gradient.' The energy difference is the 'membrane potential.' It is a difference in free energy due to the different concentrations. We use the same free energy equation as above. But $\\Delta G \\degree = 0$ for membranes becasue the molecule is not changing, only ist concentrations. The concentration term of the equation will be all that matters.\n",
    "\n",
    "We will consider a situation where we have glucose outside and inside of a red blood cell. We will always place ourselve on the 'outside' point of view so the starting position (reactant) is outside. What is the observed free energy difference for the following reaction?\n",
    "\n",
    "$$ Glc_{out} \\rightarrow Glc_{in}$$\n",
    "\n",
    "where $[Glc_{out}] = 5.4$ mM and $[Glc_{in}] = 5.0$ mM"
   ]
  }
 ],
 "metadata": {
  "kernelspec": {
   "display_name": "base",
   "language": "python",
   "name": "python3"
  },
  "language_info": {
   "codemirror_mode": {
    "name": "ipython",
    "version": 3
   },
   "file_extension": ".py",
   "mimetype": "text/x-python",
   "name": "python",
   "nbconvert_exporter": "python",
   "pygments_lexer": "ipython3",
   "version": "3.11.4"
  }
 },
 "nbformat": 4,
 "nbformat_minor": 2
}

{
 "cells": [
  {
   "cell_type": "code",
   "execution_count": 1,
   "id": "2556f948",
   "metadata": {},
   "outputs": [
    {
     "name": "stdout",
     "output_type": "stream",
     "text": [
      "IMPORTCODE.py\n",
      "MM-LB-EH-HW_plots\n",
      "MM_Intro.ipynb\n",
      "MM_plot.pdf\n",
      "T3_Galactsidase_enzyme_kinetics.ipynb\n",
      "T3_Galactsidase_enzyme_kinetics_TESTIMPORTCODE.ipynb\n",
      "T3_MM_Intro_basics.ipynb\n",
      "T3_MM_Intro_basics_functions.ipynb\n",
      "T3_gen_data.ipynb\n",
      "Untitled.ipynb\n",
      "__pycache__\n",
      "dir.txt\n",
      "importingFilesFromGitHub.txt\n"
     ]
    }
   ],
   "source": [
    "ls"
   ]
  },
  {
   "cell_type": "code",
   "execution_count": 2,
   "id": "0e292992",
   "metadata": {},
   "outputs": [
    {
     "name": "stdout",
     "output_type": "stream",
     "text": [
      "total 1064\n",
      "drwxr-xr-x  17 blink  staff     544  6 Mar 20:32 .\n",
      "drwxr-xr-x  20 blink  staff     640  6 Mar 19:14 ..\n",
      "-rw-r--r--@  1 blink  staff   10244  5 Feb 16:43 .DS_Store\n",
      "drwxr-xr-x   4 blink  staff     128  6 Mar 20:30 .ipynb_checkpoints\n",
      "-rw-r--r--   1 blink  staff    4546  6 Mar 19:14 IMPORTCODE.py\n",
      "drwxr-xr-x  22 blink  staff     704 30 Jan 15:27 MM-LB-EH-HW_plots\n",
      "-rw-r--r--   1 blink  staff  101140 30 Jan 15:27 MM_Intro.ipynb\n",
      "-rw-r--r--   1 blink  staff   13737  6 Mar 20:26 MM_plot.pdf\n",
      "-rw-r--r--   1 blink  staff   12808  5 Feb 16:45 T3_Galactsidase_enzyme_kinetics.ipynb\n",
      "-rw-r--r--   1 blink  staff   38186  6 Mar 20:28 T3_Galactsidase_enzyme_kinetics_TESTIMPORTCODE.ipynb\n",
      "-rw-r--r--   1 blink  staff   46731 30 Jan 15:27 T3_MM_Intro_basics.ipynb\n",
      "-rw-r--r--   1 blink  staff  275172 30 Jan 15:27 T3_MM_Intro_basics_functions.ipynb\n",
      "-rw-r--r--   1 blink  staff    6917 30 Jan 15:27 T3_gen_data.ipynb\n",
      "-rw-r--r--   1 blink  staff    1101  6 Mar 20:32 Untitled.ipynb\n",
      "drwxr-xr-x   3 blink  staff      96  6 Mar 20:25 __pycache__\n",
      "-rw-r--r--   1 blink  staff     264  6 Mar 19:18 dir.txt\n",
      "-rw-r--r--   1 blink  staff     513  6 Mar 20:33 importingFilesFromGitHub.txt\n"
     ]
    }
   ],
   "source": [
    "ls -al\n"
   ]
  },
  {
   "cell_type": "code",
   "execution_count": 3,
   "id": "4986f313",
   "metadata": {},
   "outputs": [
    {
     "name": "stdout",
     "output_type": "stream",
     "text": [
      "/Users/blink/github/3530Biochem/T03\n"
     ]
    }
   ],
   "source": [
    "pwd\n"
   ]
  },
  {
   "cell_type": "code",
   "execution_count": 4,
   "id": "a9d1ca93",
   "metadata": {},
   "outputs": [
    {
     "name": "stdout",
     "output_type": "stream",
     "text": [
      "LICENSE\t\t\tT03\t\t\t_build\n",
      "README.md\t\tT04\t\t\t_config.yml\n",
      "ReactionKinetics\tT07\t\t\t_toc.yml\n",
      "S2_classic2.mplstyle\tT3_gen_data.ipynb\tplot.png\n",
      "T02\t\t\tTitrationAgain.ipynb\tstart.md\n"
     ]
    }
   ],
   "source": [
    "cd ..\n",
    "ls"
   ]
  },
  {
   "cell_type": "code",
   "execution_count": 5,
   "id": "2676fc18",
   "metadata": {},
   "outputs": [
    {
     "name": "stdout",
     "output_type": "stream",
     "text": [
      "/Users/blink/github/3530Biochem\n"
     ]
    }
   ],
   "source": [
    "pwd"
   ]
  },
  {
   "cell_type": "code",
   "execution_count": 12,
   "id": "52fa8d5e",
   "metadata": {},
   "outputs": [
    {
     "name": "stdout",
     "output_type": "stream",
     "text": [
      "3530Biochem\t\t\tStealThisCode\n",
      "4410PythonNotebooks\t\tUsingGAMESS\n",
      "LFER-QSAR\t\t\tblinkletter\n",
      "MathWithPython\t\t\tget SciCompforChemists note\n",
      "ReactionKineticsBook\t\tout2.txt\n",
      "SHMOT\t\t\t\tout3.txt\n"
     ]
    }
   ],
   "source": [
    "cd ..\n",
    "ls\n"
   ]
  },
  {
   "cell_type": "code",
   "execution_count": 13,
   "id": "5b7b06aa",
   "metadata": {},
   "outputs": [],
   "source": [
    "cd StealThisCode"
   ]
  },
  {
   "cell_type": "code",
   "execution_count": 14,
   "id": "ddf28388",
   "metadata": {},
   "outputs": [
    {
     "name": "stdout",
     "output_type": "stream",
     "text": [
      ".\t\t\t\tREADME.md\n",
      "..\t\t\t\tReactionKinetics\n",
      ".DS_Store\t\t\t_build\n",
      ".git\t\t\t\t_config.yml\n",
      ".gitignore\t\t\t_static\n",
      "1_1_Calculator.ipynb\t\t_toc.yml\n",
      "2_1_Plotting.ipynb\t\toutput.png\n",
      "2_2_Curve_Fits.ipynb\t\tplot.pdf\n",
      "2_3_Curve_Fits.ipynb\t\tstart.md\n",
      "2_4_Fancy_1.ipynb\t\tstyles\n",
      "LICENSE\t\t\t\tuncertainties.ipynb\n",
      "Ouroboros-benzene.svg.png\n"
     ]
    }
   ],
   "source": [
    "ls -a"
   ]
  },
  {
   "cell_type": "code",
   "execution_count": 15,
   "id": "31edb6c4",
   "metadata": {},
   "outputs": [],
   "source": [
    "cp .gitignore ../3530Biochem"
   ]
  },
  {
   "cell_type": "code",
   "execution_count": 17,
   "id": "89f2585b",
   "metadata": {},
   "outputs": [
    {
     "name": "stdout",
     "output_type": "stream",
     "text": [
      ".\t\t\tReactionKinetics\tTitrationAgain.ipynb\n",
      "..\t\t\tS2_classic2.mplstyle\t_build\n",
      ".DS_Store\t\tT02\t\t\t_config.yml\n",
      ".git\t\t\tT03\t\t\t_toc.yml\n",
      ".gitignore\t\tT04\t\t\tplot.png\n",
      "LICENSE\t\t\tT07\t\t\tstart.md\n",
      "README.md\t\tT3_gen_data.ipynb\n"
     ]
    }
   ],
   "source": [
    "cd ..\n",
    "cd 3530Biochem\n",
    "ls -a"
   ]
  },
  {
   "cell_type": "code",
   "execution_count": 11,
   "id": "0775dca5",
   "metadata": {},
   "outputs": [
    {
     "name": "stdout",
     "output_type": "stream",
     "text": [
      "CP(1)                       General Commands Manual                      CP(1)\n",
      "\n",
      "NAME\n",
      "     cp – copy files\n",
      "\n",
      "SYNOPSIS\n",
      "     cp [-R [-H | -L | -P]] [-fi | -n] [-alpSsvXx] source_file target_file\n",
      "     cp [-R [-H | -L | -P]] [-fi | -n] [-alpSsvXx]\n",
      "        source_file ... target_directory\n",
      "     cp [-f | -i | -n] [-alPpSsvx] source_file target_file\n",
      "     cp [-f | -i | -n] [-alPpSsvx] source_file ... target_directory\n",
      "\n",
      "DESCRIPTION\n",
      "     In the first synopsis form, the cp utility copies the contents of the\n",
      "     source_file to the target_file.  In the second synopsis form, the\n",
      "     contents of each named source_file is copied to the destination\n",
      "     target_directory.  The names of the files themselves are not changed.  If\n",
      "     cp detects an attempt to copy a file to itself, the copy will fail.\n",
      "\n",
      "     The following options are available:\n",
      "\n",
      "     -H    If the -R option is specified, symbolic links on the command line\n",
      "           are followed.  (Symbolic links encountered in the tree traversal\n",
      "           are not followed.)\n",
      "\n",
      "     -L    If the -R option is specified, all symbolic links are followed.\n",
      "\n",
      "     -P    No symbolic links are followed.  This is the default if the -R\n",
      "           option is specified.\n",
      "\n",
      "     -R    If source_file designates a directory, cp copies the directory and\n",
      "           the entire subtree connected at that point.  If the source_file\n",
      "           ends in a /, the contents of the directory are copied rather than\n",
      "           the directory itself.  This option also causes symbolic links to be\n",
      "           copied, rather than indirected through, and for cp to create\n",
      "           special files rather than copying them as normal files.  Created\n",
      "           directories have the same mode as the corresponding source\n",
      "           directory, unmodified by the process' umask.\n",
      "\n",
      "           In -R mode, cp will continue copying even if errors are detected.\n",
      "\n",
      "           Note that cp copies hard linked files as separate files.  If you\n",
      "           need to preserve hard links, consider using tar(1), cpio(1), or\n",
      "           pax(1) instead.\n",
      "\n",
      "     -a    Archive mode.  Same as -RpP options. Preserves structure and\n",
      "           attributes of files but not directory structure.\n",
      "\n",
      "     -c    copy files using clonefile(2).  Note that if clonefile(2) is not\n",
      "           supported for the target filesystem, then cp will fallback to using\n",
      "           copyfile(2) instead to ensure the copy still succeeds.\n",
      "\n",
      "     -f    If the destination file cannot be opened, remove it and create a\n",
      "           new file, without prompting for confirmation regardless of its\n",
      "           permissions.  (The -f option overrides any previous -n option.)\n",
      "\n",
      "           The target file is not unlinked before the copy.  Thus, any\n",
      "           existing access rights will be retained.\n",
      "\n",
      "     -i    Cause cp to write a prompt to the standard error output before\n",
      "           copying a file that would overwrite an existing file.  If the\n",
      "           response from the standard input begins with the character ‘y’ or\n",
      "           ‘Y’, the file copy is attempted.  (The -i option overrides any\n",
      "           previous -n option.)\n",
      "\n",
      "     -l    Create hard links to regular files in a hierarchy instead of\n",
      "           copying.\n",
      "\n",
      "     -n    Do not overwrite an existing file.  (The -n option overrides any\n",
      "           previous -f or -i options.)\n",
      "\n",
      "     -p    Cause cp to preserve the following attributes of each source file\n",
      "           in the copy: modification time, access time, file flags, file mode,\n",
      "           user ID, and group ID, as allowed by permissions.  Access Control\n",
      "           Lists (ACLs) and Extended Attributes (EAs), including resource\n",
      "           forks, will also be preserved.\n",
      "\n",
      "           If the user ID and group ID cannot be preserved, no error message\n",
      "           is displayed and the exit value is not altered.\n",
      "\n",
      "           If the source file has its set-user-ID bit on and the user ID\n",
      "           cannot be preserved, the set-user-ID bit is not preserved in the\n",
      "           copy's permissions.  If the source file has its set-group-ID bit on\n",
      "           and the group ID cannot be preserved, the set-group-ID bit is not\n",
      "           preserved in the copy's permissions.  If the source file has both\n",
      "           its set-user-ID and set-group-ID bits on, and either the user ID or\n",
      "           group ID cannot be preserved, neither the set-user-ID nor set-\n",
      "           group-ID bits are preserved in the copy's permissions.\n",
      "\n",
      "     -S    Do not attempt to preserve holes in sparse files.\n",
      "\n",
      "     -s    Create symbolic links to regular files in a hierarchy instead of\n",
      "           copying.\n",
      "\n",
      "     -v    Cause cp to be verbose, showing files as they are copied.\n",
      "\n",
      "     -X    Do not copy Extended Attributes (EAs) or resource forks.\n",
      "\n",
      "     -x    File system mount points are not traversed.\n",
      "\n",
      "     For each destination file that already exists, its contents are\n",
      "     overwritten if permissions allow.  Its mode, user ID, and group ID are\n",
      "     unchanged unless the -p option was specified.\n",
      "\n",
      "     In the second synopsis form, target_directory must exist unless there is\n",
      "     only one named source_file which is a directory and the -R flag is\n",
      "     specified.\n",
      "\n",
      "     If the destination file does not exist, the mode of the source file is\n",
      "     used as modified by the file mode creation mask (umask, see csh(1)).  If\n",
      "     the source file has its set-user-ID bit on, that bit is removed unless\n",
      "     both the source file and the destination file are owned by the same user.\n",
      "     If the source file has its set-group-ID bit on, that bit is removed\n",
      "     unless both the source file and the destination file are in the same\n",
      "     group and the user is a member of that group.  If both the set-user-ID\n",
      "     and set-group-ID bits are set, all of the above conditions must be\n",
      "     fulfilled or both bits are removed.\n",
      "\n",
      "     Appropriate permissions are required for file creation or overwriting.\n",
      "\n",
      "     Symbolic links are always followed unless the -R flag is set, in which\n",
      "     case symbolic links are not followed, by default.  The -H or -L flags (in\n",
      "     conjunction with the -R flag) cause symbolic links to be followed as\n",
      "     described above.  The -H, -L and -P options are ignored unless the -R\n",
      "     option is specified.  In addition, these options override each other and\n",
      "     the command's actions are determined by the last one specified.\n",
      "\n",
      "     If cp receives a SIGINFO (see the status argument for stty(1)) signal,\n",
      "     the current input and output file and the percentage complete will be\n",
      "     written to the standard output.\n",
      "\n",
      "     If cp encounters an I/O error during the copy, then cp may leave a\n",
      "     partially copied target_file in place.  cp specifically avoids cleaning\n",
      "     up the output file in error cases to avoid further data loss in cases\n",
      "     where the source may not be recoverable.  Alternatives, like install(1),\n",
      "     may be preferred if stronger guarantees about the target_file are\n",
      "     required.\n",
      "\n",
      "EXIT STATUS\n",
      "     The cp utility exits 0 on success, and >0 if an error occurs.\n",
      "\n",
      "EXAMPLES\n",
      "     Make a copy of file foo named bar:\n",
      "\n",
      "           $ cp foo bar\n",
      "\n",
      "     Copy a group of files to the /tmp directory:\n",
      "\n",
      "           $ cp *.txt /tmp\n",
      "\n",
      "     Copy the directory junk and all of its contents (including any\n",
      "     subdirectories) to the /tmp directory:\n",
      "\n",
      "           $ cp -R junk /tmp\n",
      "\n",
      "COMPATIBILITY\n",
      "     Historic versions of the cp utility had a -r option.  This implementation\n",
      "     supports that option, however, its behavior is different from historical\n",
      "     FreeBSD behavior.  Use of this option is strongly discouraged as the\n",
      "     behavior is implementation-dependent.  In FreeBSD, -r is a synonym for\n",
      "     -RL and works the same unless modified by other flags.  Historical\n",
      "     implementations of -r differ as they copy special files as normal files\n",
      "     while recreating a hierarchy.\n",
      "\n",
      "     The -l, -s, -v, -x and -n options are non-standard and their use in\n",
      "     scripts is not recommended.\n",
      "\n",
      "LEGACY DESCRIPTION\n",
      "     In legacy mode, -f will override -i.  Also, under the -f option, the\n",
      "     target file is always unlinked before the copy.  Thus, new access rights\n",
      "     will always be set.\n",
      "\n",
      "     In -R mode, copying will terminate if an error is encountered.\n",
      "\n",
      "     For more information about legacy mode, see compat(5).\n",
      "\n",
      "SEE ALSO\n",
      "     install(1), mv(1), rcp(1), clonefile(2), copyfile(2), umask(2), fts(3),\n"
     ]
    },
    {
     "name": "stdout",
     "output_type": "stream",
     "text": [
      "     compat(5), symlink(7)\n",
      "\n",
      "STANDARDS\n",
      "     The cp command is expected to be IEEE Std 1003.2 (“POSIX.2”) compatible.\n",
      "\n",
      "HISTORY\n",
      "     A cp command appeared in Version 1 AT&T UNIX.\n",
      "\n",
      "macOS 14.2                      April 17, 2022                      macOS 14.2\n"
     ]
    }
   ],
   "source": [
    "man cp\n"
   ]
  },
  {
   "cell_type": "code",
   "execution_count": null,
   "id": "7510b0c8",
   "metadata": {},
   "outputs": [],
   "source": []
  }
 ],
 "metadata": {
  "kernelspec": {
   "display_name": "Bash",
   "language": "bash",
   "name": "bash"
  },
  "language_info": {
   "codemirror_mode": "shell",
   "file_extension": ".sh",
   "mimetype": "text/x-sh",
   "name": "bash"
  }
 },
 "nbformat": 4,
 "nbformat_minor": 5
}

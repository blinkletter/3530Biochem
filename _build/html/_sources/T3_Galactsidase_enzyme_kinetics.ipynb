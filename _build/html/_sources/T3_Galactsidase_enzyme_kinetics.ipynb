{
 "cells": [
  {
   "cell_type": "markdown",
   "metadata": {},
   "source": [
    "# Enzyme Kinetics Four Ways for Report\n",
    "\n",
    "This is an example of the kind of math you will need to do for the assignment.\n",
    "\n",
    "## Set Up \n",
    "\n",
    "The first block of code below loads in all the *Python* code tools needed. *SciPy*, *NumPy* and *MatPlotLib* are part of the *Python* standard library. They are enormous collections of code that have been written by hundreds of dedicated people and made freely available for us to use. \n",
    "\n",
    "*Uncertainties* is a common and useful library that provides code for using values that include errors (number $\\pm$ standard deviation). It is not part of the standard library (yet) and is available via the *Python* package index ([PyPI.org](PyPI.org)). It must be installed into you instance of Google Colab using the `pip` command.\n",
    "\n",
    "*BiochemToolbox* is a file of poorly written *Python* code hacked together from stolen snippets of code found from all over the wild, wild web. I stole all my code and so that is why I invite you to steal mine. It is loaded into the Google Colab insance and imported in the code below. Enter `help(BT)` to access documentation on the contents of the *BiochemToolbox* library.\n",
    "\n",
    "Run the code block below to set up everything for this notebook"
   ]
  },
  {
   "cell_type": "code",
   "execution_count": 1,
   "metadata": {},
   "outputs": [
    {
     "name": "stdout",
     "output_type": "stream",
     "text": [
      "zsh:1: command not found: wget\n"
     ]
    }
   ],
   "source": [
    "from scipy.optimize import curve_fit\n",
    "import numpy as np                       \n",
    "from matplotlib import pyplot as plt\n",
    "\n",
    "#!pip install uncertainties  ### to install 'Uncertainties' package in Colab. \n",
    "\n",
    "!wget https://raw.githubusercontent.com/blinkletter/3530Biochem/main/BiochemToolbox.py\n",
    "import BiochemToolbox as BT\n",
    "\n",
    "#help(BT)   ### uncomment to learn about the tools in BiochemToolbox"
   ]
  },
  {
   "cell_type": "markdown",
   "metadata": {},
   "source": [
    "## Enter Data\n",
    "\n",
    "There are many ways to enter data. In this example we will enter it as a list of data pairs (a list of lists). We will convert the list to a *NumPy* array and then \"slice\" the columns of the array into a set of x and y values for concentration and rate."
   ]
  },
  {
   "cell_type": "code",
   "execution_count": 2,
   "metadata": {},
   "outputs": [
    {
     "name": "stdout",
     "output_type": "stream",
     "text": [
      "I will use data set: v0\n"
     ]
    }
   ],
   "source": [
    "SN = 329644     ## Which data set should I use?\n",
    "print(f\"I will use data set: v{SN % 7}\")\n",
    "\n",
    "##########################################################\n",
    "### Create Data set of conc (mM) and delta AU\n",
    "##########################################################\n",
    "\n",
    "data = [[0.05, 0.010],\n",
    "        [0.1,  0.010],\n",
    "        [0.25, 0.021],\n",
    "        [0.5,  0.042],\n",
    "        [1.0,  0.067],\n",
    "        [2.5,  0.105],\n",
    "        [5.0,  0.160],\n",
    "        [8.0,  0.171],\n",
    "        [20.0, 0.232],\n",
    "        [30.0, 0.241]]\n",
    "\n",
    "data = np.array(data)   ### Convert the above list of lists to a 2D array.\n",
    "\n",
    "##########################################################\n",
    "### Collect concentrations and amount reacted data as two separate arrays\n",
    "##########################################################\n",
    "\n",
    "conc = data[:,0]        ### mM     - all rows, column 0\n",
    "rate = data[:,1]        ### AU / min    - all rows, column 1\n",
    "\n"
   ]
  },
  {
   "cell_type": "markdown",
   "metadata": {},
   "source": [
    "## Michaelis-Menten Plot\n",
    "\n",
    "The code below will input the data into the `MM_Plot` function from *BiochemToolbox*. It will create a plot, export a pdf file of that plot and return values with uncertainty for $V_{max}$ and $K_M$. You can enter `help(BT.MM_Plot)` for documentation on this function. "
   ]
  },
  {
   "cell_type": "code",
   "execution_count": 3,
   "metadata": {},
   "outputs": [
    {
     "data": {
      "image/png": "[encoded data removed]",
      "text/plain": [
       "<Figure size 400x300 with 1 Axes>"
      ]
     },
     "metadata": {},
     "output_type": "display_data"
    },
    {
     "name": "stdout",
     "output_type": "stream",
     "text": [
      "The Vmax is 0.266+/-0.008\n",
      "The KM is 3.495+/-0.367\n"
     ]
    }
   ],
   "source": [
    "##########################################################\n",
    "### Use the MM_Plot function to curve fit the data, get \n",
    "### Vmax and KM and plot the data and the fitted curve.\n",
    "##########################################################\n",
    "\n",
    "V_max, KM = BT.MM_Plot(conc, rate,                 ### Call MM_Plot function.\n",
    "                        x_lim = (None,None),       ### Fill in the options\n",
    "                        y_lim = (None,None),       ### to suit your needs.\n",
    "                        title =\"\",\n",
    "                        x_label = \"x-axis\",\n",
    "                        y_label = \"y-axis\",\n",
    "                        file_name = \"Plot.pdf\")    \n",
    "\n",
    "##########################################################\n",
    "### Print the Vmax and KM values. NOTE: They are Uncertainties\n",
    "##########################################################\n",
    "\n",
    "print(f\"The Vmax is {V_max:0.3f}\")\n",
    "print(f\"The KM is {KM:0.3f}\")\n"
   ]
  },
  {
   "cell_type": "markdown",
   "metadata": {},
   "source": [
    "## Lineweaver Burke Plot\n",
    "\n",
    "the code block below will use the `Linear_Plot` function in *BiochemTools* \n",
    "to perform a line fit. The function will plot the data with the line fit and return the slope and intercept.\n",
    "\n",
    "We can the use these values to calculate the $V_{max}$ and $K_M$ using the Lineweaver-Burke plot."
   ]
  },
  {
   "cell_type": "code",
   "execution_count": 4,
   "metadata": {},
   "outputs": [
    {
     "data": {
      "image/png": "[encoded data removed]",
      "text/plain": [
       "<Figure size 400x300 with 1 Axes>"
      ]
     },
     "metadata": {},
     "output_type": "display_data"
    },
    {
     "name": "stdout",
     "output_type": "stream",
     "text": [
      "The slope is 5.453+/-0.812\n",
      "The intercept is 11.026+/-5.862\n",
      "\n",
      "The Vmax is 0.091+/-0.048\n",
      "The KM is 0.495+/-0.273\n"
     ]
    }
   ],
   "source": [
    "##########################################################\n",
    "### Use the Linear_Plot function to curve fit the data, get \n",
    "### slope and intercept and plot the data and the line fit.\n",
    "##########################################################\n",
    "\n",
    "x = 1/conc\n",
    "y = 1/rate\n",
    "\n",
    "##########################################################\n",
    "### Call Linear_Plot function. It will perform the linear fit\n",
    "### and return a list of values (slope and intercept.)\n",
    "### You may also change the labels of the plot, etc.\n",
    "##########################################################\n",
    "\n",
    "slope, intercept = BT.Linear_Plot(x, y,\n",
    "                                  x_lim = (None,None),\n",
    "                                  y_lim = (None,None),\n",
    "                                  title =\"Enter Title Here\",\n",
    "                                  x_label = \"x-axis\",\n",
    "                                  y_label = \"y-axis\",\n",
    "                                  file_name = \"Plot.pdf\")        \n",
    "print(f\"The slope is {slope:0.3f}\")\n",
    "print(f\"The intercept is {intercept:0.3f}\")\n",
    "print()\n",
    "\n",
    "##########################################################\n",
    "### Print the Vmax and KM values. NOTE: They are Uncertainties\n",
    "##########################################################\n",
    "\n",
    "V_max  = 1 / intercept        ### calculate MM parameters from slope and intercept\n",
    "KM = V_max * slope           \n",
    "\n",
    "print(f\"The Vmax is {V_max:0.3f}\")\n",
    "print(f\"The KM is {KM:0.3f}\")\n"
   ]
  },
  {
   "cell_type": "markdown",
   "metadata": {},
   "source": [
    "## Eadie-Hofstee Plot"
   ]
  },
  {
   "cell_type": "code",
   "execution_count": null,
   "metadata": {},
   "outputs": [],
   "source": [
    "##########################################################\n",
    "### Steal the code above and use it to obtain KM and Vmax \n",
    "### using the Eadie-Hofstee plot\n",
    "##########################################################\n"
   ]
  },
  {
   "cell_type": "markdown",
   "metadata": {},
   "source": [
    "## Hanes-Woolf Plot"
   ]
  },
  {
   "cell_type": "code",
   "execution_count": null,
   "metadata": {},
   "outputs": [],
   "source": [
    "##########################################################\n",
    "### Steal the code above and use it to obtain KM and Vmax \n",
    "### using the Hanes-Woolf plot\n",
    "##########################################################\n"
   ]
  }
 ],
 "metadata": {
  "kernelspec": {
   "display_name": "Python 3 (ipykernel)",
   "language": "python",
   "name": "python3"
  },
  "language_info": {
   "codemirror_mode": {
    "name": "ipython",
    "version": 3
   },
   "file_extension": ".py",
   "mimetype": "text/x-python",
   "name": "python",
   "nbconvert_exporter": "python",
   "pygments_lexer": "ipython3",
   "version": "3.11.4"
  }
 },
 "nbformat": 4,
 "nbformat_minor": 2
}

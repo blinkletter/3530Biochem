{
 "cells": [
  {
   "cell_type": "markdown",
   "metadata": {},
   "source": [
    "# Acid Equilibria with *Python*\n",
    "\n",
    "*Python* is a simple computer langauge with very few commands. As we need more commands we must load \"packages\" that contain these extra commands. Tousands of packages are available to do just about anything. We will use the *NumPy* package to get some extra commands for doing math. \n",
    "\n",
    "## A Calculator with a Tape\n",
    "\n",
    "When you examine the code block below try to see how I loaded in that package and how I used the math it provided. Without knowing any *Python* at all, can you see what each command does? Does the code act like a paper tape on and old-fashioned calculator? Can you see everything that was done on that tape? What do you thing the '"
   ]
  },
  {
   "cell_type": "code",
   "execution_count": 1,
   "metadata": {
    "tags": [
     "hide-input"
    ]
   },
   "outputs": [
    {
     "name": "stdout",
     "output_type": "stream",
     "text": [
      "1 + 2 =\n",
      "3\n",
      "1 / 2 * 10 =\n",
      "5.0\n",
      "ln(10) =\n",
      "2.302585092994046\n",
      "log(d) =\n",
      "7.37\n",
      "log(10*2/1) =\n",
      "1.3010299956639813\n"
     ]
    }
   ],
   "source": [
    "import numpy         # load in the numpy package\n",
    "\n",
    "a = 1                # define some variables\n",
    "b = 2\n",
    "c = 10\n",
    "d = 10**7.37\n",
    "\n",
    "print(\"1 + 2 =\")\n",
    "print(a + b)\n",
    "\n",
    "print(\"1 / 2 * 10 =\")\n",
    "print(a / b * c)\n",
    "\n",
    "print(\"ln(10) =\")\n",
    "print(numpy.log(c))\n",
    "\n",
    "print(\"log(d) =\")\n",
    "print(numpy.log10(d))\n",
    "\n",
    "print(\"log(10*2/1) =\")\n",
    "e = numpy.log10(b * c / a)\n",
    "print(e)\n",
    "\n"
   ]
  },
  {
   "cell_type": "markdown",
   "metadata": {},
   "source": []
  },
  {
   "cell_type": "markdown",
   "metadata": {},
   "source": [
    "## You Are Now Ready\n",
    "\n",
    "What we did above"
   ]
  },
  {
   "cell_type": "code",
   "execution_count": null,
   "metadata": {},
   "outputs": [],
   "source": []
  }
 ],
 "metadata": {
  "kernelspec": {
   "display_name": "base",
   "language": "python",
   "name": "python3"
  },
  "language_info": {
   "codemirror_mode": {
    "name": "ipython",
    "version": 3
   },
   "file_extension": ".py",
   "mimetype": "text/x-python",
   "name": "python",
   "nbconvert_exporter": "python",
   "pygments_lexer": "ipython3",
   "version": "3.9.7"
  }
 },
 "nbformat": 4,
 "nbformat_minor": 2
}
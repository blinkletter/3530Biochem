{
 "cells": [
  {
   "cell_type": "markdown",
   "id": "f4387b72",
   "metadata": {},
   "source": [
    "# Problem Set 2 Examples\n",
    "\n",
    "This is a *Jupyter* notebook using interactive *Python*. \n",
    "\n",
    "We can use this notebook as a calculator. The benefit is that all **our calculations can be documented** so that we can easily find errors or make changes without starting from the beginning. I recommend using *Python* notebooks for all your math. There are thousands of tools available through *Python* and we can go from the simple math of this notebook all the way to powerful data science and AI projects.\n",
    "\n",
    "We will demonstrate the problems from the \"**Math Ideas for Biochemistry - Part 2**\" document available on the moodle site. Observe how the *Python* code serves as the information on the method used. Now you can check my work and fix my mistakes. I make no promises that these answers are correct. It is your job to confirm them."
   ]
  },
  {
   "cell_type": "markdown",
   "id": "38c04ec2",
   "metadata": {},
   "source": [
    "## Problem 11 from Math Ideas 2\n",
    "\n",
    "I am observing the rate of a reaction. What happens when. ..\n",
    "1. I double the concentrations of the reactant in a first-order reaction?\n",
    "1. I double the conc. of one of the reactants in a second-order reaction?\n",
    "1. I double the conc. of both reactants in a second-order reactio\n",
    "\n",
    "**Solution**\n",
    "\n",
    "Doubling the concentration of a reactant should increase the reaction rate by that much. In a first order reaction we see that for \n",
    "\n",
    "$$S \\overset{k}{\\longrightarrow} P$$\n",
    "\n",
    "the rate is described by the rate law\n",
    "\n",
    "$$ \\frac{dP}{dt} = k[S]^1 $$\n",
    "\n",
    "and the rate will increase proportinally with increase in [S]. So doubling reactant concentration will double the rate.\n",
    "\n",
    "For a second order reaction we see the same idea but have two reactants in the rate law. For the reaction described by\n",
    "\n",
    "$$S + C \\overset{k}{\\longrightarrow} P$$\n",
    "\n",
    "the rate is described by the rate law\n",
    "\n",
    "$$ \\frac{dP}{dt} = k[C]^1[S]^1 $$\n",
    "\n",
    "and the rate will increase proportinally with increase in [S]. So doubling the concentration of S will double the rate.\n",
    "\n",
    "Doubling the concentration of both C and S will result in quadruple the rate.\n",
    "\n",
    "Below is a demonstration...\n"
   ]
  },
  {
   "cell_type": "code",
   "execution_count": 75,
   "id": "c88aa8da",
   "metadata": {
    "tags": [
     "hide-input"
    ]
   },
   "outputs": [
    {
     "name": "stdout",
     "output_type": "stream",
     "text": [
      "For a first order reaction...\n",
      "The rate is 100.00\n",
      "The rate after doubling concentration is 200.00\n",
      "\n",
      "For a second order reaction...\n",
      "The rate is 4.00\n",
      "The rate after doubling concentration of one reactant is 8.00\n",
      "The rate after doubling concentration of both reactants is 16.00\n"
     ]
    }
   ],
   "source": [
    "# rate constant\n",
    "k = 1E4\n",
    "\n",
    "# concentrations\n",
    "S = 0.01\n",
    "C = 0.02\n",
    "\n",
    "# Calculations for first order\n",
    "rate = k * S\n",
    "\n",
    "print(\"For a first order reaction...\") \n",
    "print(f\"The rate is {rate:0.2f}\")\n",
    "\n",
    "S = 2 * S\n",
    "rate = k * S\n",
    "\n",
    "print(f\"The rate after doubling concentration is {rate:0.2f}\")\n",
    "print()\n",
    "\n",
    "# Calculations for second order\n",
    "rate = k * S * C\n",
    "\n",
    "print(\"For a second order reaction...\") \n",
    "print(f\"The rate is {rate:0.2f}\")\n",
    "\n",
    "S = 2 * S\n",
    "rate = k * S * C\n",
    "\n",
    "print(f\"The rate after doubling concentration of one reactant is {rate:0.2f}\")\n",
    "\n",
    "C = 2 * C\n",
    "rate = k * S * C\n",
    "\n",
    "print(f\"The rate after doubling concentration of both reactants is {rate:0.2f}\")\n",
    "\n",
    "\n"
   ]
  },
  {
   "cell_type": "markdown",
   "id": "828e5096",
   "metadata": {},
   "source": [
    "## Problem 12 from Math Ideas 2\n",
    "\n",
    "What is a zero-order reaction?\n",
    "\n",
    "**Solution**\n",
    "\n",
    "\n",
    "A zero-order reaction has a rate that is independant of reactant concentration. For \n",
    "\n",
    "$$S \\overset{k}{\\longrightarrow} P$$\n",
    "\n",
    "the rate is described by the rate law\n",
    "\n",
    "$$ \\frac{dP}{dt} = k[S]^0 = k $$\n",
    "\n",
    "and the rate will not change with change in [S]. \n",
    "\n",
    "Consider the example below"
   ]
  },
  {
   "cell_type": "code",
   "execution_count": 76,
   "id": "45af5277",
   "metadata": {
    "tags": [
     "hide-input"
    ]
   },
   "outputs": [
    {
     "name": "stdout",
     "output_type": "stream",
     "text": [
      "For a zero order reaction...\n",
      "The rate is 10000.00\n",
      "The rate after doubling concentration is 10000.00\n",
      "\n"
     ]
    }
   ],
   "source": [
    "# rate constant\n",
    "k = 1E4\n",
    "\n",
    "# concentrations\n",
    "S = 0.01\n",
    "\n",
    "# Calculations for first order\n",
    "rate = k * S**0\n",
    "\n",
    "print(\"For a zero order reaction...\") \n",
    "print(f\"The rate is {rate:0.2f}\")\n",
    "\n",
    "S = 2 * S\n",
    "rate = k * S**0\n",
    "\n",
    "print(f\"The rate after doubling concentration is {rate:0.2f}\")\n",
    "print()"
   ]
  },
  {
   "cell_type": "markdown",
   "id": "f5c74c34",
   "metadata": {},
   "source": [
    "## Problem 13 from Math Ideas\n",
    "\n",
    "The change in standard enthalpy, $\\Delta H^\\circ$, for a reaction is $+12$ kJ/mol. The\n",
    "change in standard entropy, $\\Delta S^\\circ$, is $+36$ J/mol K. What is the change in\n",
    "standard free energy at absolute zero? At $100\\ ^\\circ C$? At $25\\ ^\\circ C$? Calculate the\n",
    "temperature at which the standard free energy potential, $\\Delta G^\\circ$, is zero.\n",
    "\n",
    "**Solution**\n",
    "\n",
    "Apply the definition of \n",
    "\n",
    "$$\\Delta G^\\circ = \\Delta H^\\circ - T \\Delta S^\\circ$$ \n",
    "\n",
    "Consider the calculations below."
   ]
  },
  {
   "cell_type": "code",
   "execution_count": 77,
   "id": "e917fbf0",
   "metadata": {
    "tags": [
     "hide-input"
    ]
   },
   "outputs": [
    {
     "name": "stdout",
     "output_type": "stream",
     "text": [
      "At T = 0K, standard deltaG is 12.0 kJ/mole\n",
      "At T = 100K, standard deltaG is 8.4 kJ/mole\n",
      "At T = 25K, standard deltaG is 11.1 kJ/mole\n",
      "The temperature for standard deltaG = 0 is 333.3K\n"
     ]
    }
   ],
   "source": [
    "delta_H = 12000   # converted to Joules per moles\n",
    "delta_S = 36      # Joules per mole per degree K\n",
    "\n",
    "# Absolute zero\n",
    "T = 0\n",
    "delta_G = delta_H - T * delta_S\n",
    "\n",
    "print(f\"At T = 0K, standard deltaG is {delta_G/1000:0.1f} kJ/mole\")\n",
    "\n",
    "# Other temperatures\n",
    "T = 100\n",
    "delta_G = delta_H - T * delta_S\n",
    "print(f\"At T = {T}K, standard deltaG is {delta_G/1000:0.1f} kJ/mole\")\n",
    "\n",
    "T = 25\n",
    "delta_G = delta_H - T * delta_S\n",
    "print(f\"At T = {T}K, standard deltaG is {delta_G/1000:0.1f} kJ/mole\")\n",
    "\n",
    "# Set delta_G = 0 and solve for T\n",
    "\n",
    "T_0 = delta_H / delta_S\n",
    "print(f\"The temperature for standard deltaG = 0 is {T_0:0.1f}K\")\n"
   ]
  },
  {
   "cell_type": "markdown",
   "id": "4ee572a4",
   "metadata": {},
   "source": [
    "## Problem 14 from Math Ideas\n",
    "\n",
    "How much faster or slower will a reaction be if I reduce the activation\n",
    "energy, $E_a = 28$ kJ/mol, to one third of its value?\n",
    "\n",
    "**Solution**\n",
    "\n",
    "Use the Arrhenius equation for the rate constant \n",
    "\n",
    "$$k = Ae^{-\\frac{E_a}{RT}}$$\n",
    "\n",
    "We will assume T = 298K. The most simple way to answer this is to calculate the rate constant at the two values of $E_a$. Or you can show that...\n",
    "\n",
    "\\begin{align}\n",
    "\\frac{k_{E_a/3}}{k_{E_a}} &= \\frac{Ae^{-\\frac{E_a/3}{RT}}}{Ae^{-\\frac{E_a}{RT}}} \\\\\n",
    "\\frac{k_{E_a/3}}{k_{E_a}} &= e^{-{E_a/3}+{E_a}} = e^{{\\frac{2}{3}E_a}} \n",
    "\\end{align}"
   ]
  },
  {
   "cell_type": "code",
   "execution_count": 122,
   "id": "280ed147",
   "metadata": {
    "tags": [
     "hide-input"
    ]
   },
   "outputs": [
    {
     "name": "stdout",
     "output_type": "stream",
     "text": [
      "The changed rate is 1871.1 times faster\n"
     ]
    }
   ],
   "source": [
    "import numpy as np\n",
    "\n",
    "### calulate one rate and then the other and get the ration\n",
    "Ea = 28000   ### converted to Joules per mole\n",
    "\n",
    "R = 8.314    ### J/mol K\n",
    "T = 298      ### degrees Kelvin\n",
    "A = 1E12     ### A typical value for A  (It will cancel out anyway)\n",
    "\n",
    "### rearrange the equation to solve for standard free energy. \n",
    "\n",
    "k_normal = A * np.exp(-Ea / (R * T))\n",
    "k_changed = A * np.exp(-(Ea/3) / (R * T))\n",
    "\n",
    "ratio = k_changed / k_normal\n",
    "\n",
    "print(f\"The changed rate is {ratio:0.1f} times faster\")"
   ]
  },
  {
   "cell_type": "markdown",
   "id": "5d4f277d",
   "metadata": {},
   "source": [
    "## Problem 15 from Math Ideas\n",
    "\n",
    "I have performed a Lineweaver-Burke plot in an enzyme kinetics experiment. The concentration of substrate was measured in mM and the\n",
    "rate in μM/s. The line equation reported from my spreadsheet was $𝑦=0.0064𝑥+0.0018$.\n",
    "1. What are the $K_M$ and $V_{max}$ for this experiment?\n",
    "1. The concentration of enzyme was 10 nM. What is the value for $k_{cat}$?\n",
    "1. What is the turnover number?\n",
    "\n",
    "**Solution**\n",
    "\n",
    "Using the Lineweaver-Burke equation we can convert the slope and intercept to $K_M$ and $V_{max}$.\n",
    "\n",
    "$$\\frac{1}{\\nu_0} = \\frac{K_M}{V_{max}}\\frac{1}{[S]_t} + \\frac{1}{V_{max}} $$\n",
    "\n",
    "and we define \n",
    "\n",
    "$$V_{max} = k_{cat}[E]_t$$ \n",
    "\n",
    "Consider the calculations below. Pay attention to the units."
   ]
  },
  {
   "cell_type": "code",
   "execution_count": 79,
   "id": "0ecd77f3",
   "metadata": {
    "tags": [
     "hide-input"
    ]
   },
   "outputs": [
    {
     "name": "stdout",
     "output_type": "stream",
     "text": [
      "The value of V_max is 555.6 micromolar per second\n",
      "The value of K_M is 3.6 mM\n",
      "The k_cat value is 5.56e+04 per second\n",
      "k_cat is the turnover number - trick question! Blame me but never change me.\n"
     ]
    }
   ],
   "source": [
    "slope = 0.0064\n",
    "intercept = 0.0018\n",
    "\n",
    "Vmax = 1 / intercept\n",
    "KM = Vmax * slope\n",
    "\n",
    "# Units are reported in the data\n",
    "print(f\"The value of V_max is {Vmax:0.1f} micromolar per second\")\n",
    "print(f\"The value of K_M is {KM:0.1f} mM\")\n",
    "\n",
    "E_conc = 10E-9     ### converted to molar\n",
    "Vmax = Vmax / 1E6  ### from micromolar per second to molar per second\n",
    "\n",
    "k_cat = Vmax / E_conc\n",
    "print(f\"The k_cat value is {k_cat:0.2e} per second\")\n",
    "print(\"k_cat is the turnover number - trick question! Blame me but never change me.\")"
   ]
  },
  {
   "cell_type": "markdown",
   "id": "f0081fc1",
   "metadata": {},
   "source": [
    "## Problem 16 from Math Ideas\n",
    "\n",
    "Using the Michaelis-Menten equation, show the observed initial rate, $\\nu_0$,\n",
    "is equal to half of $V_{max}$ when the concentration of substrate has the same\n",
    "value as $K_M$.\n",
    "\n",
    "**Solution**\n",
    "\n",
    "This is revealed by the Michaelis-Menten equation\n",
    "\n",
    "$$\\nu_0 = V_{max}\\frac{[S]_t}{K_M + [S]_t}$$\n",
    "\n",
    "When $[S]_t = K_M$ we see that \n",
    "\n",
    "$$\\nu_0 = V_{max}\\frac{K_M}{K_M + K_M}$$\n",
    "\n",
    "Consider example below."
   ]
  },
  {
   "cell_type": "code",
   "execution_count": 80,
   "id": "51b0217c",
   "metadata": {
    "tags": [
     "hide-input"
    ]
   },
   "outputs": [
    {
     "name": "stdout",
     "output_type": "stream",
     "text": [
      "The Vmax is 10\n",
      "KM is 3\n",
      "The rate then [S] = 3 is 5.0\n"
     ]
    }
   ],
   "source": [
    "Vmax = 10\n",
    "KM = 3\n",
    "S = 3\n",
    "\n",
    "v = Vmax * S/(KM+S)\n",
    "\n",
    "print(f\"The Vmax is {Vmax}\")\n",
    "print(f\"KM is {KM}\")\n",
    "print(f\"The rate then [S] = {S} is {v}\")"
   ]
  },
  {
   "cell_type": "markdown",
   "id": "a6628a6c",
   "metadata": {},
   "source": [
    "## Problem 17 from Math Ideas\n",
    "\n",
    "Show by using the Michaelis-Menten equation that $k_{cat}/K_M$ is the second\n",
    "order rate constant for an enzyme-catalyzed reaction (when substrate con-\n",
    "centrations are small).\n",
    "\n",
    "**Solution**\n",
    "\n",
    "This is revealed by the Michaelis-Menten equation\n",
    "\n",
    "$$\\nu_0 = k_{cat}[E]_t\\frac{[S]_t}{K_M + [S]_t}$$\n",
    "\n",
    "When $[S]_t = K_M$ we see that\n",
    " \n",
    "\\begin{align}\n",
    "\\nu_0 &= k_{cat}[E]_t\\frac{[S]_t}{K_M + small} \\\\\n",
    "\\nu_0 &= k_{cat}[E]_t\\frac{[S]_t}{K_M} \\\\\n",
    "\\nu_0 &= \\frac{k_{cat}}{K_M}[E]_t[S]_t\n",
    "\\end{align}\n"
   ]
  },
  {
   "cell_type": "markdown",
   "id": "f6ceabff",
   "metadata": {},
   "source": [
    "## Problem 18 from Math Ideas\n",
    "\n",
    "I have performed a Lineweaver-Burke plot in an enzyme kinetics experiment. The concentration of substrate was measured in mM and the\n",
    "rate in μM/s. The line equation reported from my spreadsheet was $𝑦=\n",
    "0.0064𝑥+0.0018$. I repeat the experiment by adding 2 μM of a known\n",
    "inhibitor for my enzyme. The new results gave a line equation of $𝑦=\n",
    "0.028𝑥+0.0018$.\n",
    "1. What is the $K_M$ and $V_{max}$ of the first experiment?\n",
    "1. What is the observed $K_M$ and $V_{max}$ of the inhibited experiment?\n",
    "1. What mode of inhibition is being demonstrated here?\n",
    "1. What is the dissociation constant for this inhibitor ($K_I$)?\n",
    "\n",
    "**Solution**\n",
    "\n",
    "We will use the example shown in problem 15 above to get $K_M$ and $V_{max}$ in both cases.\n",
    "\n",
    "I observe that $K_M$ changes and that this is a competitive inhibitor.\n",
    "\n",
    "$$K_M^{app} = K_M\\left({1 + \\frac{[I]}{K_I}}\\right)$$\n",
    "\n",
    "and so\n",
    "\n",
    "$$K_I = \\frac{[I]}{\\frac{K_M^{app}}{K_M}-1}$$\n",
    "\n",
    "Examine the *Python* commands below. Observe how they are no different than using a calculator."
   ]
  },
  {
   "cell_type": "code",
   "execution_count": 81,
   "id": "88b7788a",
   "metadata": {
    "tags": [
     "hide-input"
    ]
   },
   "outputs": [
    {
     "name": "stdout",
     "output_type": "stream",
     "text": [
      "The value of V_max is 555.6 micromolar per second\n",
      "The value of K_M is 3.6 mM\n",
      "\n",
      "Inhibited experiment\n",
      "The value of V_max is 555.6 micromolar per second\n",
      "The value of K_M is 15.6 mM\n",
      "\n",
      "The K_I value is 5.93e-04 mM or 0.59 micromolar\n"
     ]
    }
   ],
   "source": [
    "### Steal the code from problem 15 and use it. Never reinvent a wheel.\n",
    "\n",
    "slope = 0.0064\n",
    "intercept = 0.0018\n",
    "\n",
    "Vmax = 1 / intercept\n",
    "KM = Vmax * slope\n",
    "\n",
    "# Units are reported in the data\n",
    "print(f\"The value of V_max is {Vmax:0.1f} micromolar per second\")\n",
    "print(f\"The value of K_M is {KM:0.1f} mM\")\n",
    "print()\n",
    "\n",
    "### Steal it again.\n",
    "\n",
    "slope = 0.028\n",
    "intercept = 0.0018\n",
    "\n",
    "Vmax2 = 1 / intercept\n",
    "KM2 = Vmax * slope\n",
    "\n",
    "# Units are reported in the data\n",
    "print(\"Inhibited experiment\")\n",
    "print(f\"The value of V_max is {Vmax2:0.1f} micromolar per second\")\n",
    "print(f\"The value of K_M is {KM2:0.1f} mM\")\n",
    "print()\n",
    "\n",
    "conc_I = 2     # micromolar\n",
    "conc_I = conc_I / 1000  # convert micromolar to millimolar. Same units as K_M\n",
    "\n",
    "KI = conc_I / (KM2/KM - 1)\n",
    "print(f\"The K_I value is {KI:0.2e} mM or {KI*1000:0.2f} micromolar\")"
   ]
  },
  {
   "cell_type": "markdown",
   "id": "3871e8c1",
   "metadata": {},
   "source": [
    "## Problem 19 from Math Ideas\n",
    "\n",
    "Does it matter if my concentration units and rate units do not match\n",
    "in Michaelis-Menten Kinetics? Could I get acceptable results if I used\n",
    "slugs/quart (Imperial units for Brexit!) for concentration of substrate and\n",
    "lumens/m<sup>2</sup>s (it glows!) for the rate measurement? Prove your answer\n",
    "with an examination of the equations involved.\n",
    "\n",
    "**Solution**\n",
    "\n",
    "This is revealed by the Michaelis-Menten equation\n",
    "\n",
    "$$\\nu_0 = V_{max}\\frac{[S]_t}{K_M + [S]_t}$$\n",
    "\n",
    "The units of the $\\frac{[S]_t}{K_M + [S]_t}$ cancel out and do not affect the units for rate.  \n"
   ]
  },
  {
   "cell_type": "markdown",
   "id": "99a0d138",
   "metadata": {},
   "source": [
    "## Problem 20 from Math Ideas\n",
    "\n",
    "What is the fraction of active sites occupied when the rate of an enzyme-\n",
    "catalyzed reaction is observed to be at 75% of $V_{max}$?\n",
    "\n",
    "**Solution**\n",
    "\n",
    "This is revealed by the Michaelis-Menten equation\n",
    "\n",
    "$$\\nu_0 = V_{max}\\frac{[S]_t}{K_M + [S]_t}$$\n",
    "\n",
    "If we are at 75% of the maximum rate then 75% of the active sites are occupied by substrate.\n",
    "\n"
   ]
  },
  {
   "cell_type": "markdown",
   "id": "6d14d33d",
   "metadata": {},
   "source": [
    "## Problem 21 from Math Ideas 2\n",
    "\n",
    "Express the Michaelis-Menten equation in the same form as the equation\n",
    "for cooperative kinetics by having it express the fraction of occupied sites\n",
    "rather that the initial rate.\n",
    "\n",
    "**Solution**\n",
    "\n",
    "For simple cooperative kinetics we observe that $\\nu_0 = V_{max}Y$ where $Y$ is the fraction of active sites accupied and is give by \n",
    "\n",
    "$$Y = \\frac{\\alpha (1+\\alpha)^{n-1}}{(1+\\alpha)^{n} + L}$$ \n",
    "\n",
    "where $\\alpha = [S]_t/K_R$ and $L$ is the equilibrium constant between the active ($R$) and inactive states ($T$) and $L = T/R$\n",
    "\n",
    "We can write Michaelis-Menten equation using the same convention\n",
    "\n",
    "$$\\nu_0 = V_{max} Y$$ \n",
    "\n",
    "where $Y$ is the fraction of occupied active sites and is described by\n",
    "\n",
    "$$Y = \\frac{[S]_t}{K_M + [S]_t}$$\n",
    "\n",
    "\n"
   ]
  },
  {
   "cell_type": "markdown",
   "id": "29d380b6",
   "metadata": {},
   "source": [
    "## Problem 22 from Math Ideas 2\n",
    "\n",
    "Show that the equation for cooperative enzyme kinetics is the same as the\n",
    "Michaelis-Menten equation when the enzyme is always active ($L=0$).\n",
    "\n",
    "**Solution**\n",
    "\n",
    "If $L=0$ then that means that the $T/R$ ratio is extremely large and the enzyme is entirely in the $R$ form we will no observe cooperative kinetics. Observe...\n",
    "\n",
    "$\\nu_0 = V_{max}Y$ where $Y$ is the fraction of active sites accupied and is give by \n",
    "\n",
    "$$Y = \\frac{\\alpha (1+\\alpha)^{n-1}}{(1+\\alpha)^{n} + L}$$ \n",
    "\n",
    "where $\\alpha = [S]_t/K_R$ and $L$ is the equilibrium constant between the active ($R$) and inactive states ($T$) and $L = T/R$. If $L=0$ then...\n",
    "\n",
    "\\begin{align}\n",
    "Y &= \\frac{\\alpha (1+\\alpha)^{n-1}}{(1+\\alpha)^{n} + 0} \\\\\n",
    "Y &= \\frac{\\alpha}{1+\\alpha} \\\\\n",
    "Y &= \\frac{\\frac{[S]_t}{K_R}}{1+\\frac{[S]_t}{K_R}} \\\\\n",
    "Y &= \\frac{{[S]_t}}{K_R+[S]_t}\n",
    "\\end{align}\n",
    "\n",
    "Which is the same form as in the Michaelis-Menten equation. $K_R$ is the dissociation constant for a given subunit active site and is the same as $K_M$ for a single subunit enzyme."
   ]
  },
  {
   "cell_type": "markdown",
   "id": "f5801610",
   "metadata": {},
   "source": [
    "## Problem 23 from Math Ideas 2\n",
    "\n",
    "How would the observed $V_{max}$ decrease or increase if I add 100 μM of\n",
    "a non-competitive inhibitor to my enzyme reaction. The dissociation\n",
    "constant for the inhibitor, $K_I$, is 100 μM.\n",
    "\n",
    "**Solution**\n",
    "\n",
    "A non-competitive inhibitor will decrease $V_{max}$.  We know that \n",
    "\n",
    "$$V_{max}^{app} = \\frac{V_{max}}{1 + \\frac{[I]}{K_I}}$$\n",
    "\n",
    "so I can calculate the new value for $V_{max}^{app}$.\n",
    "\n",
    "Consider the calculations below.\n",
    "\n"
   ]
  },
  {
   "cell_type": "code",
   "execution_count": 82,
   "id": "76f4c522",
   "metadata": {
    "tags": [
     "hide-input"
    ]
   },
   "outputs": [
    {
     "name": "stdout",
     "output_type": "stream",
     "text": [
      "The V_max would decrease by a factor of 0.5\n"
     ]
    }
   ],
   "source": [
    "I_conc = 100E-6   # units of molar\n",
    "K_I = 100E-6      # units of molar\n",
    "V_max = 1\n",
    "\n",
    "V_max_app = V_max / (1 + I_conc / K_I)\n",
    "\n",
    "ratio = V_max_app / V_max\n",
    "\n",
    "print(f\"The V_max would decrease by a factor of {ratio}\")"
   ]
  },
  {
   "cell_type": "markdown",
   "id": "f5524c81",
   "metadata": {},
   "source": [
    "## Problem 24 from Math Ideas 2\n",
    "\n",
    "How would the observed $K_M$ decrease or increase if I add 150 μM of a\n",
    "competitive inhibitor to my enzyme reaction. The dissociation constant\n",
    "for the inhibitor, $K_I$, is 75 μM.\n",
    "\n",
    "**Solution**\n",
    "\n",
    "A competive inhibitor will increase the observed value of $K_M$.\n",
    "\n",
    "$$K_M^{app} = K_M\\left({1 + \\frac{[I]}{K_I}}\\right)$$\n",
    "\n",
    "Consider the calculations below"
   ]
  },
  {
   "cell_type": "code",
   "execution_count": 83,
   "id": "0c99134a",
   "metadata": {
    "tags": [
     "hide-input"
    ]
   },
   "outputs": [
    {
     "name": "stdout",
     "output_type": "stream",
     "text": [
      "The K_M would increase by a factor of 3.0\n"
     ]
    }
   ],
   "source": [
    "I_conc = 150E-6   # units of molar\n",
    "K_I = 75E-6      # units of molar\n",
    "K_M = 1\n",
    "\n",
    "K_M_app = K_M * (1 + I_conc / K_I)\n",
    "\n",
    "ratio = K_M_app / K_M\n",
    "\n",
    "print(f\"The K_M would increase by a factor of {ratio}\")"
   ]
  },
  {
   "cell_type": "markdown",
   "id": "f75d52a7",
   "metadata": {},
   "source": [
    "## Problem 25 from Math Ideas 2\n",
    "\n",
    "How would the observed $K_M$ decrease or increase if I add 75 μM of a non-\n",
    "competitive inhibitor to my enzyme reaction. The dissociation constant\n",
    "for the inhibitor, $K_I$, is 25 μM.\n",
    "\n",
    "**Solution**\n",
    "\n",
    "Trick question! The value of $K_M$ should not be affected by a non-\n",
    "competitive inhibitor"
   ]
  },
  {
   "cell_type": "markdown",
   "id": "e1849696",
   "metadata": {},
   "source": [
    "## Problem 26 from Math Ideas 2\n",
    "\n",
    " The substrate concentration in my enzyme kinetics experiment is 1.2 mM.\n",
    "The $k_{cat}$ for my enzyme/substrate system is $5.2\\times 10^3\\ M^{-1}s^{-1}$. The enzyme\n",
    "concentration is 1 μM. The $K_M$ is 100 mM.\n",
    "\n",
    "1. What is the observed initial rate under these conditions?\n",
    "1. What is the value of $k_{cat}/K_M$? How does it compare?\n",
    "1. How much does the rate change if I halve the substrate concentration?\n",
    "1. How much does the rate change when I double the substrate concentration?\n",
    "1. How much does the rate change when I double the substrate concentration again?\n",
    "1. What would the line equation be for the Lineweaver-Burke plot of\n",
    "this experiment?\n",
    "1. Sketch the Michaelis-Menten plot and indicate $V_{max}$ and $K_M$ on the\n",
    "plot.\n",
    "\n",
    "**solution**\n",
    "\n",
    "All of this has been demonstrated above. I will steal the code I need from earlier answers and reuse it below."
   ]
  },
  {
   "cell_type": "code",
   "execution_count": 121,
   "id": "93d46c48",
   "metadata": {
    "tags": [
     "hide-input"
    ]
   },
   "outputs": [
    {
     "name": "stdout",
     "output_type": "stream",
     "text": [
      "The rate is 6.17e-05 molar per second\n",
      "The value of kcat/KM is 5.20e+04 per second\n",
      "The rate with half the conc of S is 3.10e-05 molar per second. thats about 2.0-fold slower\n",
      "The rate with double the conc of S is 1.22e-04 molar per second. thats about 2.0-fold faster\n",
      "The rate with 4-fold greater conc of S is 2.38e-04 molar per second. thats about 3.9-fold faster. Are we starting to see the curve?\n",
      "The rate with 16-fold greater conc of S is 8.38e-04 molar per second. thats about 13.6-fold faster. We are definitely seeing the curve?\n",
      "The lineweaver-Burke version of the equation for this plot would be y = 19.2x + 192.3\n",
      "If I used the original given units of mM for S and M^(-1)s^(-1) for rate the equation would be y = 19230.8x + 192.3\n",
      "\n"
     ]
    },
    {
     "data": {
      "image/png": "[encoded data removed]",
      "text/plain": [
       "<Figure size 640x480 with 1 Axes>"
      ]
     },
     "metadata": {},
     "output_type": "display_data"
    }
   ],
   "source": [
    "### Code stolen from question 17 - adapted for this problem\n",
    "\n",
    "E_conc = 1E-6   # molar\n",
    "K_M = 100E-3    # molar\n",
    "k_cat = 5.2E3   # per molar per second\n",
    "\n",
    "Vmax = E_conc * k_cat\n",
    "\n",
    "rate = Vmax * S/(S+K_M)\n",
    "\n",
    "S = 1.2E-3      # molar\n",
    "\n",
    "rate = Vmax * S/(K_M+S)\n",
    "\n",
    "print(f\"The rate is {rate:0.2e} molar per second\")\n",
    "\n",
    "print(f\"The value of kcat/KM is {k_cat/K_M:0.2e} per second\")\n",
    "\n",
    "S2 = S/2\n",
    "rate2 = Vmax * S2/(K_M+S2)\n",
    "print(f\"The rate with half the conc of S is {rate2:0.2e} molar per second. thats about {rate/rate2:0.1f}-fold slower\")\n",
    "\n",
    "S2 = S*2\n",
    "rate2 = Vmax * S2/(K_M+S2)\n",
    "print(f\"The rate with double the conc of S is {rate2:0.2e} molar per second. thats about {rate2/rate:0.1f}-fold faster\")\n",
    "\n",
    "S2 = S2*2\n",
    "rate2 = Vmax * S2/(K_M+S2)\n",
    "print(f\"The rate with 4-fold greater conc of S is {rate2:0.2e} molar per second. thats about {rate2/rate:0.1f}-fold faster. Are we starting to see the curve?\")\n",
    "\n",
    "S2 = S*16\n",
    "rate2 = Vmax * S2/(K_M+S2)\n",
    "print(f\"The rate with 16-fold greater conc of S is {rate2:0.2e} molar per second. thats about {rate2/rate:0.1f}-fold faster. We are definitely seeing the curve?\")\n",
    "\n",
    "slope = K_M / Vmax\n",
    "intercept = 1 / Vmax\n",
    "print(f\"The lineweaver-Burke version of the equation for this plot would be y = {slope:0.1f}x + {intercept:0.1f}\")\n",
    "\n",
    "slope = (K_M * 1000) / Vmax\n",
    "intercept = 1 / Vmax\n",
    "print(f\"If I used the original given units of mM for S and M^(-1)s^(-1) for rate the equation would be y = {slope:0.1f}x + {intercept:0.1f}\")\n",
    "\n",
    "\n",
    "print()\n",
    "\n",
    "max_conc = 500E-3\n",
    "\n",
    "S_series = np.linspace(0, max_conc, 100)\n",
    "rate_series = Vmax * S_series / (S_series + K_M)\n",
    "\n",
    "import matplotlib.pyplot as plt\n",
    "\n",
    "plt.plot(S_series, rate_series)\n",
    "plt.hlines(Vmax,0,np.max(S_series),\"r\")\n",
    "plt.text(100E-3,Vmax*.95,\"V_max\")\n",
    "\n",
    "plt.hlines(Vmax/2,0,K_M,\"r\")\n",
    "plt.vlines(K_M, 0, Vmax/2,\"r\")\n",
    "plt.text(K_M*1.05,Vmax*.05,\"K_M\")\n",
    "\n",
    "plt.show()"
   ]
  },
  {
   "cell_type": "code",
   "execution_count": null,
   "id": "2c07cb25",
   "metadata": {},
   "outputs": [],
   "source": []
  }
 ],
 "metadata": {
  "kernelspec": {
   "display_name": "main",
   "language": "python",
   "name": "python3"
  },
  "language_info": {
   "codemirror_mode": {
    "name": "ipython",
    "version": 3
   },
   "file_extension": ".py",
   "mimetype": "text/x-python",
   "name": "python",
   "nbconvert_exporter": "python",
   "pygments_lexer": "ipython3",
   "version": "3.12.2"
  }
 },
 "nbformat": 4,
 "nbformat_minor": 5
}
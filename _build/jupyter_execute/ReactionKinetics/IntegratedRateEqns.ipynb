{
 "cells": [
  {
   "cell_type": "markdown",
   "id": "36b75817",
   "metadata": {},
   "source": [
    "# Integrating Rate Equations with Python\n",
    "\n",
    "You have integrated the classic first order and second order rate equations. The question I would ask is why? These equations were integrated 100 years ago and the answers have been available since then. Of course, this is an example so that you know that it can be used in more complicated systems. As we will soon see, that was a lie.\n",
    "\n",
    "Once we get to even slightly more complicated systems we quickly end up with integrations that are complex and often better solved with numerical methods.\n",
    "\n",
    "## Simple Integrated Rate Laws\n",
    "Here are the equations that we have solved already in you chemistry career.\n",
    "\n",
    "### First Order\n",
    "\n",
    "$${A}\\xrightarrow{k_{obs}}{P}$$\n",
    "\n",
    "$$-\\frac{\\partial A}{\\partial t} = \\frac{\\partial P}{\\partial t} = k_{obs}\\cdot A$$\n",
    "\n",
    "$$ A_t = A_0 \\cdot e^{-k_{obs}t}$$\n",
    "\n",
    "$$P_t = P_\\infty - \\cdot P_\\infty e^{-k_{obs}t}$$\n",
    "\n",
    "$$ t_{1/2} = \\frac{\\ln{2}}{k_{obs}}$$\n",
    "\n",
    "### Second Order\n",
    "\n",
    "$${2A}\\xrightarrow{k_{obs}}{P}$$\n",
    "\n",
    "$$-\\frac{\\partial A}{\\partial t} = \\frac{1}{2}\\frac{\\partial P}{\\partial t} = k_{obs}\\cdot A^2$$\n",
    "\n",
    "$$ \\frac{1}{A_t} = \\frac{1}{A_0} + k_{obs}\\cdot t$$\n",
    "\n",
    "$$ t_{1/2} = \\frac{1}{k_{obs}\\cdot A_0}$$\n",
    "\n",
    "### Second Order Again\n",
    "\n",
    "$${A + B}\\xrightarrow{k_{obs}}{P}$$\n",
    "\n",
    "$$-\\frac{\\partial A}{\\partial t} = -\\frac{\\partial B}{\\partial t} = \\frac{\\partial P}{\\partial t} = k_{obs}\\cdot A\\cdot B$$\n",
    "\n",
    "$$ \\frac{A_0-x}{B_0-x} = \\frac{A_0}{B_0} \\cdot e^{\\left( A_0-B_0 \\right) \\cdot k_{obs}\\cdot t}$$\n",
    "*where x is the progress of the reaction. e.g. $A_0-x=A_t$.*\n",
    "\n",
    "### Simple is Easy\n",
    "\n",
    "Everything works well when reactions are simple. But what about reactions with multiple steps and reactions with multiple pathways?"
   ]
  },
  {
   "cell_type": "markdown",
   "id": "75304966",
   "metadata": {},
   "source": [
    "## Consecutive Reactions\n",
    "\n",
    "More complex rate laws are not easily integrated (don't let me discourage you - mathematicians are waiting to help you and the details are described in the [Integrating Rate Equations](https://moodle31.upei.ca/mod/resource/view.php?id=623407) tutorial document). I have hit the limits of my calculus powers, though. So now I will turn to the tools available in *Python*\n",
    "\n",
    "Let us start with a straightforward consecutive reaction.\n",
    "\n",
    "$$A \\xrightarrow{k_1} B \\\\ B \\xrightarrow{k_2} P$$\n",
    "\n",
    "The integration tutorial document has a section where we use the symbolic math tool, *Maple* (which is available to all UPEI students), to integrate the above rate equation. We could also use the *Python* package *SymPy*, which provides the functionality of a symbolic math system (but without the super-helpful GUI interface of *Maple*). Both methods seem like too much work to me. \n",
    "\n",
    "Let's use numerical methods to get the concentrations over time. This will let us model a reaction and see how concentrations change over time.  It will not give us a function that we can use to curve fit data.  We would have to actually integrate the rate law using analytical methods to do that. Keep those mathematicians on speed-dial. (I have no doubt that there are methods available in the *Python* ecosystem that will optimize parameters in a numerical integration to fit a set of data. Let me know if you ever come across them and please write a detailed instruction manual for me.)\n",
    "\n",
    "In the code below we will state the rate law for each reaction and then use the tools of the *SciPy* package to integrate the system numerically.  This will give us the concentrations of reactants over time for various values of $k_1$, $k_2$ and $A_0$.\n",
    "\n",
    "The `scipy.integrate.odeint()` function will perform a numerical integration of a system of ordinary differential equations. The rate laws for each step make up this set of equations.\n",
    "\n",
    "### Observations\n",
    "\n",
    "We can see that the concentration of A will dissappear according to first order reaction kinetics. This is because the consumption of A is a first order irreversible reaction. The concentrations of the intermediate, B, and the product, P, do not follow the simple math of first or second order kinetics. The numerical integration will calculate their concentrations according to the rates of appearance and dissappearance."
   ]
  },
  {
   "cell_type": "code",
   "execution_count": 1,
   "id": "82664db7",
   "metadata": {
    "tags": [
     "hide-input"
    ]
   },
   "outputs": [
    {
     "data": {
      "image/png": "[encoded data removed]",
      "text/plain": [
       "<Figure size 432x288 with 1 Axes>"
      ]
     },
     "metadata": {
      "needs_background": "light"
     },
     "output_type": "display_data"
    }
   ],
   "source": [
    "#######################\n",
    "### import packages ###\n",
    "#######################\n",
    "\n",
    "import numpy as np\n",
    "from scipy.integrate import odeint\n",
    "import matplotlib.pyplot as plt\n",
    "\n",
    "\n",
    "#########################################\n",
    "### Create series of time points      ###\n",
    "#########################################\n",
    "\n",
    "dt = 0.01                                    # time step, delta t\n",
    "tmax = 25                                    # max time, s\n",
    "t = np.linspace(0, tmax, num = int(tmax/dt)) # time vector (list of time points)\n",
    "nt = len(t)                                  # total number of time steps\n",
    "\n",
    "\n",
    "############################################\n",
    "### Create a function that describes the ###\n",
    "### rates of all reactions in the system ###\n",
    "############################################\n",
    "\n",
    "def rates(c, t):\n",
    "    \"\"\"\n",
    "    A function that finds the instantaneous rate of each reaction when given\n",
    "    the concentration of each reactant\n",
    "    \n",
    "    reation scheme is A --> B --> C\n",
    "    \n",
    "    c is a list of concentrations\n",
    "    t is a list of time points\n",
    "    \n",
    "    K1 = rate constant for first step\n",
    "    K2 = rate constant for second step\n",
    "\n",
    "    A = conc of A.\n",
    "    B = conc of B.\n",
    "    C = conc of C.\n",
    "    \n",
    "    ra = instantanous rate of change in [A]\n",
    "    rb = instantanous rate of change in [B]\n",
    "    rc = instantanous rate of change in [C]\n",
    "\n",
    "    \"\"\"\n",
    "    K1 = 0.8   # these are the rate constants. Change tham and have fun.\n",
    "    K2 = 0.1\n",
    "    \n",
    "    A = c[0]; B = c[1]; C = c[2]    # assign conc. from input list c\n",
    "    \n",
    "    ra = -K1 * A                    # rates of each reaction step with give concentration in list c\n",
    "    rb = (K1 * A)-(K2 * B)\n",
    "    rc = K2 * B\n",
    "    return [ra, rb, rc]\n",
    "\n",
    "\n",
    "####################################################################\n",
    "### The function odeint() from scipy.integrate takes a function, ###\n",
    "### a list of initial conditions, and an array of time points.   ###\n",
    "### It returns a matrix with each column being the result for    ###\n",
    "### each variable at each time point.                            ###\n",
    "####################################################################\n",
    "\n",
    "cc = odeint(rates, [1, 0, 0], t)\n",
    "#display(t,cc)\n",
    "\n",
    "plt.plot(t,cc)\n",
    "\n",
    "#fig.savefig(\"plot.pdf\")   # use this to save the figure in PDF format\n",
    "plt.show()                 # output the combined four plots"
   ]
  },
  {
   "cell_type": "markdown",
   "id": "bd2026c3",
   "metadata": {},
   "source": []
  },
  {
   "cell_type": "markdown",
   "id": "25397a5d",
   "metadata": {},
   "source": [
    "## Steady State System\n",
    "\n",
    "You will recall the example of complex reactions that you explored in physical chemistry. Here is an example where the initial reaction is reversible, followed by an irreversible reaction that produces the product.\n",
    "\n",
    "$$ A\\rightleftharpoons B \\rightarrow P$$\n",
    "\n",
    "And could be expressed with the following reactions.\n",
    "\n",
    "$$A \\xrightarrow{k_1} B \\\\ \n",
    "B \\xrightarrow{k_{-1}} A \\\\\n",
    "B \\xrightarrow{k_2} P$$\n",
    "\n",
    "This may be interpreted as an equilibrium followed by a final step or as a steady-state system where the reverse reaction and the final step are fast so that the intermediate never reaches an equilibrium concentration. If $k_2 << k_{-1}$ then it would be a pre-equilibrium case. If $k_2 >> k_{-1}$ then it is a steady state case. Of course, it could be in-between as well...\n",
    "\n",
    "### Observations\n",
    "\n",
    "The concentration of intermediate never builds up in a steady state system. It is present at a small concentration, which doesn't change much over time in comparison to the larger changes in concentration of reactant and product. Change the values for $k_2$ and $k_{-1}$ and observe the results. Explore the extremes to make clear cases of a pre-equilibrium system and a steady-state system. Have fun."
   ]
  },
  {
   "cell_type": "code",
   "execution_count": 2,
   "id": "e142214d",
   "metadata": {
    "tags": [
     "hide-input"
    ]
   },
   "outputs": [
    {
     "data": {
      "image/png": "[encoded data removed]",
      "text/plain": [
       "<Figure size 432x288 with 1 Axes>"
      ]
     },
     "metadata": {
      "needs_background": "light"
     },
     "output_type": "display_data"
    }
   ],
   "source": [
    "#######################\n",
    "### import packages ###\n",
    "#######################\n",
    "\n",
    "import numpy as np\n",
    "from scipy.integrate import odeint\n",
    "import matplotlib.pyplot as plt\n",
    "\n",
    "\n",
    "#########################################\n",
    "### Create series of time points      ###\n",
    "#########################################\n",
    "\n",
    "dt = 0.0001                                # time step, delta t\n",
    "tmax = 25                                  # max time, s\n",
    "t = np.linspace(0, tmax, num=int(tmax/dt)) # time vector (list of time points)\n",
    "nt = len(t)                                # total number of time steps\n",
    "\n",
    "\n",
    "############################################\n",
    "### Create a function that describes the ###\n",
    "### rates of all reactions in the system ###\n",
    "############################################\n",
    "\n",
    "def rates(c, t):\n",
    "    K1 = 2        # these are the rate constants. Change tham and have fun.\n",
    "    K_1 = 10\n",
    "    K2 = 20\n",
    "    \n",
    "    A = c[0]; B = c[1]; C = c[2]      # assign initial conc. from input list c\n",
    "    \n",
    "    ra = -(K1 * A)+(K_1 * B)          # rates of each reaction step with give concentration in list c\n",
    "    rb = (K1 * A)-(K2 * B)-(K_1 * B)\n",
    "    rc = K2 * B\n",
    "    return [ra, rb, rc]\n",
    "\n",
    "\n",
    "####################################################################\n",
    "### The function odeint() from scipy.integrate takes a function, ###\n",
    "### a list of initial conditions, and an array of time points.   ###\n",
    "### It returns a matrix with each column being the result for    ###\n",
    "### each variable at each time point.                            ###\n",
    "####################################################################\n",
    "\n",
    "cc = odeint(rates, [.5, 0, 0], t)\n",
    "#display(t,cc)\n",
    "\n",
    "plt.plot(t,cc)\n",
    "\n",
    "#fig.savefig(\"plot.pdf\")   # use this to save the figure in PDF format\n",
    "plt.show()                 # output the combined four plots"
   ]
  },
  {
   "cell_type": "markdown",
   "id": "82a3b94a",
   "metadata": {},
   "source": [
    "## Salt Inhibition\n",
    "\n",
    "Let us take the example above and imagine that it is the solvolysis of t-butyl chloride. This is a classic example of inhibition by the intermediate. \n",
    "\n",
    "$$ tBuCo\\rightleftharpoons tBu^+ + Cl^- \\xrightarrow{H_2O} P$$\n",
    "\n",
    "And could be epressed with the following reactions.\n",
    "\n",
    "$$A \\xrightarrow{k_1} B + X \\\\ \n",
    "B + X \\xrightarrow{k_{-1}} A \\\\\n",
    "B \\xrightarrow{k_2} P$$\n",
    "\n",
    "Note that $\\left[H_2O\\right]$ is not in the $k_2$ rate term because it is the solvent and its concentration does not cahnge.\n",
    "\n",
    "Since the chloride leaving group can react with the carbocation to return the system to the starting material, more chloride will reduce the concentration of carbocation. Therefore, adding chloride salt to the solution will slow the appearance of product. We can get the integrated rate equations by adding this term, to the list of rates (the rate if appearance of X, which we will call rx) and then performing the integration as above.\n",
    "\n",
    "Change the concentration of X by changing the final value in the integration method call `sp.integrate.odeint(rates, [1, 0, 0, 0.2], t)`.  In the code below the last value on the list is the salt concentration, \\[X\\].\n",
    "\n",
    "The code below will plot the value of the product concentration vs. time in three cases of \\[X\\]\n",
    "\n",
    "### Observations\n",
    "\n",
    "The $k_obs$ for the reaction is smaller as we add more of the salt of the leaving group (chloride ion in this case). If you derive the rate law you will see that...\n",
    "\n",
    "$$ \\frac{-\\partial}{\\partial t}\\left[A\\right] = \\frac{k_1 \\cdot k_2}{k_{-1} \\cdot \\left[Cl\\right] + k_2} \\left[A\\right]$$\n",
    "\n",
    "and therefore...\n",
    "\n",
    "$$ \\frac{-\\partial}{\\partial t}\\left[A\\right] = k_{obs} \\left[A\\right]$$\n",
    "\n",
    "where...\n",
    "\n",
    "$$ k_{obs} = \\frac{k_1 \\cdot k_2}{k_{-1} \\left[Cl\\right] + k_2}$$\n",
    "\n",
    "The equation for $k_{obs}$ shows that the value will decrease as the concentration of chloride increases."
   ]
  },
  {
   "cell_type": "code",
   "execution_count": 3,
   "id": "612ea115",
   "metadata": {
    "tags": [
     "hide-input"
    ]
   },
   "outputs": [
    {
     "data": {
      "image/png": "[encoded data removed]",
      "text/plain": [
       "<Figure size 432x288 with 1 Axes>"
      ]
     },
     "metadata": {
      "needs_background": "light"
     },
     "output_type": "display_data"
    }
   ],
   "source": [
    "#######################\n",
    "### import packages ###\n",
    "#######################\n",
    "\n",
    "import numpy as np\n",
    "from scipy.integrate import odeint\n",
    "import matplotlib.pyplot as plt\n",
    "\n",
    "#########################################\n",
    "### Create series of time points      ###\n",
    "#########################################\n",
    "\n",
    "dt = 0.0001                                # time step, delta t\n",
    "tmax = 25                                  # max time, s\n",
    "t = np.linspace(0, tmax, num=int(tmax/dt)) # time vector (list of time points)\n",
    "nt = len(t)                                # total number of time steps\n",
    "\n",
    "\n",
    "############################################\n",
    "### Create a function that describes the ###\n",
    "### rates of all reactions in the system ###\n",
    "############################################\n",
    "\n",
    "def rates(c, t):\n",
    "    K1 = 2        # these are the rate constants. Change tham and have fun.\n",
    "    K_1 = 10\n",
    "    K2 = 20\n",
    "    \n",
    "    A = c[0]; B = c[1]; C = c[2]; X = c[3]  # assign initial conc. from input list c\n",
    "\n",
    "    ra = -(K1 * A)+(K_1 * B * X)            # rates of each reaction step with give concentration in list c\n",
    "    rb = (K1 * A)-(K2 * B)-(K_1 * B * X)\n",
    "    rc = K2 * B\n",
    "    rx = (K1 * A)-(K_1 * B * X)\n",
    "    return [ra, rb, rc, rx]\n",
    "\n",
    "\n",
    "####################################################################\n",
    "### The function odeint() from scipy.integrate takes a function, ###\n",
    "### a list of initial conditions, and an array of time points.   ###\n",
    "### It returns a matrix with each column being the result for    ###\n",
    "### each variable at each time point.                            ###\n",
    "####################################################################\n",
    "\n",
    "cc = odeint(rates, [1, 0, 0, 0.], t)\n",
    "plt.plot(t,cc[:,2])                    # Plot only the values for C (column #2 of the array)\n",
    "\n",
    "cc = odeint(rates, [1, 0, 0, 1], t)\n",
    "plt.plot(t,cc[:,2])                    # Plot only the values for C (column #2 of the array)\n",
    "\n",
    "cc = odeint(rates, [1, 0, 0, 5], t)\n",
    "plt.plot(t,cc[:,2])                    # Plot only the values for C (column #2 of the array)\n",
    "\n",
    "\n",
    "#######################################\n",
    "### Output the three combined plots ###\n",
    "#######################################\n",
    "\n",
    "#fig.savefig(\"plot.pdf\")   # use this to save the figure in PDF format\n",
    "plt.show()                 # output the combined four plots"
   ]
  },
  {
   "cell_type": "markdown",
   "id": "68c98697",
   "metadata": {},
   "source": [
    "## Integrated Michaelis-Menten\n",
    "\n",
    "What does the reaction progress of enzyme kinetics look like over a long stretch of time, far past the initial rate from which we have not yet dared stray? The math is similar to the case of the steady-state kinetic scheme above. However, in the MM system, one of the reactants, the enzyme, is present at limiting quanties ($[E]_t \\ll [S]_t$)) and this case gives rise to the famous Michaleis-Menten equation.\n",
    "\n",
    "First we state the model scheme for the reaction.\n",
    "\n",
    "$$ E + S\\rightleftharpoons ES \\rightarrow P$$\n",
    "\n",
    "And could be expressed with the following reactions.\n",
    "\n",
    "$$E + S \\xrightarrow{k_1} ES \\\\ \n",
    "ES \\xrightarrow{k_{-1}}  E + S\\\\\n",
    "ES \\xrightarrow{k_{cat}} P + E$$\n",
    "\n",
    "If we ensure that $[E]_t \\ll [S]_t$ then we can derive the famous Michaleis-Menten equation.\n",
    "\n",
    "$$\\nu = k_{cat}[E]_t\\frac{[S]_t}{K_M+[S]_t}$$\n",
    "\n",
    "This equation can be integrated analytically using advanced mathematical methods that you will likely never care to learn. I certainly have no clue how to integrate anything but the simplest equations. So, yes, you will never use calculus again in your life but only because others have done the calculus for you already. Understanding the basics of calculus is important if you are to properly stand on the shoulders of mathematicians.\n",
    "\n",
    "We will not use analytical methods but instead use the numerical algorithms encapsulated the Python tools. We turn again to ODEINT.\n",
    "\n",
    "### Notes\n",
    "\n",
    "As in the cases above we do not "
   ]
  },
  {
   "cell_type": "code",
   "execution_count": 4,
   "id": "6e357476",
   "metadata": {},
   "outputs": [
    {
     "data": {
      "image/png": "[encoded data removed]",
      "text/plain": [
       "<Figure size 432x288 with 1 Axes>"
      ]
     },
     "metadata": {
      "needs_background": "light"
     },
     "output_type": "display_data"
    }
   ],
   "source": [
    "#######################\n",
    "### import packages ###\n",
    "#######################\n",
    "\n",
    "import numpy as np\n",
    "from scipy.integrate import odeint\n",
    "import matplotlib.pyplot as plt\n",
    "\n",
    "#########################################\n",
    "### Create series of time points      ###\n",
    "#########################################\n",
    "\n",
    "dt = 0.0001                                # time step, delta t\n",
    "tmax = 25                                  # max time, s\n",
    "t = np.linspace(0, tmax, num=int(tmax/dt)) # time vector (list of time points)\n",
    "nt = len(t)                                # total number of time steps\n",
    "\n",
    "\n",
    "############################################\n",
    "### Create a function that describes the ###\n",
    "### rates of all reactions in the system ###\n",
    "############################################\n",
    "\n",
    "def rates(c, t):\n",
    "    K1 = 100        # these are the rate constants. Change tham and have fun.\n",
    "    K_1 = 2\n",
    "    Kcat = 20\n",
    "    \n",
    "    S = c[0]; E = c[1]; ES = c[2]; P = c[3]  # assign initial conc. from input list c\n",
    "\n",
    "    r_s = -(K1 * S * E)+(K_1 * ES)            # rates of each reaction step with give concentration in list c\n",
    "    r_e = -(K1 * S * E)+(K_1 * ES)+(Kcat * ES)\n",
    "    r_es = (K1 * S * E)-(Kcat * ES)-(K_1 * ES)\n",
    "    r_p = Kcat * ES\n",
    "    return [r_s, r_e, r_es, r_p]\n",
    "\n",
    "\n",
    "####################################################################\n",
    "### The function odeint() from scipy.integrate takes a function, ###\n",
    "### a list of initial conditions, and an array of time points.   ###\n",
    "### It returns a matrix with each column being the result for    ###\n",
    "### each variable at each time point.                            ###\n",
    "####################################################################\n",
    "\n",
    "cc = odeint(rates, [1, 0.01, 0, 0.], t)\n",
    "plt.plot(t,cc[:,0])                    # Plot only the values for S (column #0 of the array)\n",
    "#plt.plot(t,cc[:,1])                    # Plot only the values for S (column #0 of the array)\n",
    "#plt.plot(t,cc[:,2])                    # Plot only the values for S (column #0 of the array)\n",
    "#plt.plot(t,cc[:,3])                    # Plot only the values for S (column #0 of the array)\n",
    "\n",
    "\n",
    "#######################################\n",
    "### Output the three combined plots ###\n",
    "#######################################\n",
    "\n",
    "#fig.savefig(\"plot.pdf\")   # use this to save the figure in PDF format\n",
    "plt.show()                 # output the combined four plots"
   ]
  },
  {
   "cell_type": "code",
   "execution_count": 5,
   "id": "a58a2095",
   "metadata": {
    "tags": [
     "hide-input"
    ]
   },
   "outputs": [
    {
     "name": "stdout",
     "output_type": "stream",
     "text": [
      "[[5.34900046e-05]]\n"
     ]
    },
    {
     "data": {
      "text/plain": [
       "<matplotlib.legend.Legend at 0x138331a00>"
      ]
     },
     "execution_count": 5,
     "metadata": {},
     "output_type": "execute_result"
    },
    {
     "data": {
      "image/png": "[encoded data removed]",
      "text/plain": [
       "<Figure size 432x288 with 1 Axes>"
      ]
     },
     "metadata": {
      "needs_background": "light"
     },
     "output_type": "display_data"
    }
   ],
   "source": [
    "import numpy as np\n",
    "from scipy.optimize import curve_fit\n",
    "from scipy.integrate import odeint\n",
    "\n",
    "# given data we want to fit\n",
    "tspan = [0, 0.1, 0.2, 0.4, 0.8, 1]\n",
    "Ca_data = [2.0081,  1.5512,  1.1903,  0.7160,  0.2562,  0.1495]\n",
    "\n",
    "def fitfunc(t, k):\n",
    "    'Function that returns Ca computed from an ODE for a k'\n",
    "    def myode(Ca, t):\n",
    "        return -k * Ca\n",
    "\n",
    "    Ca0 = Ca_data[0]\n",
    "    Casol = odeint(myode, Ca0, t)\n",
    "    return Casol[:,0]\n",
    "\n",
    "k_fit, kcov = curve_fit(fitfunc, tspan, Ca_data, p0=1.3)\n",
    "print(kcov)\n",
    "\n",
    "tfit = np.linspace(0,1);\n",
    "fit = fitfunc(tfit, k_fit)\n",
    "\n",
    "import matplotlib.pyplot as plt\n",
    "plt.plot(tspan, Ca_data, 'ro', label='data')\n",
    "plt.plot(tfit, fit, 'b-', label='fit')\n",
    "plt.legend(loc='best')"
   ]
  },
  {
   "cell_type": "code",
   "execution_count": null,
   "id": "df4f7d6c",
   "metadata": {},
   "outputs": [],
   "source": []
  }
 ],
 "metadata": {
  "celltoolbar": "Edit Metadata",
  "kernelspec": {
   "display_name": "Python 3 (ipykernel)",
   "language": "python",
   "name": "python3"
  },
  "language_info": {
   "codemirror_mode": {
    "name": "ipython",
    "version": 3
   },
   "file_extension": ".py",
   "mimetype": "text/x-python",
   "name": "python",
   "nbconvert_exporter": "python",
   "pygments_lexer": "ipython3",
   "version": "3.9.7"
  }
 },
 "nbformat": 4,
 "nbformat_minor": 5
}
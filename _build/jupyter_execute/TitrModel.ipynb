{
 "cells": [
  {
   "cell_type": "markdown",
   "id": "72462ca2",
   "metadata": {},
   "source": [
    "# Modeling Titrations\n",
    "\n",
    "This exercise will introduce you to the ideas needed to interpret mathematical models of chemical systems. We will use the classic titration as our example.\n",
    "\n",
    "We can model any chemical system with math and then see if the model fits our experimental data. If we obtain a good fit we may be able to determine the parameters of the system with some accuracy. Let us examine a simple titration of acetic acid.\n",
    "\n",
    "*Note:  You can perform this exercise using Maple or Matlab, both of which are freely available to UPEI students via a site license. I am presenting this using Python because it is free to everyone for all time.*\n",
    "\n",
    "## Python as a Calculator\n",
    "\n",
    "First let us consider the basics. You should explore my notes on [Python as a calculator](https://blinkletter.github.io/MathWithPython/start.html) and then work through the [example of weak acid dissociation](https://blinkletter.github.io/MathWithPython/E1_The_ICE_Table_in_Python.html) found on those pages.\n",
    "\n",
    "Download the Jupyter Notebook for [example of weak acid dissociation](https://blinkletter.github.io/MathWithPython/E1_The_ICE_Table_in_Python.html) and solve the following problem: What is the pH of the solution created by adding 2.0 mL of acetic acid to 500 mL of pure water? "
   ]
  },
  {
   "cell_type": "code",
   "execution_count": 1,
   "id": "0d732026",
   "metadata": {
    "tags": [
     "hide-input"
    ]
   },
   "outputs": [],
   "source": [
    "import sympy\n",
    "import numpy as np\n",
    "import scipy as sp\n",
    "from matplotlib import pyplot as plt\n",
    "\n",
    "GitHub_Data_Location = \"https://raw.githubusercontent.com/blinkletter/3530Biochem/main/data/\""
   ]
  },
  {
   "cell_type": "markdown",
   "id": "99d439b7",
   "metadata": {},
   "source": [
    "## A Simple Titration\n",
    "\n",
    "Let us take that as a starting point. The pH of the solution is 2.96 (did you use the density of acetic acid to get the correct mass for the calculations?). We need a function that will model the concentration of hydronium ion and the amount of base added as we titrate.\n",
    "\n",
    "### The Acid Equilibrium\n",
    "\n",
    "As we learned in the [example of weak acid dissociation](https://blinkletter.github.io/MathWithPython/E1_The_ICE_Table_in_Python.html), the acid equilibrium of acetic acid can be expressed as...\n",
    "\n",
    "$$AcOH \\rightleftharpoons H^+ + AcO^-$$  \n",
    "$$K_a = \\frac{[H^+][AcO^-]}{[AcOH]}$$\n",
    "\n",
    "We will use the more general form below for all future equations...\n",
    "\n",
    "$$HA \\rightleftharpoons H + A$$  \n",
    "$$K_a = \\frac{[H][A]}{[AH]}$$\n",
    "\n",
    "\n",
    "### Doing Things Backwards\n",
    "\n",
    "In all the math that follows you will see that we are building equations that give us the amount of the basic or acidic form of the acid being titrated, not the concentration of hydronium, \\[H\\]. This is because the math is simpler with this approach.\n",
    "\n",
    "### Titrating with Strong Base\n",
    "\n",
    "The total concentration of acetic acid, $[A]_T$, in the solution is the combined concentrations of the acid and the conjugate base. \n",
    "\n",
    "$$[A]_T = [A] + [AH]$$\n",
    "\n",
    "Combining this with the equation for $K_a$ described above will give us an expression for the amount of the basic form as a fraction of the total amount of the acetic acid that was added.\n",
    "\n",
    "$$[A] = [A]_T\\frac{K_a}{K_a+[H]}$$\n",
    "\n",
    "We are titrating with a strong base, like NaOH.  We assume that it is a much stronger base that the acetate ion and the amount of hydroxide, $B_T$, added will be represented by the amount of acetate ion, $[A]$, and free hydroxide, $[OH]$.\n",
    "\n",
    "$$B_T = [OH] + [A]$$\n",
    "\n",
    "Substitiute in the expression for $[A]$ above and we have...\n",
    "\n",
    "$$B_T = [OH] + [A]_T\\frac{K_a}{K_a+[H]}$$\n",
    "\n",
    "We can express $[OH]$ as a function of $[H]$...\n",
    "\n",
    "$$[OH] = \\frac{K_W}{[H]}$$\n",
    "\n",
    "Therefore...\n",
    "\n",
    "$$B_T = \\frac{K_W}{[H]} + [A]_T\\frac{K_a}{K_a+[H]}$$\n",
    "\n",
    "We can make a list of pH values (remember that $pH = -\\log{[H]}$) and calculate a list of corresponding values for base added, $B_T$. We can then plot $pH$ vs. $B_T$ to get a model titration curve. The following code will calculate these two lists of values."
   ]
  },
  {
   "cell_type": "code",
   "execution_count": 2,
   "id": "98df5489",
   "metadata": {
    "tags": [
     "hide-input"
    ]
   },
   "outputs": [],
   "source": [
    "import numpy as np\n",
    "\n",
    "KW = 10 ** (- 14)       # Ionic product of water\n",
    "Ka = 10 ** (- 4.76)     # Ka value for acetic acid\n",
    "At = 0.06994            # concentration of acetic acid added (in moles/L)\n",
    "\n",
    "pH_list = np.linspace(2.96, 11, 100)      # a list of 100 pH values\n",
    "H_list = 10 ** (- pH_list)                # a list of [H] values calculted from the pH list\n",
    "\n",
    "B_list = KW / H_list + At * Ka / (Ka + H_list)   # a list of calculated values for base added to reach the value given in the list of H_list values."
   ]
  },
  {
   "cell_type": "markdown",
   "id": "7cf70959",
   "metadata": {},
   "source": [
    "### The Titration Plot for Acetic Acid\n",
    "\n",
    "The following code will now plot the results. We start at $pH = 2.96$. This values comes from our calculation for adding 2.0 mL of acetic acid to 500 mL of water for an initial concentration of $[A]_T = 0.0699 M$ We can see in the plot that the endpoint occurs very near that value for concentration of NaOH added."
   ]
  },
  {
   "cell_type": "code",
   "execution_count": 3,
   "id": "f6aa5854",
   "metadata": {
    "tags": [
     "hide-input"
    ]
   },
   "outputs": [
    {
     "data": {
      "image/png": "[encoded data removed]",
      "text/plain": [
       "<Figure size 432x288 with 1 Axes>"
      ]
     },
     "metadata": {
      "needs_background": "light"
     },
     "output_type": "display_data"
    }
   ],
   "source": [
    "from matplotlib import pyplot as plt\n",
    "\n",
    "x = B_list\n",
    "y = pH_list\n",
    "\n",
    "plt.plot(x, y)\n",
    "plt.vlines(At, np.min(pH_list), np.max(pH_list), colors=\"red\", linestyles='dashed')\n",
    "plt.show()"
   ]
  },
  {
   "cell_type": "markdown",
   "id": "0ba70946",
   "metadata": {},
   "source": [
    "### Phenolphthalein Indicator\n",
    "\n",
    "We know that phenolphthalein indicator changes from colorless to pink at pH 8.5. What is the amount of base needed to reach that pH value? We can just do the math with the code below.\n",
    "\n",
    "Take note of how vertical the function is at the endpoint. pH changes rapidly in neutral water with the tiniest addition of acid or base. Once we have fully titrated the acetic acid there is nothing to prevent the pH from rising past the $pK_a$ value of the phenolphthalein indicator.\n",
    "\n",
    "The amount of phenolphthalein present is very small and it has no significant effect on the titration. As long as your pH change is rapid in the region of pH = 8 to 9 then this indicator will work well."
   ]
  },
  {
   "cell_type": "code",
   "execution_count": 4,
   "id": "9ff82bd1",
   "metadata": {
    "tags": [
     "hide-input"
    ]
   },
   "outputs": [
    {
     "data": {
      "image/png": "[encoded data removed]",
      "text/plain": [
       "<Figure size 432x288 with 1 Axes>"
      ]
     },
     "metadata": {
      "needs_background": "light"
     },
     "output_type": "display_data"
    },
    {
     "name": "stdout",
     "output_type": "stream",
     "text": [
      "The endpoint is reached when the concentration of NaOH added is... \n",
      "0.069922 moles/L\n"
     ]
    }
   ],
   "source": [
    "pH = 8.3\n",
    "H = 10 **(- pH)\n",
    "Ka = 10 ** (- 4.76)      # Ka value for acetic acid\n",
    "\n",
    "B = KW/H + At*Ka/(Ka+H)  # This is the equation we used to make the plot above\n",
    "\n",
    "# Plot the titration curve with the phenolphthalein pKa indicated by a dashed line\n",
    "\n",
    "plt.hlines(8.5, 0, B * 1.1, colors=\"red\", linestyles='dashed')\n",
    "plt.plot(B_list, pH_list)\n",
    "plt.show()\n",
    "\n",
    "# print the calculated endpoint when pH = Pka of phenolphthalein\n",
    "\n",
    "print(\"The endpoint is reached when the concentration of NaOH added is... \")\n",
    "print(f\"{B:.6f} moles/L\" )\n",
    "\n"
   ]
  },
  {
   "cell_type": "markdown",
   "id": "2d86a5bf",
   "metadata": {},
   "source": [
    "## Not So Simple\n",
    "\n",
    "We are not always starting with a pure solution of acetic acid and water. Imagine I begin with an unknown mixture of acetic acid and sodium acetate. I want to get the total concentration of acetate by titration. The mixture is already partly titrated if significant amounts of the base and the acid forms are present.\n",
    "\n",
    "I will add enough strong acid (e.g. HCl) to take the pH well below the $pK_a$ of acetic acid.  At pH 1.0 the acetic acid is 99.8% in its acidic form. We will also have excess acid. So the amount of titrant will be increased by the amount of strong acid.\n",
    "\n",
    "$$B_T + [H] = [OH] + [A] $$\n",
    "\n",
    "$$B_T = [OH] - [H] + [A] $$\n",
    "\n",
    "$$B_T = \\frac{K_W}{[H]} - [H] + [A]_T\\frac{K_a}{K_a+[H]}$$\n",
    "\n",
    "The code below implements this model."
   ]
  },
  {
   "cell_type": "code",
   "execution_count": 5,
   "id": "91a5471c",
   "metadata": {
    "tags": [
     "hide-input"
    ]
   },
   "outputs": [
    {
     "data": {
      "image/png": "[encoded data removed]",
      "text/plain": [
       "<Figure size 432x288 with 1 Axes>"
      ]
     },
     "metadata": {
      "needs_background": "light"
     },
     "output_type": "display_data"
    }
   ],
   "source": [
    "import numpy as np\n",
    "from matplotlib import pyplot as plt\n",
    "\n",
    "KW = 10 ** (- 14)       # Ionic product of water\n",
    "Ka = 10 ** (- 4.76)     # Ka value for acetic acid\n",
    "At = 0.06994            # concentration of acetic acid added (in moles/L)\n",
    "\n",
    "\n",
    "pH_list = np.linspace(1, 13, 100)   # a list of 100 pH values\n",
    "H_list = 10**(-pH_list)             # a list of [H] values calculted from the pH list\n",
    "\n",
    "Init_H = 10**-pH_list[0]            # The starting [H], represents amount of additional strong \n",
    "                                    #  acid added and assumes that the tritrated acid was added \n",
    "                                    #  in its fully acidic form.\n",
    "        \n",
    "B_list = KW/H_list + At*Ka/(Ka+H_list) - H_list + Init_H   #Init_H added so that the titration starts at zero\n",
    "\n",
    "\n",
    "\n",
    "\n",
    "plt.vlines(Init_H, 1, 12, colors=\"red\", linestyles='dashed')\n",
    "plt.vlines(Init_H + At, 1, 12, colors=\"red\", linestyles='dashed')\n",
    "plt.plot(B_list, pH_list, \"k-\")\n",
    "plt.show()"
   ]
  },
  {
   "cell_type": "markdown",
   "id": "5299ffed",
   "metadata": {},
   "source": [
    "The vertical lines in the plot above denote the equivalence points for titrating away the 0.1 moles/L of string acid that was added to bring the pH down to 1.0 and the 0.070 moles/L of aceric acid that was present. This is still a simple system and was modelled by adding together the titration curves of water and of acetic acid."
   ]
  },
  {
   "cell_type": "markdown",
   "id": "b532567e",
   "metadata": {},
   "source": [
    "## A Polyprotic Acid\n",
    "\n",
    "Many biological molecules have more than one acidic proton with a $p\\rm K_a$ value in the range of a typical aqueous titration. \n",
    "\n",
    "Let us consider the titration of phosphoric acid by a very strong base. Phosphoric acid has three acidic protons.\n",
    "\n",
    "$$ H_3PO_4 \\rightleftharpoons H_2PO_4^{-} \\rightleftharpoons HPO_4^{2-} \\rightleftharpoons PO_4^{3-} $$\n",
    "\n",
    "And there are three corresponding $\\rm Ka$ values for the acid equilibrium if phosphoric acid.\n",
    "\n",
    "$$ K_{a_1} = \\frac{[H^+][H_2PO_4^{-}]}{[H_3PO_4]}\\; \\; \\;K_{a_2} = \\frac{[H^+][HPO_4^{2-}]}{[H_2PO_4^{-}]}\\; \\; \\;K_{a_3} = \\frac{[H^+][PO_4^{3-}]}{[HPO_4^{2-}]}$$\n",
    "\n",
    "And the total amount pf phosphate in the system does not change with the titration so we can say that...\n",
    "\n",
    "$$ [P]_T = [H_3PO_4] + [H_2PO_4^{-}] + [HPO_4^{2-}] + [PO_4^{3-}] $$\n",
    "\n",
    "From these statements we can derive the following relationship for the amount of base added to acheive a given $p \\rm H$ value.\n",
    "\n",
    "$$B_T = \\frac{K_W}{[H]}- [H] + [P]_T\\frac{K_{a_1}[H^+]^2 + 2K_{a_1}K_{a_2}[H^+] + 3K_{a_1}K_{a_2}K_{a_3}}{[H^+]^3+ K_{a_1}[H^+]^2 + K_{a_1}K_{a_2}[H^+] + K_{a_1}K_{a_2}K_{a_3}} $$\n",
    "\n",
    "The details of deriving this equation are given in the **Acid/base Equilibria Tutorial** document. The code and plot for the model is shown below.\n",
    "\n",
    "This equation could be written as a sum of the titration terms of the polyprotic acid as shown below. This is exactly the same equation as above except the terms in the polyvalent equation have not been collected.  \n",
    "\n",
    "$$B_T = \\frac{K_W}{[H]} - [H] + [P]_T\\left(\\frac{K_{a_1}}{K_{a_1}+[H]}+\\frac{K_{a_2}}{K_{a_2}+[H]}+\\frac{K_{a_3}}{K_{a_3}+[H]}\\right)$$"
   ]
  },
  {
   "cell_type": "code",
   "execution_count": 6,
   "id": "40b18777",
   "metadata": {
    "tags": [
     "hide-input"
    ]
   },
   "outputs": [
    {
     "data": {
      "image/png": "[encoded data removed]",
      "text/plain": [
       "<Figure size 432x288 with 1 Axes>"
      ]
     },
     "metadata": {
      "needs_background": "light"
     },
     "output_type": "display_data"
    }
   ],
   "source": [
    "import numpy as np\n",
    "from matplotlib import pyplot as plt\n",
    "\n",
    "KW = 10 ** (- 14)       # Ionic product of water\n",
    "Ka1 = 10 ** (- 2.15)       # Ka value for H3PO4 acid\n",
    "Ka2 = 10 ** (- 7.20)       # Ka value for H2PO4 acid\n",
    "Ka3 = 10 ** (- 12.35)      # Ka value for HPO4 acid\n",
    "Pt = 0.05               # concentration of phosphoric acid added (in moles/L)\n",
    "\n",
    "\n",
    "pH_list = np.linspace(1.44, 13, 200)   # a list of 200 pH values\n",
    "H_list = 10**(-pH_list)             # a list of [H] values calculated from the pH list\n",
    "H = H_list                          # For simplicity in the math expression\n",
    "\n",
    "Init_H = 10**-pH_list[0]            # The starting [H], represents amount of additional strong \n",
    "                                    #  acid added and assumes that the tritrated acid was added \n",
    "                                    #  in its fully acidic form. \\\n",
    "        \n",
    "B_list = Init_H  + KW/H - H + Pt   \\\n",
    "          * (( Ka1*H**2 )+( 2*Ka1*Ka2*H )+( 3*Ka1*Ka2*Ka3 )) \\\n",
    "          / (( H**3 )+( Ka1*H**2 )+( Ka1*Ka2*H )+( Ka1*Ka2*Ka3 )) \n",
    "         #Init_H added so that the titration starts at zero\n",
    "\n",
    "#B_list = Init_H + 1*(KW/H - H) + Pt * (Ka1/(Ka1+H) + Ka2/(Ka2+H) + Ka3/(Ka3+H)) #Init_H added so that the titration starts at zero\n",
    "         \n",
    "\n",
    "\n",
    "plt.vlines(Init_H, 1, 12, colors=\"red\", linestyles='dashed')\n",
    "plt.vlines(Init_H + Pt, 1, 12, colors=\"red\", linestyles='dashed')\n",
    "plt.vlines(Init_H + 2*Pt, 1, 13,  colors=\"red\", linestyles='dashed')\n",
    "plt.vlines(Init_H + 3*Pt, 1, 13, colors=\"red\", linestyles='dashed')\n",
    "\n",
    "plt.plot(B_list, pH_list, \"k-\")\n",
    "plt.show()"
   ]
  },
  {
   "cell_type": "markdown",
   "id": "4e5b39c7",
   "metadata": {},
   "source": [
    "## Using the Model\n",
    "\n",
    "Observe in the plot above that the lowest and highest $p\\rm K_a$ values in phosphoric acid are not resolved. The water itself is being titrated below $p\\rm H$ 2 and above $p\\rm H$ 12 and this signal is added to and overwhelms the signal from the phosphoric acid. We cannot easily determine the $p\\rm K_a$  values for the first and third acid dissociation by visual inspection. But we could fit experimental data to the model and see if we can determine the Ka values and the concentration.\n",
    "\n",
    "First we will find some data reported in the literature. I obtained data from a recent paper that described the titration of 25 mL of a 0.04389 M solution of phosphoric acid using a 0.09948 M solution of NaOH. The code below will read in the data from a file."
   ]
  },
  {
   "cell_type": "code",
   "execution_count": 7,
   "id": "93a89a35",
   "metadata": {
    "tags": [
     "hide-input"
    ]
   },
   "outputs": [
    {
     "data": {
      "image/png": "[encoded data removed]",
      "text/plain": [
       "<Figure size 432x288 with 1 Axes>"
      ]
     },
     "metadata": {
      "needs_background": "light"
     },
     "output_type": "display_data"
    },
    {
     "data": {
      "text/plain": [
       "0.00109725"
      ]
     },
     "execution_count": 7,
     "metadata": {},
     "output_type": "execute_result"
    }
   ],
   "source": [
    "# Titration of 25 mL of H3PO4 0.04389 M with NaOH 0.09948 M (Veq1=11.03 mL; Veq2=22.06 mL)\n",
    "\n",
    "import pandas\n",
    "import numpy as np\n",
    "from matplotlib import pyplot as plt\n",
    "\n",
    "NaOH_conc = 0.09948  # moles/L\n",
    "\n",
    "data_file = \"PO4.Data.csv\"\n",
    "file_name = GitHub_Data_Location + data_file\n",
    "\n",
    "df = pandas.read_csv(file_name, comment='#')\n",
    "\n",
    "x = df[\"pH\"]\n",
    "y = df[\"Volume.mL\"]\n",
    "y = y/1000*NaOH_conc\n",
    "\n",
    "plt.plot(y, x, \"kx\")\n",
    "plt.show()\n",
    "\n",
    "0.04389*.025"
   ]
  },
  {
   "cell_type": "markdown",
   "id": "99a88e5f",
   "metadata": {},
   "source": [
    "## Using the First Derivative\n",
    "\n",
    "The slope of the line (the first derivative) will help identify the endpoints."
   ]
  },
  {
   "cell_type": "code",
   "execution_count": 8,
   "id": "a9c813ad",
   "metadata": {
    "tags": [
     "hide-input"
    ]
   },
   "outputs": [
    {
     "data": {
      "text/plain": [
       "[<matplotlib.lines.Line2D at 0x121cbf6d0>]"
      ]
     },
     "execution_count": 8,
     "metadata": {},
     "output_type": "execute_result"
    },
    {
     "data": {
      "image/png": "[encoded data removed]",
      "text/plain": [
       "<Figure size 432x288 with 1 Axes>"
      ]
     },
     "metadata": {
      "needs_background": "light"
     },
     "output_type": "display_data"
    }
   ],
   "source": [
    "der = np.gradient(x,y)\n",
    "\n",
    "plt.plot(y, x*3000, \"kx\")\n",
    "plt.plot(y, der, \"k-\")"
   ]
  },
  {
   "cell_type": "code",
   "execution_count": 9,
   "id": "1953d087",
   "metadata": {
    "tags": [
     "hide-input"
    ]
   },
   "outputs": [
    {
     "name": "stdout",
     "output_type": "stream",
     "text": [
      "[7.17792405e-03 3.29742550e-12 2.29729339e-07]\n",
      "[ -2.14400114 -11.48182501  -6.63878354]\n",
      "-11.782855003516664\n"
     ]
    },
    {
     "data": {
      "image/png": "[encoded data removed]",
      "text/plain": [
       "<Figure size 432x288 with 1 Axes>"
      ]
     },
     "metadata": {
      "needs_background": "light"
     },
     "output_type": "display_data"
    }
   ],
   "source": [
    "# Titration of 25 mL of H3PO4 0.04389 M with NaOH 0.09948 M (Veq1=11.03 mL; Veq2=22.06 mL)\n",
    "\n",
    "import scipy\n",
    "from scipy.optimize import curve_fit\n",
    "\n",
    "import pandas\n",
    "import numpy as np\n",
    "from matplotlib import pyplot as plt\n",
    "\n",
    "def titrate3(pH_list, Ka1, Ka2, Ka3):\n",
    "    \n",
    "    KW = 10 ** (-14)\n",
    "    \n",
    "    H = 10**(-pH_list)                              \n",
    "    Init_H = H[0]      \n",
    "    Pt = 0.00109725\n",
    "    \n",
    "    B_list = 0*Init_H + 0*(KW/H) - 0*H + Pt * (Ka1/(Ka1+H) + Ka2/(Ka2+H) + Ka3/(Ka3+H)) \n",
    "    #Init_H added so that the titration starts at zero\n",
    "    \n",
    "    return(B_list)\n",
    "\n",
    "NaOH_conc = 0.09948  # moles/L\n",
    "\n",
    "data_file = \"PO4.Data.csv\"\n",
    "file_name = GitHub_Data_Location + data_file\n",
    "\n",
    "df = pandas.read_csv(file_name, comment='#')\n",
    "\n",
    "x = df[\"pH\"]\n",
    "y = df[\"Volume.mL\"]\n",
    "\n",
    "y = y/1000*NaOH_conc\n",
    "\n",
    "plt.plot(y, x, \"kx\")\n",
    "\n",
    "\n",
    "\n",
    "a, b = scipy.optimize.curve_fit(titrate3, x, y)\n",
    "\n",
    "B_opt_list = titrate3(x,7.17792405e-03,2.29729339e-07,3.29742550e-12)\n",
    "\n",
    "plt.plot(B_opt_list, x, \"b-\")\n",
    "\n",
    "print(a)\n",
    "print(np.log10(a))\n",
    "print(np.log10(3.29742550e-12)-np.log10(2))"
   ]
  },
  {
   "cell_type": "markdown",
   "id": "9eef0ed5",
   "metadata": {},
   "source": [
    "## Acetate\n"
   ]
  },
  {
   "cell_type": "code",
   "execution_count": 10,
   "id": "a7a429bd",
   "metadata": {
    "tags": [
     "hide-input"
    ]
   },
   "outputs": [
    {
     "name": "stdout",
     "output_type": "stream",
     "text": [
      "Index(['V_mL', 'pH'], dtype='object')\n",
      "[1.53628664e-05]\n",
      "[4.81352775]\n"
     ]
    },
    {
     "data": {
      "image/png": "[encoded data removed]",
      "text/plain": [
       "<Figure size 432x288 with 1 Axes>"
      ]
     },
     "metadata": {
      "needs_background": "light"
     },
     "output_type": "display_data"
    }
   ],
   "source": [
    "#  Titration with NaOH 0.4905 M, of 3.96 mmol of acetic acid plus 0.484 mmol de HCl dissolved in 200 mL of KCl 0.10 M\n",
    "# from http://dx.doi.org/10.20431/2349-0403.0409002\n",
    "\n",
    "\n",
    "import scipy\n",
    "from scipy.optimize import curve_fit\n",
    "\n",
    "import pandas\n",
    "import numpy as np\n",
    "from matplotlib import pyplot as plt\n",
    "\n",
    "def titrate3(pH_list, Ka1):\n",
    "    \n",
    "    KW = 10 ** (-14)\n",
    "    \n",
    "    H = 10**(-pH_list)                              \n",
    "    Init_H = 0.00048  # moles HCl added     \n",
    "    At = 0.00396\n",
    "    \n",
    "    B_list = Init_H + 1*(KW/H) - 1*H + At * (Ka1/(Ka1+H))\n",
    "\n",
    "    #Init_H added so that the titration starts at zero\n",
    "    \n",
    "    return(B_list)\n",
    "\n",
    "\n",
    "NaOH_conc = 0.4905  # moles/L\n",
    "\n",
    "data_file = \"AcOH.Data.csv\"\n",
    "file_name = GitHub_Data_Location + data_file\n",
    "\n",
    "xf = pandas.read_csv(file_name, comment='#')\n",
    "print(xf.columns)\n",
    "\n",
    "x = xf[\"pH\"]\n",
    "y = xf[\"V_mL\"]\n",
    "\n",
    "y = y / 1000 * NaOH_conc\n",
    "\n",
    "plt.plot(y, x, \"kx\")\n",
    "\n",
    "\n",
    "a, b = scipy.optimize.curve_fit(titrate3, x, y)\n",
    "\n",
    "pKa = 10**(-4.8)\n",
    "B_opt_list = titrate3(x, pKa)\n",
    "\n",
    "plt.plot(B_opt_list, x, \"b-\")\n",
    "\n",
    "print(a)\n",
    "print(-np.log10(a))\n"
   ]
  },
  {
   "cell_type": "markdown",
   "id": "a0b03eee",
   "metadata": {},
   "source": [
    "# Resources\n",
    "\n",
    "I am not a programmer, I am a user. I learned how to use Python at the most basic level and then turned to helpful resources made available by others. Along the way I made notes that I turned into some resources for myself that you may find useful as well.\n",
    "\n",
    "**Math with Python**.  These are some pages that I made to help me learn how to perform calculations and do basic modelling with Python. [https://blinkletter.github.io/MathWithPython/start.html](https://blinkletter.github.io/MathWithPython/start.html)\n",
    "\n",
    "**Mathematical Python**. An introduction to mathematical computing including:Jupyter notebooks, basic Python programming, and scientific computing with NumPy, SciPy and Matplotlib. [https://patrickwalls.github.io/mathematicalpython/](https://patrickwalls.github.io/mathematicalpython/)\n",
    "\n",
    "**Scientific Computing for Chemists with Python**. Python basics with a focus on examples applicable to chemistry. [https://weisscharlesj.github.io/SciCompforChemists/intro.html](https://weisscharlesj.github.io/SciCompforChemists/intro.html)\n",
    "\n",
    "The data for the phosphate and acetate titrations was from \"Titration Error in Polyprotic Acid-Base Titrations: Applications to Titration of Vinegar, Cola Drinks and Antibiotic Batches.\" Julia Martín, Gloria Cañamares Marin, Agustin G. Asuero, *International Journal of Advanced Research in Chemical Science*, **2017**, *4*, 7-20. [http://dx.doi.org/10.20431/2349-0403.0409002](http://dx.doi.org/10.20431/2349-0403.0409002)"
   ]
  },
  {
   "cell_type": "code",
   "execution_count": 11,
   "id": "6d5a1a08",
   "metadata": {},
   "outputs": [
    {
     "data": {
      "text/plain": [
       "-1.3576344191550267"
      ]
     },
     "execution_count": 11,
     "metadata": {},
     "output_type": "execute_result"
    }
   ],
   "source": [
    "np.log10(0.04389)"
   ]
  },
  {
   "cell_type": "code",
   "execution_count": null,
   "id": "9e381435",
   "metadata": {},
   "outputs": [],
   "source": []
  }
 ],
 "metadata": {
  "kernelspec": {
   "display_name": "Python 3 (ipykernel)",
   "language": "python",
   "name": "python3"
  },
  "language_info": {
   "codemirror_mode": {
    "name": "ipython",
    "version": 3
   },
   "file_extension": ".py",
   "mimetype": "text/x-python",
   "name": "python",
   "nbconvert_exporter": "python",
   "pygments_lexer": "ipython3",
   "version": "3.9.7"
  }
 },
 "nbformat": 4,
 "nbformat_minor": 5
}
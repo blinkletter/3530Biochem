{
 "cells": [
  {
   "cell_type": "markdown",
   "metadata": {},
   "source": [
    "# Drug Interaction and Enzyme Kinetics\n",
    "\n",
    "In this workbook we will introduce *Python* commands for importing and manipulating data. then we will curve fit and plot using what we learned in the previous tutorial.\n",
    "\n"
   ]
  },
  {
   "cell_type": "code",
   "execution_count": null,
   "metadata": {},
   "outputs": [],
   "source": [
    "####################################\n",
    "### Install UNCERTAINTIES package \n",
    "####################################\n",
    "\n",
    "!pip install uncertainties  # to install in Colab. Add it back to avoid installing again and again.\n",
    "\n",
    "####################################\n",
    "### Load tools \n",
    "####################################\n",
    "\n",
    "!wget https://raw.githubusercontent.com/blinkletter/3530Biochem/main/T04/T4Tools.py\n",
    "import T4Tools\n",
    "\n",
    "############################################\n",
    "###  Import packages and set up variables\n",
    "############################################\n",
    "\n",
    "from os import system                    ## import tools to access the file sytsem directly\n",
    "from scipy.optimize import curve_fit\n",
    "import numpy as np                       ## import the tools of NumPy but use a shorter name\n",
    "import pandas as pd                      ## import tools for data handling\n",
    "from matplotlib import pyplot as plt\n",
    "import requests                          ## tools to access web content\n",
    "\n",
    "github_data_location= \"https://raw.githubusercontent.com/blinkletter/3530Biochem/main/T04/data/\"\n",
    "\n",
    "####################################\n",
    "### Import versions of NumPy and Math that use uncertainty \n",
    "####################################\n",
    "\n",
    "import uncertainties as un\n",
    "from uncertainties import unumpy as unp\n",
    "from uncertainties import umath as um\n"
   ]
  },
  {
   "cell_type": "markdown",
   "metadata": {},
   "source": [
    "## Setting Up the Data\n",
    "\n",
    "The code below will print out the data file that we are using as text. Examine it and decide your next steps.\n",
    "\n",
    "Choose from one of the following data files and modify the code below to access it...\n",
    "\n",
    "- Data-0.csv\n",
    "- Data-1.csv\n",
    "- Data-2.csv\n",
    "- Data-3.csv\n",
    "- Data-4.csv\n",
    "- Data-5.csv\n",
    "- Data-6.csv\n",
    "- Data-7.csv\n",
    "- Data-8.csv\n",
    "- Data-9.csv\n"
   ]
  },
  {
   "cell_type": "markdown",
   "metadata": {},
   "source": [
    "## Example Analysis\n",
    "\n",
    "In the following example I will obtain the $V_{max}$ and $K_M$ values in the case of warfarin with cyp450 and again with the presence of a potential inhibitor.\n",
    "\n",
    "First let us examine the raw text data file with our eyes..."
   ]
  },
  {
   "cell_type": "code",
   "execution_count": null,
   "metadata": {
    "tags": [
     "hide-input"
    ]
   },
   "outputs": [],
   "source": [
    "########################\n",
    "## Triclofenac B\n",
    "########################\n",
    "\n",
    "############################################\n",
    "### Identify the data file and examine it\n",
    "############################################\n",
    "\n",
    "data_file = \"Data-B.csv\"       ### You will need to change this name\n",
    "\n",
    "file_url = github_data_location + data_file   ### The data is on a web site so I add the web site to the file name here\n",
    "\n",
    "page = requests.get(file_url)  ### pull in a file from the web (github in this case)\n",
    "print(page.text)               ### print out the text contents of the web page file.\n"
   ]
  },
  {
   "cell_type": "markdown",
   "metadata": {},
   "source": [
    "## Load the Data\n",
    "\n",
    "We see that the data is organized in a format.  There are comments describing conditions and information about the format. This will enable you to interpret the data. There are also lines of data organized in columns. \n",
    "\n",
    "We will import this text fime into a data structure called a 'dataframe'. This is the *Python* version of a spreadsheet. The dataframe has tools built into it for manipulating the data. If you examine the code at the very end of the spreadsheet you will see examples of this.\n",
    "\n",
    "Below we us the Pandas package (loaded in as 'pd') and the Pandas.read_csv() function to parse the data file and create the dataframe object. The dataframe is then printed out for your inspection.\n",
    "\n",
    "Note that I manually entered some data that was in the comments, such as the concentration of the potential inhibitor and the enzyme concentration. You can use this data later to calculate the dissociation conatnat for inhibition, $K_i$."
   ]
  },
  {
   "cell_type": "code",
   "execution_count": null,
   "metadata": {},
   "outputs": [],
   "source": [
    "#######################\n",
    "## Facts from data file comments\n",
    "#######################\n",
    "\n",
    "conc_enzyme = 1 ## nanomole/L \n",
    "conc_inh = 2    ## millimole/L\n",
    "name_inh = \"triclofenac B\"\n",
    "name_substrate = \"warfarin\"\n",
    "\n",
    "################################################################################\n",
    "### Read data set. The fields are separated by commas; comments are ignored \n",
    "################################################################################\n",
    "\n",
    "data = pd.read_csv(file_url, \n",
    "                 delimiter = \",\", \n",
    "                 skipinitialspace = True,\n",
    "                 header = None, \n",
    "                 index_col = None, \n",
    "                 comment = \"#\") \n",
    "display(data)\n"
   ]
  },
  {
   "cell_type": "markdown",
   "metadata": {},
   "source": [
    "## Edit the DataFrame\n",
    "\n",
    "The dataframe has two sets of data in it.  the code below will separate the two chuncks of data and create two new dataframes. You will need to change the numbers in the slices if your data has a different number of lines that the set presented here.\n",
    "\n",
    "The final dataframes are a seris of columns. there is a column for the time of measurements and columns for the amount of product formed at each time point. Each column is the result of an experiment with a different concentration of the substrate and these concentration values are listed at the top of each column. In a Pandas dataframe the 'header' is the title of each column. I can access each column using the header value. You can see examples of this in the code at the end of this notebook."
   ]
  },
  {
   "cell_type": "code",
   "execution_count": null,
   "metadata": {},
   "outputs": [],
   "source": [
    "################################################################################\n",
    "### Separate the two groups of data and set up the dataframe for convenient access \n",
    "################################################################################\n",
    "\n",
    "df = data.copy()           ### copy the dataframe to a generic name so I can easily reuse the code below\n",
    "df = df[0:9]               ### slice rows 0 to 8 into a new dataframe\n",
    "\n",
    "df_no_inh = T4Tools.trim_and_format_data(df)  ### will strip away unwanted rows and columns and set up column headers and index column\n",
    "\n",
    "\n",
    "df = data.copy()           ### copy the dataframe again\n",
    "df = df[9:]                ### slice rows 9 to the end into a new dataframe\n",
    "\n",
    "df_inh = T4Tools.trim_and_format_data(df)     ### will strip away unwanted rows and columns and set up column headers and index column\n",
    "\n",
    "################################################################################\n",
    "### We now have dataframes with the data in rows labeled by the time points\n",
    "### and each column labelled by the substrate concentration\n",
    "################################################################################\n",
    "\n",
    "print(\"Data for warfarin only no inhibitor\")\n",
    "display(df_no_inh)\n",
    "\n",
    "print(\"Data for warfarin with drup -- potential inhibitor\")\n",
    "display(df_inh)\n"
   ]
  },
  {
   "cell_type": "markdown",
   "metadata": {},
   "source": [
    "### Calculate Rates at Each Concentration\n",
    "\n",
    "The experiment will enable us to calculate the reaction rate at a given concentration by taking the slope of the plot of concentration vs. time for the appearance of product. The function 'get_slopes_and_plot_them_all' will take a dataframe, curve fit each column agains time to get the slopes, plot all data and slopes, and finaly return the list of slopes and a list of the concentrations of the substrate.\n",
    "\n",
    "You now have a set of rates and a set of concentrations."
   ]
  },
  {
   "cell_type": "code",
   "execution_count": null,
   "metadata": {},
   "outputs": [],
   "source": [
    "################################################################################\n",
    "### Take a dataframe of product concentrations vs time at different substrate\n",
    "### concentrations and get slopes of each experiment and plot them all\n",
    "### on a single graph\n",
    "################################################################################\n",
    "\n",
    "concs, rates = T4Tools.get_slopes_and_plot_them_all(df_no_inh.copy(),\n",
    "                                            title = \"Change in concentration vs. Time\", \n",
    "                                            xaxis = \"$t /min$\", \n",
    "                                            yaxis = \"$\\Delta [P] / \\mu M$\")\n",
    "\n",
    "print(concs)\n",
    "display(rates)"
   ]
  },
  {
   "cell_type": "markdown",
   "metadata": {},
   "source": [
    "## Michaelis-Menten Plot\n",
    "\n",
    "We will use a slightly modified vesrion of the MM_Plot() function from the previous tutorial.  This one has added error bars to the plot and uses the errors in the line fit (points with large errors are weighted less in the curve_fit algorithm).\n",
    "\n",
    "\n",
    "\n",
    "\n"
   ]
  },
  {
   "cell_type": "code",
   "execution_count": null,
   "metadata": {},
   "outputs": [],
   "source": [
    "x = concs \n",
    "y = rates\n",
    "\n",
    "Vmax, KM = T4Tools.MM_Plot(x, y)\n",
    "\n",
    "print(f\"Vmax = {Vmax:0.2f}\\nKm = {KM:0.2f}\")"
   ]
  },
  {
   "cell_type": "markdown",
   "metadata": {},
   "source": [
    "## Lineweaver-Burke\n",
    "\n",
    "We all hate it, but it is the one form of linearization that your textbook discusses so we will present it here. The Linear_Plot function from the previous tutorial has been modified to use errors as well. We will get the slope and intercept and calculate $V_{max}$ and $K_M$."
   ]
  },
  {
   "cell_type": "code",
   "execution_count": null,
   "metadata": {},
   "outputs": [],
   "source": [
    "x = 1 / concs \n",
    "y = 1 / rates    \n",
    "\n",
    "slope, intercept = T4Tools.Linear_Plot(x, y,\n",
    "                               title =\"Lineweaver Something or Other\", \n",
    "                               xaxis = \"1 / x-axis\", \n",
    "                               yaxis = \"$1\\\\, /\\\\, \\\\nu$\")\n",
    "\n",
    "print(f\"Slope = {slope:0.2f}\\nIntercept = {intercept:0.3f}\\n\")  ### An exampe of the '\\n' to make a new line\n",
    "\n",
    "Vmax = 1 / intercept\n",
    "KM = slope * Vmax\n",
    "\n",
    "print(f\"Vmax = {Vmax:0.2f}\\nKm = {KM:0.2f}\")"
   ]
  },
  {
   "cell_type": "markdown",
   "metadata": {},
   "source": [
    "## You are Half Done\n",
    "\n",
    "Now record the values you have calculated and download any plots you wish to present in your report. Then repeat the above with the other dataframe for the inhibited experiment. You will now have all the data that you need to finish the assignment."
   ]
  },
  {
   "cell_type": "code",
   "execution_count": null,
   "metadata": {},
   "outputs": [],
   "source": []
  }
 ],
 "metadata": {
  "kernelspec": {
   "display_name": "base",
   "language": "python",
   "name": "python3"
  },
  "language_info": {
   "codemirror_mode": {
    "name": "ipython",
    "version": 3
   },
   "file_extension": ".py",
   "mimetype": "text/x-python",
   "name": "python",
   "nbconvert_exporter": "python",
   "pygments_lexer": "ipython3",
   "version": "3.11.4"
  }
 },
 "nbformat": 4,
 "nbformat_minor": 2
}
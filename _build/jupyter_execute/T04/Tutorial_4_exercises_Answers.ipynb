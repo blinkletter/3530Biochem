{
 "cells": [
  {
   "cell_type": "markdown",
   "metadata": {},
   "source": [
    "# Answers for Questions 5 to 10\n",
    "\n",
    "## Question #5\n",
    "\n",
    "The glucuronosyltransferase that helps convert acetaminophen to a soluble form that is easily excreted in urine has a Vmax of 1000 µM/min and a KM of 10 µM. What is the rate of glucuronidation when the concentration of acetaminophen in the liver cell is 6.10µM?\n",
    "\n",
    "We can get the answer using the Michaelis-Menten equation...\n",
    "\n",
    "$$\\nu = V_{max}\\frac{[S]}{[S]+ K_M} $$"
   ]
  },
  {
   "cell_type": "code",
   "execution_count": 10,
   "metadata": {},
   "outputs": [
    {
     "name": "stdout",
     "output_type": "stream",
     "text": [
      "The rate is 378.882 uM/min\n"
     ]
    }
   ],
   "source": [
    "V_max = 1000   ### uM/min\n",
    "KM = 10        ### uM\n",
    "S = 6.1        ### uM   ### NOTE: KM must be in same units as the substrate concentration\n",
    "\n",
    "v = V_max * S / (S + KM)  ### NOTE: rate will be in the same units as Vmax\n",
    "\n",
    "print(f\"The rate is {v:0.3f} uM/min\")"
   ]
  },
  {
   "cell_type": "markdown",
   "metadata": {},
   "source": [
    "## Question #6\n",
    "\n",
    "The cytochrome P450 that helps convert acetaminophen to a toxic product has a Vmax of 2000 µM/min and a KM of 1000 µM. What is the rate of hydroxylation when the concentration of acetaminophen in the liver cell is 6.0 µM?\n",
    "\n",
    "Answer using the Michaelis-Menten equation again."
   ]
  },
  {
   "cell_type": "code",
   "execution_count": 11,
   "metadata": {},
   "outputs": [
    {
     "name": "stdout",
     "output_type": "stream",
     "text": [
      "The rate of the toxic pathway is 11.928 uM/min\n"
     ]
    }
   ],
   "source": [
    "### Cut and pasted from above and changed the numbers. Always steal code.\n",
    "\n",
    "V_max = 2000   ### uM/min\n",
    "KM = 1000        ### uM\n",
    "S = 6.0        ### uM   ### NOTE: KM must be in same units as the substrate concentration\n",
    "\n",
    "v_toxic = V_max * S / (S + KM)  ### NOTE: rate will be in the same units as Vmax\n",
    "\n",
    "print(f\"The rate of the toxic pathway is {v_toxic:0.3f} uM/min\")"
   ]
  },
  {
   "cell_type": "markdown",
   "metadata": {},
   "source": [
    "## Question #7\n",
    "\n",
    "What is the percent of acetaminophen that is directed down the toxic route when the liver concentration of 6.0 µM?\n",
    "\n",
    "Answer is straighforward..."
   ]
  },
  {
   "cell_type": "code",
   "execution_count": 12,
   "metadata": {},
   "outputs": [
    {
     "name": "stdout",
     "output_type": "stream",
     "text": [
      "The rate of the toxic pathway is 3.052 %\n"
     ]
    }
   ],
   "source": [
    "total_rate = v_toxic + v\n",
    "\n",
    "Percent_toxic = v_toxic / total_rate \n",
    "\n",
    "print(f\"The rate of the toxic pathway is {Percent_toxic * 100:0.3f} %\")"
   ]
  },
  {
   "cell_type": "markdown",
   "metadata": {},
   "source": [
    "## Question #8, 9, 10\n",
    "\n",
    "- The glucuronosyltransferase that helps convert acetaminophen to a soluble form that is easily excreted in urine has a Vmax of 1000 µM/min and a KM of 10 µM. What is the rate of glucuronidation when the concentration of acetaminophen in the liver cell is 400 µM?\n",
    "\n",
    "- The cytochrome P450 that helps convert acetaminophen to a toxic product has a Vmax of 2000 µM/min and a KM of 1000 µM. What is the rate of hydroxylation when the concentration of acetaminophen in the liver cell is 400 µM?\n",
    "\n",
    "- What is the percent of acetaminophen that is directed down the toxic route when the liver concentration of 400 µM?\n",
    "\n",
    "Now we begin a series of questions that is exactly the same as above except we are at a higher concentration of acetominophen. I will just copy all the code above and use it again with changed numbers."
   ]
  },
  {
   "cell_type": "code",
   "execution_count": 13,
   "metadata": {},
   "outputs": [
    {
     "name": "stdout",
     "output_type": "stream",
     "text": [
      "The rate is 975.610 uM/min\n",
      "The rate of the toxic pathway is 571.429 uM/min\n",
      "The rate of the toxic pathway is 36.937 %\n"
     ]
    }
   ],
   "source": [
    "### Question 8\n",
    "\n",
    "V_max = 1000   ### uM/min\n",
    "KM = 10        ### uM\n",
    "S = 400        ### uM   ### NOTE: KM must be in same units as the substrate concentration\n",
    "\n",
    "v = V_max * S / (S + KM)  ### NOTE: rate will be in the same units as Vmax\n",
    "\n",
    "print(f\"The rate is {v:0.3f} uM/min\")\n",
    "\n",
    "### Question 9\n",
    "\n",
    "V_max = 2000   ### uM/min\n",
    "KM = 1000        ### uM\n",
    "S = 400        ### uM   ### NOTE: KM must be in same units as the substrate concentration\n",
    "\n",
    "v_toxic = V_max * S / (S + KM)  ### NOTE: rate will be in the same units as Vmax\n",
    "\n",
    "print(f\"The rate of the toxic pathway is {v_toxic:0.3f} uM/min\")\n",
    "\n",
    "### Question 10\n",
    "\n",
    "total_rate = v_toxic + v\n",
    "\n",
    "Percent_toxic = v_toxic / total_rate \n",
    "\n",
    "print(f\"The rate of the toxic pathway is {Percent_toxic * 100:0.3f} %\")"
   ]
  },
  {
   "cell_type": "markdown",
   "metadata": {},
   "source": [
    "## Observations\n",
    "\n",
    "Ouch! at therapeutic levels of acetominophen about 3% is displosed of via the toxic pathway. Long term use of acetominophen can damage your liver but wont kill you immediately. And what you did to deserve that headache was probably much more harmful to your liver than the Tylenol.\n",
    "\n",
    "But at overdose concentrations we see that about 40% goes via the toxic pathway.  This might be enough to cause acute damage. Follow the instructions on the label!"
   ]
  }
 ],
 "metadata": {
  "kernelspec": {
   "display_name": "base",
   "language": "python",
   "name": "python3"
  },
  "language_info": {
   "codemirror_mode": {
    "name": "ipython",
    "version": 3
   },
   "file_extension": ".py",
   "mimetype": "text/x-python",
   "name": "python",
   "nbconvert_exporter": "python",
   "pygments_lexer": "ipython3",
   "version": "3.11.4"
  }
 },
 "nbformat": 4,
 "nbformat_minor": 2
}
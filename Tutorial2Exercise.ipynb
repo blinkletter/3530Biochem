{
 "cells": [
  {
   "cell_type": "markdown",
   "id": "f4387b72",
   "metadata": {},
   "source": [
    "# Acid-Base Equilibria Math\n",
    "\n",
    "This is a Jupyter notebook using interactive Python. You can install this tool using the Anaconda package available at https://www.anaconda.com/products/distribution if you wish.\n",
    "\n",
    "We can use this notebook as a calculator. The benefit is that all our calculations can be documented so that we can easily find errors or make changes without starting from the beginning. I recommend using Python notebooks for all your math. There are thousands of tools available through Python and we can go from the simple math of this notebook all the way to powerful data science and AI projects.\n",
    "\n",
    "We will demonstrate the last three problems from the Math Ideas Part 1 document available on the moodle site."
   ]
  },
  {
   "cell_type": "markdown",
   "id": "f6ceabff",
   "metadata": {},
   "source": [
    "## Problem 8 from Math Ideas\n",
    "\n",
    "I add 10 mL of 0.1 M HCl to 170 mL of pure neutral water. What is the *p*H of this new solution? "
   ]
  },
  {
   "cell_type": "code",
   "execution_count": 5,
   "id": "88b7788a",
   "metadata": {},
   "outputs": [
    {
     "name": "stdout",
     "output_type": "stream",
     "text": [
      "the pH is 2.26\n"
     ]
    }
   ],
   "source": [
    "import numpy as np    # import additional math tools\n",
    "\n",
    "volumeHCL = 10 # mL\n",
    "volumeHCL = volumeHCL/1000  # convert mL to L\n",
    "concHCL = 0.1 # moles/L\n",
    "\n",
    "volumeWater = 170 # mL\n",
    "volumeWater = volumeWater/1000  # convert mL to L\n",
    "\n",
    "NewConcHCL = volumeHCL * concHCL / (volumeHCL + volumeWater)\n",
    "\n",
    "pH = -np.log10(NewConcHCL)\n",
    "\n",
    "print(f\"the pH is {pH:0.2f}\")"
   ]
  },
  {
   "cell_type": "code",
   "execution_count": 2,
   "id": "360bad98",
   "metadata": {},
   "outputs": [
    {
     "data": {
      "text/plain": [
       "2.255272505103306"
      ]
     },
     "execution_count": 2,
     "metadata": {},
     "output_type": "execute_result"
    }
   ],
   "source": [
    "# You dont have to use the fancy print command above.  You can just call the value directly if you want.\n",
    "\n",
    "pH"
   ]
  },
  {
   "cell_type": "markdown",
   "id": "3871e8c1",
   "metadata": {},
   "source": [
    "## Problem 9 from Math Ideas\n",
    "\n",
    "I have 230 mL of a solution of pure water with enough HCl added to make the *p*H equal to 4.5. I add 10 mL of a 0.15 M NaOH solution. What is the *p*H now? "
   ]
  },
  {
   "cell_type": "code",
   "execution_count": 3,
   "id": "01d67560",
   "metadata": {},
   "outputs": [
    {
     "name": "stdout",
     "output_type": "stream",
     "text": [
      "the pH is 11.79\n"
     ]
    }
   ],
   "source": [
    "pHsolution = 4.5\n",
    "volumeSolution = 230 # mL\n",
    "volumeSolution = volumeSolution/1000 # convert mL to L\n",
    "concH = 10**(-pHsolution) # Units will be moles/L\n",
    "\n",
    "molesAcidInSolution = concH * volumeSolution\n",
    "\n",
    "volumeNaOHsolution = 10 # mL\n",
    "volumeNaOHsolution = volumeNaOHsolution/1000 # convert mL to L\n",
    "concNaOHsolution = 0.15 # moles/L\n",
    "\n",
    "molesNaOH = volumeNaOHsolution * concNaOHsolution\n",
    "\n",
    "molesBase = molesNaOH - molesAcidInSolution\n",
    "\n",
    "concBase = molesBase / (volumeSolution + volumeNaOHsolution)\n",
    "\n",
    "pOH = -np.log10(concBase)\n",
    "pH = 14 - pOH\n",
    "\n",
    "print(f\"the pH is {pH:0.2f}\")"
   ]
  },
  {
   "cell_type": "markdown",
   "id": "99a0d138",
   "metadata": {},
   "source": [
    "## Problem 10 from Math Ideas\n",
    "\n",
    "I have 230 mL of a solution of 0.2 M acetic acid and have added enough sodium hydroxide solution to set the *p*H to 4.5. The *p*K<sub>a</sub> of acetic acid is 4.7. \n",
    "\n",
    "1. What are the concentrations of acetate ion and acetic acid in this solution? \n",
    "2. I add 10 mL of a 0.15 M NaOH solution. What is the *p*H now? \n"
   ]
  },
  {
   "cell_type": "code",
   "execution_count": 4,
   "id": "b36eedf1",
   "metadata": {},
   "outputs": [
    {
     "name": "stdout",
     "output_type": "stream",
     "text": [
      "the A/AH ratio is 0.631\n",
      "molesNaOH = 0.0015\n",
      "molesA = 0.018\n",
      "molesHA = 0.028\n",
      "It will take 188.0 mL of NaOH solution to overcome the buffer completely\n",
      "After NaOH molesA = 0.019\n",
      "After NaOH molesHA = 0.027\n",
      "After NaOH the A/AH ratio is = 0.723\n",
      "\n",
      "the pH is 4.56\n"
     ]
    }
   ],
   "source": [
    "pHsolution = 4.5\n",
    "volumeSolution = 230 # mL\n",
    "volumeSolution = volumeSolution/1000 # convert mL to L\n",
    "concAceticAcid = 0.2 # moles/L\n",
    "molesAceticAcid = concAceticAcid * volumeSolution\n",
    "\n",
    "pKaAceticAcid = 4.7\n",
    "\n",
    "# Use Henderson-Hasselbalch\n",
    "# pH = pKa + log10(A/HA)\n",
    "#\n",
    "# A/HA = 10**(pH - pKa)\n",
    "\n",
    "A_HA_ratio = 10**(pHsolution - pKaAceticAcid)\n",
    "print(f\"the A/AH ratio is {A_HA_ratio:0.3f}\")\n",
    "\n",
    "moleFractionA = A_HA_ratio/(A_HA_ratio+1)\n",
    "moleFractionHA = 1/(A_HA_ratio+1)\n",
    "\n",
    "volumeNaOHsolution = 10 # mL\n",
    "volumeNaOHsolution = volumeNaOHsolution/1000 # convert mL to L\n",
    "concNaOHsolution = 0.15 # moles/L\n",
    "\n",
    "molesNaOH = volumeNaOHsolution * concNaOHsolution\n",
    "print(f\"molesNaOH = {molesNaOH:0.4f}\")\n",
    "\n",
    "\n",
    "molesA = molesAceticAcid * moleFractionA\n",
    "molesHA = molesAceticAcid * moleFractionHA\n",
    "print(f\"molesA = {molesA:0.3f}\")\n",
    "print(f\"molesHA = {molesHA:0.3f}\")\n",
    "print(f\"It will take {molesHA/concNaOHsolution*1000:0.1f} mL of NaOH solution to overcome the buffer completely\")\n",
    "\n",
    "molesA = molesA + molesNaOH\n",
    "molesHA = molesHA - molesNaOH\n",
    "\n",
    "print(f\"After NaOH molesA = {molesA:0.3f}\")\n",
    "print(f\"After NaOH molesHA = {molesHA:0.3f}\")\n",
    "\n",
    "A_HA_ratio = molesA/molesHA\n",
    "print(f\"After NaOH the A/AH ratio is = {A_HA_ratio:0.3f}\")\n",
    "\n",
    "\n",
    "pH = pKaAceticAcid + np.log10(A_HA_ratio)\n",
    "print()\n",
    "print(f\"the pH is {pH:0.2f}\")"
   ]
  }
 ],
 "metadata": {
  "kernelspec": {
   "display_name": "Python 3",
   "language": "python",
   "name": "python3"
  },
  "language_info": {
   "codemirror_mode": {
    "name": "ipython",
    "version": 3
   },
   "file_extension": ".py",
   "mimetype": "text/x-python",
   "name": "python",
   "nbconvert_exporter": "python",
   "pygments_lexer": "ipython3",
   "version": "3.9.6 (default, Oct 18 2022, 12:41:40) \n[Clang 14.0.0 (clang-1400.0.29.202)]"
  },
  "vscode": {
   "interpreter": {
    "hash": "31f2aee4e71d21fbe5cf8b01ff0e069b9275f58929596ceb00d14d90e3e16cd6"
   }
  }
 },
 "nbformat": 4,
 "nbformat_minor": 5
}

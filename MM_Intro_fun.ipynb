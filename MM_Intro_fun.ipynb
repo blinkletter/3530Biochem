{
 "cells": [
  {
   "cell_type": "markdown",
   "metadata": {},
   "source": [
    "# Enzyme Kinetics with Inhibitors\n",
    "\n",
    "In this workbook we will introduce simple *Python* commands for exploring enzyme kinetics with inhibition.\n",
    "\n",
    "So the famous Michaelis-menten equation is\n",
    "\n",
    "$$ \\nu = V_{max} \\frac{[S]}{K_M + [S]} $$\n",
    "\n",
    "The terms $V_{max}$ and $K_M$ can be affected by the presence of inhibitors. So perhaps we should refer to the values as \"observed values\"; changed from the true values by inhibitors (or activators).\n",
    "\n",
    "$$ \\nu = V_{max}^{obs} \\frac{[S]}{K_M^{obs} + [S]} $$\n",
    "\n",
    "You will have learned that competitve inhibitors compete for the active site and affect the apparent affinity for the substrate but do not change the chemistry of the enzyme and so do not affect $k_{cat}$. As a result, the value for $V_{max}$ will be unchanged. **In the case of a competitive inhibitor** we observe $V_{max}$ is unchanged and that...\n",
    "\n",
    "$$K_{M}^{obs} = K_{M}\\cdot \\left(1+\\frac{[I]}{K_i}\\right)$$\n",
    "\n",
    "...where $K_i$ is the dissociation constant for the inhibitor and enzyme and $[I]$ is the concentration of the inhibitor.\n",
    "\n",
    "In the case of a non-competitve inhibitor we observe $K_M$ is unchanged and that...\n",
    "\n",
    "$$V_{max}^{obs} = \\frac{V_{max}}{1+\\frac{[I]}{K_i}}$$\n"
   ]
  },
  {
   "cell_type": "code",
   "execution_count": 1,
   "metadata": {
    "tags": [
     "hide-input"
    ]
   },
   "outputs": [
    {
     "data": {
      "text/plain": [
       "[<matplotlib.lines.Line2D at 0x10ee072d0>]"
      ]
     },
     "execution_count": 1,
     "metadata": {},
     "output_type": "execute_result"
    },
    {
     "data": {
      "image/png": "[encoded data removed]",
      "text/plain": [
       "<Figure size 640x480 with 1 Axes>"
      ]
     },
     "metadata": {},
     "output_type": "display_data"
    }
   ],
   "source": [
    "########################\n",
    "## Problem 7.7\n",
    "########################\n",
    "\n",
    "\n",
    "import numpy as np \n",
    "from matplotlib import pyplot as plt\n",
    "\n",
    "\n",
    "#######################\n",
    "## Facts from problem\n",
    "#######################\n",
    "\n",
    "mw_enzyme = 29600 ## g/mole \n",
    "g_enzyme = 1E-9   ## g  -  amount of enzyme added to tube\n",
    "volume = 10       ## mL -  volume of solution\n",
    "time = 1          ## min. - time period at observation\n",
    "\n",
    "### Table of concentration of penicillin (substrate) and amount consumed after time period\n",
    "\n",
    "### Conc (uM), nanomoles\n",
    "data = [[1,   0.11],\n",
    "        [3,   0.25],\n",
    "        [5,   0.34],\n",
    "        [10,  0.45],\n",
    "        [30,  0.58],\n",
    "        [50,  0.61]]\n",
    "\n",
    "data = np.array(data)   ### Convert list of lists to array.\n",
    "                        ### NumPy arrays have more math function available\n",
    "\n",
    "### Collect concetrations and amount reacted data as two separate arrays\n",
    "\n",
    "conc_penicillin = data[:,0]   ### uM     - all rows, column 0\n",
    "amount_hydrolyzed = data[:,1] ### nmoles - all rows, column 1\n",
    "\n",
    "# rate = nanomoles / (mL * 1L/1000mL) / (minutes *  60 seconds/minute)\n",
    "\n",
    "rate = amount_hydrolyzed / (volume * (1/1000)) / (time * 60/1)  ## nanomoles/L/second\n",
    "\n",
    "x = conc_penicillin\n",
    "y = rate\n",
    "\n",
    "plt.plot(x,y,\"o\")"
   ]
  },
  {
   "cell_type": "code",
   "execution_count": 5,
   "metadata": {},
   "outputs": [
    {
     "data": {
      "image/png": "[encoded data removed]",
      "text/plain": [
       "<Figure size 400x320 with 1 Axes>"
      ]
     },
     "metadata": {},
     "output_type": "display_data"
    }
   ],
   "source": [
    "## fancy plot style sheet\n",
    "github_location_styles = \"https://raw.githubusercontent.com/blinkletter/LFER-QSAR/main/styles/\"\n",
    "plt.style.use(github_location_styles + \"tufte.mplstyle\")        \n",
    "plt.style.use(github_location_styles + \"S2_classic2.mplstyle\")        \n",
    "\n",
    "\n",
    "fig, ax = plt.subplots(nrows=1, ncols=1, figsize=(5,4))  \n",
    "ax.margins(x=.07, y=.07, tight=True)       # add 7% empty space around outside of plot area   \n",
    "\n",
    "############################\n",
    "### Set labels and scale \n",
    "############################\n",
    "\n",
    "ax.set(\n",
    "#    title=\"pH rate profilr\",       \n",
    "          ylabel=r\"$\\nu\\ /nM s^{-1}$\", \n",
    "          xlabel=r\"$[S]\\ /\\mu M]$\",                \n",
    "#          xlim=[-1.5,12.5],                  \n",
    "#          ylim=[-6,-1]\n",
    "         )\n",
    "\n",
    "#########################################\n",
    "### Plot the data                     \n",
    "#########################################\n",
    "\n",
    "\n",
    "#plt.vlines([1,3.8,11.5],-6,-1, colors = \"lightgray\", linewidth = 0.5)\n",
    "\n",
    "ax.scatter(x,y, s=64, color=\"white\", zorder=2)\n",
    "ax.scatter(x,y, s=32, color=\"black\", zorder=2)\n",
    "ax.scatter(x,y, s=16, color=\"white\", alpha = 1.0, zorder=2)\n",
    "\n",
    "plt.show()"
   ]
  },
  {
   "cell_type": "code",
   "execution_count": null,
   "metadata": {},
   "outputs": [],
   "source": []
  }
 ],
 "metadata": {
  "kernelspec": {
   "display_name": "base",
   "language": "python",
   "name": "python3"
  },
  "language_info": {
   "codemirror_mode": {
    "name": "ipython",
    "version": 3
   },
   "file_extension": ".py",
   "mimetype": "text/x-python",
   "name": "python",
   "nbconvert_exporter": "python",
   "pygments_lexer": "ipython3",
   "version": "3.11.4"
  }
 },
 "nbformat": 4,
 "nbformat_minor": 2
}

{
 "cells": [
  {
   "cell_type": "markdown",
   "metadata": {},
   "source": [
    "# Modeling pH Curved\n",
    "\n",
    "## Titration of HCl in Water\n",
    "\n",
    "Let us consider the tiration of a strong acid in water using a solution of a stron base as the titrant. The usual example is an unknown HCl solution titrated by an NaOH solution of known concentration.\n",
    "\n",
    "I add 10 mL of 1.2 M HCl to enough water to create a total volume of 100 mL. We can easily calculate how many mL of a 0.100 M solution of NaOH are required to reach the endpoint. But what does the titration look like if I chose to plot pH vs. volume NaOH added?\n",
    "\n",
    "## The Initial pH\n",
    "\n",
    "Neutral water has a pH value of 7. Adding the HCl will increase the concentration of hydronium ion. The new pH can be calculated as in the code below. The moles of titrant needed to return to pH 7 will be equal to the moles of acid added. "
   ]
  },
  {
   "cell_type": "code",
   "execution_count": 13,
   "metadata": {
    "tags": [
     "hide-input"
    ]
   },
   "outputs": [
    {
     "name": "stdout",
     "output_type": "stream",
     "text": [
      "The moles of H+ in 100 mL of neutral water is 0.0000000100 moles\n",
      "The moles of H+ in 10 mL of HCl aliquote is 0.012 moles\n",
      "The total moles of H+ in 100 mL of sample is 0.0120000100 moles\n",
      "Maybe we can ignore the initial H+ in neutral water when adding acid?\n",
      "\n",
      "Concentration of H+ in sample is 0.1200 moles/L\n",
      "Initial pH of sample is 0.9208\n"
     ]
    }
   ],
   "source": [
    "import numpy as np\n",
    "from matplotlib import pyplot as plt\n",
    "\n",
    "\n",
    "\n",
    "######################\n",
    "## Define values\n",
    "######################\n",
    "\n",
    "conc_HCl_stock_solution = 1.2 # moles/L\n",
    "volume_HCl_aliquote = 10 # mL\n",
    "total_volume_sample = 100 # mL\n",
    "initial_pH_value = 7\n",
    "\n",
    "## convert values to standard SI units\n",
    "\n",
    "volume_HCl_aliquote = volume_HCl_aliquote * 1/1000  # 1L/1000mL\n",
    "total_volume_sample = total_volume_sample * 1/1000  # 1L/1000mL\n",
    "\n",
    "#######################\n",
    "## Calculate concentration and pH of sample\n",
    "#######################\n",
    "\n",
    "initial_conc_H = 10 ** -initial_pH_value  ## convert pH to [H]\n",
    "initial_moles_H_in_neutral_sample = initial_conc_H * total_volume_sample\n",
    "\n",
    "moles_HCl_added = volume_HCl_aliquote * conc_HCl_stock_solution\n",
    "\n",
    "final_moles_H_in_sample = initial_moles_H_in_neutral_sample + moles_HCl_added\n",
    "\n",
    "concentration_of_H_in_sample = final_moles_H_in_sample / total_volume_sample\n",
    "pH_sample_initial = -np.log10(concentration_of_H_in_sample)\n",
    "\n",
    "#######################\n",
    "## Print out values for inspection\n",
    "#######################\n",
    "\n",
    "print(f\"The moles of H+ in 100 mL of neutral water is {initial_moles_H_in_neutral_sample:0.10f} moles\")\n",
    "print(f\"The moles of H+ in 10 mL of HCl aliquote is {moles_HCl_added:0.3f} moles\")\n",
    "print(f\"The total moles of H+ in 100 mL of sample is {final_moles_H_in_sample:0.10f} moles\")\n",
    "print(\"Maybe we can ignore the initial H+ in neutral water when adding acid?\")\n",
    "print()\n",
    "print(f\"Concentration of H+ in sample is {concentration_of_H_in_sample:0.4f} moles/L\")\n",
    "print(f\"Initial pH of sample is {pH_sample_initial:0.4f}\")"
   ]
  },
  {
   "cell_type": "markdown",
   "metadata": {},
   "source": [
    "## Adding Titrant\n",
    "\n",
    "It is easier to calculate the titrant that must be added to change the pH to a given value compared to the pH after a set amount of titrant is added.\n",
    "\n",
    "The total amount of base added to a system ($B_T$) will be the total of the free hydroxide concentration ($OH^-$) and the change in concentration of the deprotonated acid ($A$). We can say that...\n",
    "\n",
    "$$ B_T = OH^- + A $$\n",
    "\n",
    "The free concentration of hydroxide gives us the observed concentration of hydronium ion (and thus we would have the pH) by using the water product, $K_W$.\n",
    "\n",
    "$$K_W = H^+ \\cdot OH^-$$\n",
    "\n",
    "In the case of a strong acid the amount of the basic form is equal to the amount of acid added. HCl completely dissociates to hydronium and chloride ion. So we can say that the amount of conjugate base present will always be equal to the amount of strong acid added. We can state that \n",
    "\n",
    "$$ HCl_t = HCl + Cl^- $$\n",
    "\n",
    "where $HCl_t$ is the concentration of acid added.\n",
    "\n",
    "We will now combine these equation to state an equation where we can calculate the amount of base that is added to reach a given value of hydronium ion concentration as we titrate a strong acid.\n",
    "\n",
    "Bt = measured OH + OH needed to titrate acid\n",
    "\n",
    "$$ B_T = \\frac{K_W}{H^+} + (HCl_0 - H^+) $$\n",
    "\n",
    "Thoughts\n",
    "\n",
    "$$ H^+ = HCl - OH_{added} $$\n",
    "$$ B_T = OH^- + A $$\n",
    "$$ H^+ = HCl_0 - OH_{added}\n",
    "\n"
   ]
  },
  {
   "cell_type": "code",
   "execution_count": 26,
   "metadata": {},
   "outputs": [
    {
     "data": {
      "text/plain": [
       "[<matplotlib.lines.Line2D at 0x113cc8bd0>]"
      ]
     },
     "execution_count": 26,
     "metadata": {},
     "output_type": "execute_result"
    },
    {
     "data": {
      "image/png": "[encoded data removed]",
      "text/plain": [
       "<Figure size 640x480 with 1 Axes>"
      ]
     },
     "metadata": {},
     "output_type": "display_data"
    }
   ],
   "source": [
    "pH = 0.9208  ## The initial pH of our sample as determined above\n",
    "Kw = 1E-14\n",
    "\n",
    "pH_list = np.linspace(pH, 13, 100)   # a list of 100 pH values starting at initial pH\n",
    "H_list = 10**(-pH_list)              # a list of [H] values calculted from the pH list\n",
    "\n",
    "Init_H = 10**-pH                     # the amount of HCl added defined the pH \n",
    "\n",
    "Bt = Kw/H_list + (Init_H - H_list)\n",
    "\n",
    "y=pH_list\n",
    "x=Bt\n",
    "plt.plot(x,y,\"o\")"
   ]
  },
  {
   "cell_type": "code",
   "execution_count": 37,
   "metadata": {},
   "outputs": [
    {
     "data": {
      "text/plain": [
       "[<matplotlib.lines.Line2D at 0x13be6d410>]"
      ]
     },
     "execution_count": 37,
     "metadata": {},
     "output_type": "execute_result"
    },
    {
     "data": {
      "image/png": "[encoded data removed]",
      "text/plain": [
       "<Figure size 640x480 with 1 Axes>"
      ]
     },
     "metadata": {},
     "output_type": "display_data"
    }
   ],
   "source": [
    "pH = 0.9208  ## The initial pH of our sample as determined above\n",
    "Kw = 1E-14\n",
    "\n",
    "pH_list = np.linspace(pH, 13, 100)   # a list of 100 pH values starting at initial pH\n",
    "H_list = 10**(-pH_list)              # a list of [H] values calculted from the pH list\n",
    "\n",
    "Init_H = 10**-pH                     # the amount of HCl added defined the pH \n",
    "\n",
    "Bt = Kw/H_list + (Init_H - H_list)\n",
    "\n",
    "\n",
    "y=pH_list\n",
    "x=Bt\n",
    "der = np.gradient( x, y )\n",
    "plt.plot(x,der,\"o\")\n",
    "\n"
   ]
  },
  {
   "cell_type": "code",
   "execution_count": null,
   "metadata": {},
   "outputs": [],
   "source": []
  }
 ],
 "metadata": {
  "kernelspec": {
   "display_name": "base",
   "language": "python",
   "name": "python3"
  },
  "language_info": {
   "codemirror_mode": {
    "name": "ipython",
    "version": 3
   },
   "file_extension": ".py",
   "mimetype": "text/x-python",
   "name": "python",
   "nbconvert_exporter": "python",
   "pygments_lexer": "ipython3",
   "version": "3.11.4"
  }
 },
 "nbformat": 4,
 "nbformat_minor": 2
}
